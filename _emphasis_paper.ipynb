{
 "cells": [
  {
   "cell_type": "markdown",
   "metadata": {},
   "source": []
  },
  {
   "cell_type": "markdown",
   "metadata": {},
   "source": [
    "Interest-Weighted Mean Square Value Error\n",
    "\n",
    "$$ IMSVE(\\theta) = \\sum_{s \\in \\mathcal{S}} d_{\\mu}(s) i(s) \\left( V_{\\pi}(s) - \\theta^{\\top} \\phi(s) \\right)^2$$"
   ]
  },
  {
   "cell_type": "markdown",
   "metadata": {},
   "source": [
    "General bootstrapping\n",
    "\n",
    "$\\lambda$-return with state-dependent bootstrapping and discounting"
   ]
  }
 ],
 "metadata": {
  "kernelspec": {
   "display_name": "Python 3",
   "language": "python",
   "name": "python3"
  },
  "language_info": {
   "codemirror_mode": {
    "name": "ipython",
    "version": 3
   },
   "file_extension": ".py",
   "mimetype": "text/x-python",
   "name": "python",
   "nbconvert_exporter": "python",
   "pygments_lexer": "ipython3",
   "version": "3.4.3"
  }
 },
 "nbformat": 4,
 "nbformat_minor": 0
}
