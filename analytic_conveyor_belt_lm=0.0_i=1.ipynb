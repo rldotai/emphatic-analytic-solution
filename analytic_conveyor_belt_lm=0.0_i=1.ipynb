{
 "cells": [
  {
   "cell_type": "markdown",
   "metadata": {},
   "source": [
    "# TD/ETD Comparison on \"Conveyor Belt\"\n",
    "\n",
    "This notebook contains some comparisons between TD and Emphatic TD on a simple problem under function approximation. \n",
    "\n",
    "We identify the solutions each algorithm converges to using the matrix operator equations for each algorithm, and compare them to the optimal approximation (as found by the least squares solution)."
   ]
  },
  {
   "cell_type": "code",
   "execution_count": 1,
   "metadata": {
    "collapsed": true
   },
   "outputs": [],
   "source": [
    "import numpy as np\n",
    "import pandas as pd\n",
    "from functools import reduce\n",
    "from numpy import dot\n",
    "from numpy.linalg import pinv\n",
    "\n",
    "from features import *\n",
    "from mdptools import *\n",
    "from solvers import td_solution, etd_solution, exact_solution"
   ]
  },
  {
   "cell_type": "code",
   "execution_count": 2,
   "metadata": {
    "collapsed": true
   },
   "outputs": [],
   "source": [
    "from IPython.display import display"
   ]
  },
  {
   "cell_type": "code",
   "execution_count": 3,
   "metadata": {
    "collapsed": true
   },
   "outputs": [],
   "source": [
    "def report(P, R, phi_func, gm_func, lm_func, i_func):\n",
    "    \"\"\"Function for collating and comparing the various solutions.\"\"\"\n",
    "    states = state_vectors(pmat)\n",
    "    nn = len(find_nonterminals(P))\n",
    "    X = feature_matrix(states, phi_func)\n",
    "    V = exact_solution(P, R, gm_func)\n",
    "    \n",
    "    # Best approximation (least squares)\n",
    "    w_approx, *_ = np.linalg.lstsq(X, V)\n",
    "    V_approx = np.dot(X, w_approx)\n",
    "    E_approx = np.sum((V - V_approx)**2)/nn\n",
    "    \n",
    "    # TD\n",
    "    w_td = td_solution(P, R, phi_func, gm_func, lm_func)\n",
    "    V_td = np.dot(X, w_td)\n",
    "    E_td = np.sum((V - V_td)**2)/nn\n",
    "    \n",
    "    # Emphatic TD fixed point\n",
    "    w_etd = etd_solution(P, R, phi_func, gm_func, lm_func, i_func)\n",
    "    V_etd = np.dot(X, w_etd)\n",
    "    E_etd = np.sum((V - V_etd)**2)/nn\n",
    "    \n",
    "    dct = {\"TD\": {\"weights\": w_td, \"MSE\": E_td},\n",
    "           \"ETD\": {\"weights\": w_etd, \"MSE\": E_etd},\n",
    "           \"Least-Squares\": {\"weights\": w_approx, \"MSE\": E_approx},\n",
    "           }\n",
    "    \n",
    "    df = pd.DataFrame(dct, \n",
    "                      index=[\"weights\", \"MSE\"],\n",
    "                      columns=[\"Least-Squares\", \"TD\", \"ETD\"])\n",
    "    \n",
    "    # Additional Information\n",
    "    print(\"Expected Reward:\")\n",
    "    print(R)\n",
    "    \n",
    "    print(\"Feature Matrix:\")\n",
    "    print(X)\n",
    "    \n",
    "    print(\"True Values:\")\n",
    "    print(V)\n",
    "    \n",
    "    print(\"Best Approximation:\")\n",
    "    print(V_approx)\n",
    "    \n",
    "    print(\"TD Approximation:\")\n",
    "    print(V_td)\n",
    "    \n",
    "    print(\"ETD Approximation:\")\n",
    "    print(V_etd)\n",
    "    \n",
    "    return df"
   ]
  },
  {
   "cell_type": "markdown",
   "metadata": {},
   "source": [
    "# Conveyor Belt\n",
    "\n",
    "An environment resembling a conveyor belt moving to the \"right\".\n",
    "\n",
    "* Here, states are indexed from 0 to N-1, with state N-1 being the terminal state and state 0 being the initial state.\n",
    "* In terminal states, the feature vector $x(s)$ is the zero vector, the reward $r(s)$ is zero, and $\\gamma(s) = \\lambda(s) = i(s) = 0$.\n",
    "* The environment is undiscounted, so $\\gamma(s) = 1$ for $s$ non-terminal.\n",
    "* For these experiments, $\\lambda(s) = 0$ for all states $s$.\n",
    "* Interest is constant and uniform for each state; $i(s) = 1$ for $s$ non-terminal."
   ]
  },
  {
   "cell_type": "code",
   "execution_count": 4,
   "metadata": {
    "collapsed": true
   },
   "outputs": [],
   "source": [
    "def conveyor_belt_matrix(ns):\n",
    "    transitions = []\n",
    "    # non-terminal states\n",
    "    for i in range(ns-1):\n",
    "        tmp = np.zeros(ns)\n",
    "        tmp[i+1] = 1\n",
    "        transitions.append(tmp)\n",
    "    # terminal state at end of conveyor belt\n",
    "    tmp = np.zeros(ns)\n",
    "    tmp[-1] = 1\n",
    "    transitions.append(tmp)\n",
    "    return np.array(transitions)"
   ]
  },
  {
   "cell_type": "markdown",
   "metadata": {},
   "source": [
    "Here we examine the case with two nonterminal states (N=3)."
   ]
  },
  {
   "cell_type": "code",
   "execution_count": 5,
   "metadata": {
    "collapsed": true
   },
   "outputs": [],
   "source": [
    "# Common parts of problem specification\n",
    "num_states = 3\n",
    "pmat = conveyor_belt_matrix(num_states)\n",
    "states = state_vectors(pmat)\n",
    "indices = state_indices(pmat)\n",
    "terminals = [as_tuple(s) for s in find_terminals(pmat)]\n",
    "gmfunc = Constant(1.0, terminals=terminals)\n",
    "lmfunc = Constant(0.0, terminals=terminals)\n",
    "ifunc = Constant(1.0, terminals=terminals)"
   ]
  },
  {
   "cell_type": "markdown",
   "metadata": {},
   "source": [
    "## Constant Reward, Constant Feature"
   ]
  },
  {
   "cell_type": "markdown",
   "metadata": {},
   "source": [
    "* r(s) = 1 for s non-terminal\n",
    "* x(s) = 1 for x non-terminal"
   ]
  },
  {
   "cell_type": "code",
   "execution_count": 6,
   "metadata": {
    "collapsed": true
   },
   "outputs": [],
   "source": [
    "rfunc =  Constant(1.0, terminals=terminals)\n",
    "rvec = np.array([rfunc(s) for s in states])\n",
    "phi = Wrap(Bias(), terminals=terminals)\n",
    "\n",
    "# Exact solution for returns\n",
    "V = exact_solution(pmat, rvec, gmfunc)\n",
    "\n",
    "# Best approximation (least squares)\n",
    "fmat = feature_matrix(states, phi)\n",
    "V_approx, *_ = np.linalg.lstsq(fmat, V)\n",
    "\n",
    "# TD fixed point\n",
    "V_td = td_solution(pmat, rvec, phi, gmfunc, lmfunc)\n",
    "\n",
    "# Emphatic TD fixed point\n",
    "V_etd = etd_solution(pmat, rvec, phi, gmfunc, lmfunc, ifunc)"
   ]
  },
  {
   "cell_type": "code",
   "execution_count": 7,
   "metadata": {
    "collapsed": false
   },
   "outputs": [
    {
     "name": "stdout",
     "output_type": "stream",
     "text": [
      "Expected Reward:\n",
      "[ 1.  1.  0.]\n",
      "Feature Matrix:\n",
      "[[ 1.]\n",
      " [ 1.]\n",
      " [ 0.]]\n",
      "True Values:\n",
      "[ 2.  1.  0.]\n",
      "Best Approximation:\n",
      "[ 1.5  1.5  0. ]\n",
      "TD Approximation:\n",
      "[ 2.  2.  0.]\n",
      "ETD Approximation:\n",
      "[ 1.5  1.5  0. ]\n"
     ]
    },
    {
     "data": {
      "text/html": [
       "<div style=\"max-height:1000px;max-width:1500px;overflow:auto;\">\n",
       "<table border=\"1\" class=\"dataframe\">\n",
       "  <thead>\n",
       "    <tr style=\"text-align: right;\">\n",
       "      <th></th>\n",
       "      <th>Least-Squares</th>\n",
       "      <th>TD</th>\n",
       "      <th>ETD</th>\n",
       "    </tr>\n",
       "  </thead>\n",
       "  <tbody>\n",
       "    <tr>\n",
       "      <th>weights</th>\n",
       "      <td> [1.5]</td>\n",
       "      <td> [2.0]</td>\n",
       "      <td> [1.5]</td>\n",
       "    </tr>\n",
       "    <tr>\n",
       "      <th>MSE</th>\n",
       "      <td>  0.25</td>\n",
       "      <td>   0.5</td>\n",
       "      <td>  0.25</td>\n",
       "    </tr>\n",
       "  </tbody>\n",
       "</table>\n",
       "</div>"
      ],
      "text/plain": [
       "        Least-Squares     TD    ETD\n",
       "weights         [1.5]  [2.0]  [1.5]\n",
       "MSE              0.25    0.5   0.25"
      ]
     },
     "metadata": {},
     "output_type": "display_data"
    }
   ],
   "source": [
    "rfunc =  Constant(1.0, terminals=terminals)\n",
    "rvec = np.array([rfunc(s) for s in states])\n",
    "phi = Wrap(Bias(), terminals=terminals)\n",
    "\n",
    "df = report(pmat, rvec, phi, gmfunc, lmfunc, ifunc)\n",
    "\n",
    "display(df)"
   ]
  },
  {
   "cell_type": "code",
   "execution_count": 8,
   "metadata": {
    "collapsed": false
   },
   "outputs": [
    {
     "name": "stdout",
     "output_type": "stream",
     "text": [
      "\\begin{tabular}{llll}\n",
      "\\toprule\n",
      "{} & Least-Squares &     TD &    ETD \\\\\n",
      "\\midrule\n",
      "weights &         [1.5] &  [2.0] &  [1.5] \\\\\n",
      "MSE     &          0.25 &    0.5 &   0.25 \\\\\n",
      "\\bottomrule\n",
      "\\end{tabular}\n",
      "\n"
     ]
    }
   ],
   "source": [
    "print(df.to_latex())"
   ]
  },
  {
   "cell_type": "markdown",
   "metadata": {},
   "source": [
    "## Increasing Reward, Constant Feature"
   ]
  },
  {
   "cell_type": "markdown",
   "metadata": {},
   "source": [
    "* r(s) = s+1 for s non-terminal\n",
    "* x(s) = 1 for x non-terminal"
   ]
  },
  {
   "cell_type": "code",
   "execution_count": 9,
   "metadata": {
    "collapsed": false
   },
   "outputs": [
    {
     "name": "stdout",
     "output_type": "stream",
     "text": [
      "Expected Reward:\n",
      "[ 1.  2.  0.]\n",
      "Feature Matrix:\n",
      "[[ 1.]\n",
      " [ 1.]\n",
      " [ 0.]]\n",
      "True Values:\n",
      "[ 3.  2.  0.]\n",
      "Best Approximation:\n",
      "[ 2.5  2.5  0. ]\n",
      "TD Approximation:\n",
      "[ 3.  3.  0.]\n",
      "ETD Approximation:\n",
      "[ 2.5  2.5  0. ]\n"
     ]
    },
    {
     "data": {
      "text/html": [
       "<div style=\"max-height:1000px;max-width:1500px;overflow:auto;\">\n",
       "<table border=\"1\" class=\"dataframe\">\n",
       "  <thead>\n",
       "    <tr style=\"text-align: right;\">\n",
       "      <th></th>\n",
       "      <th>Least-Squares</th>\n",
       "      <th>TD</th>\n",
       "      <th>ETD</th>\n",
       "    </tr>\n",
       "  </thead>\n",
       "  <tbody>\n",
       "    <tr>\n",
       "      <th>weights</th>\n",
       "      <td> [2.5]</td>\n",
       "      <td> [3.0]</td>\n",
       "      <td> [2.5]</td>\n",
       "    </tr>\n",
       "    <tr>\n",
       "      <th>MSE</th>\n",
       "      <td>  0.25</td>\n",
       "      <td>   0.5</td>\n",
       "      <td>  0.25</td>\n",
       "    </tr>\n",
       "  </tbody>\n",
       "</table>\n",
       "</div>"
      ],
      "text/plain": [
       "        Least-Squares     TD    ETD\n",
       "weights         [2.5]  [3.0]  [2.5]\n",
       "MSE              0.25    0.5   0.25"
      ]
     },
     "metadata": {},
     "output_type": "display_data"
    }
   ],
   "source": [
    "_rfunc = lambda x: basis2int(x) + 1\n",
    "rfunc =  Parameter(_rfunc, terminals=terminals)\n",
    "rvec = np.array([rfunc(s) for s in states])\n",
    "phi = Wrap(Bias(), terminals=terminals)\n",
    "\n",
    "df = report(pmat, rvec, phi, gmfunc, lmfunc, ifunc)\n",
    "\n",
    "display(df)"
   ]
  },
  {
   "cell_type": "code",
   "execution_count": 10,
   "metadata": {
    "collapsed": false
   },
   "outputs": [
    {
     "name": "stdout",
     "output_type": "stream",
     "text": [
      "\\begin{tabular}{llll}\n",
      "\\toprule\n",
      "{} & Least-Squares &     TD &    ETD \\\\\n",
      "\\midrule\n",
      "weights &         [2.5] &  [3.0] &  [2.5] \\\\\n",
      "MSE     &          0.25 &    0.5 &   0.25 \\\\\n",
      "\\bottomrule\n",
      "\\end{tabular}\n",
      "\n"
     ]
    }
   ],
   "source": [
    "print(df.to_latex())"
   ]
  },
  {
   "cell_type": "markdown",
   "metadata": {},
   "source": [
    "## Decreasing Reward, Constant Feature"
   ]
  },
  {
   "cell_type": "markdown",
   "metadata": {},
   "source": [
    "* r(s) = N-1-s for s non-terminal\n",
    "* x(s) = 1 for x non-terminal"
   ]
  },
  {
   "cell_type": "code",
   "execution_count": 11,
   "metadata": {
    "collapsed": false
   },
   "outputs": [
    {
     "name": "stdout",
     "output_type": "stream",
     "text": [
      "Expected Reward:\n",
      "[ 2.  1.  0.]\n",
      "Feature Matrix:\n",
      "[[ 1.]\n",
      " [ 1.]\n",
      " [ 0.]]\n",
      "True Values:\n",
      "[ 3.  1.  0.]\n",
      "Best Approximation:\n",
      "[ 2.  2.  0.]\n",
      "TD Approximation:\n",
      "[ 3.  3.  0.]\n",
      "ETD Approximation:\n",
      "[ 2.  2.  0.]\n"
     ]
    },
    {
     "data": {
      "text/html": [
       "<div style=\"max-height:1000px;max-width:1500px;overflow:auto;\">\n",
       "<table border=\"1\" class=\"dataframe\">\n",
       "  <thead>\n",
       "    <tr style=\"text-align: right;\">\n",
       "      <th></th>\n",
       "      <th>Least-Squares</th>\n",
       "      <th>TD</th>\n",
       "      <th>ETD</th>\n",
       "    </tr>\n",
       "  </thead>\n",
       "  <tbody>\n",
       "    <tr>\n",
       "      <th>weights</th>\n",
       "      <td> [2.0]</td>\n",
       "      <td> [3.0]</td>\n",
       "      <td> [2.0]</td>\n",
       "    </tr>\n",
       "    <tr>\n",
       "      <th>MSE</th>\n",
       "      <td>     1</td>\n",
       "      <td>     2</td>\n",
       "      <td>     1</td>\n",
       "    </tr>\n",
       "  </tbody>\n",
       "</table>\n",
       "</div>"
      ],
      "text/plain": [
       "        Least-Squares     TD    ETD\n",
       "weights         [2.0]  [3.0]  [2.0]\n",
       "MSE                 1      2      1"
      ]
     },
     "metadata": {},
     "output_type": "display_data"
    }
   ],
   "source": [
    "_rfunc = lambda x: (num_states - basis2int(x) - 1)\n",
    "rfunc =  Parameter(_rfunc, terminals=terminals)\n",
    "rvec = np.array([rfunc(s) for s in states])\n",
    "phi = Wrap(Bias(), terminals=terminals)\n",
    "\n",
    "df = report(pmat, rvec, phi, gmfunc, lmfunc, ifunc)\n",
    "\n",
    "display(df)"
   ]
  },
  {
   "cell_type": "code",
   "execution_count": 12,
   "metadata": {
    "collapsed": false
   },
   "outputs": [
    {
     "name": "stdout",
     "output_type": "stream",
     "text": [
      "\\begin{tabular}{llll}\n",
      "\\toprule\n",
      "{} & Least-Squares &     TD &    ETD \\\\\n",
      "\\midrule\n",
      "weights &         [2.0] &  [3.0] &  [2.0] \\\\\n",
      "MSE     &             1 &      2 &      1 \\\\\n",
      "\\bottomrule\n",
      "\\end{tabular}\n",
      "\n"
     ]
    }
   ],
   "source": [
    "print(df.to_latex())"
   ]
  },
  {
   "cell_type": "markdown",
   "metadata": {},
   "source": [
    "## Constant Reward, Increasing Feature"
   ]
  },
  {
   "cell_type": "markdown",
   "metadata": {},
   "source": [
    "* r(s) = 1 for s non-terminal\n",
    "* x(s) = s+1 for s non-terminal"
   ]
  },
  {
   "cell_type": "code",
   "execution_count": 13,
   "metadata": {
    "collapsed": false
   },
   "outputs": [
    {
     "name": "stdout",
     "output_type": "stream",
     "text": [
      "Expected Reward:\n",
      "[ 1.  1.  0.]\n",
      "Feature Matrix:\n",
      "[[ 1.]\n",
      " [ 2.]\n",
      " [ 0.]]\n",
      "True Values:\n",
      "[ 2.  1.  0.]\n",
      "Best Approximation:\n",
      "[ 0.8  1.6  0. ]\n",
      "TD Approximation:\n",
      "[ 1.  2.  0.]\n",
      "ETD Approximation:\n",
      "[ 0.71428571  1.42857143  0.        ]\n"
     ]
    },
    {
     "data": {
      "text/html": [
       "<div style=\"max-height:1000px;max-width:1500px;overflow:auto;\">\n",
       "<table border=\"1\" class=\"dataframe\">\n",
       "  <thead>\n",
       "    <tr style=\"text-align: right;\">\n",
       "      <th></th>\n",
       "      <th>Least-Squares</th>\n",
       "      <th>TD</th>\n",
       "      <th>ETD</th>\n",
       "    </tr>\n",
       "  </thead>\n",
       "  <tbody>\n",
       "    <tr>\n",
       "      <th>weights</th>\n",
       "      <td> [0.8]</td>\n",
       "      <td> [1.0]</td>\n",
       "      <td> [0.714285714286]</td>\n",
       "    </tr>\n",
       "    <tr>\n",
       "      <th>MSE</th>\n",
       "      <td>   0.9</td>\n",
       "      <td>     1</td>\n",
       "      <td>        0.9183673</td>\n",
       "    </tr>\n",
       "  </tbody>\n",
       "</table>\n",
       "</div>"
      ],
      "text/plain": [
       "        Least-Squares     TD               ETD\n",
       "weights         [0.8]  [1.0]  [0.714285714286]\n",
       "MSE               0.9      1         0.9183673"
      ]
     },
     "metadata": {},
     "output_type": "display_data"
    }
   ],
   "source": [
    "rfunc =  Constant(1.0, terminals=terminals)\n",
    "rvec = np.array([rfunc(s) for s in states])\n",
    "phi = Wrap(Unary2Int(num_states), terminals=terminals)\n",
    "\n",
    "df = report(pmat, rvec, phi, gmfunc, lmfunc, ifunc)\n",
    "\n",
    "display(df)"
   ]
  },
  {
   "cell_type": "markdown",
   "metadata": {},
   "source": [
    "## Decreasing Reward, Increasing Feature"
   ]
  },
  {
   "cell_type": "markdown",
   "metadata": {},
   "source": [
    "* r(s) = N-1-s for s non-terminal\n",
    "* x(s) = s+1 for s non-terminal"
   ]
  },
  {
   "cell_type": "code",
   "execution_count": 14,
   "metadata": {
    "collapsed": false
   },
   "outputs": [
    {
     "name": "stdout",
     "output_type": "stream",
     "text": [
      "Expected Reward:\n",
      "[ 2.  1.  0.]\n",
      "Feature Matrix:\n",
      "[[ 1.]\n",
      " [ 2.]\n",
      " [ 0.]]\n",
      "True Values:\n",
      "[ 3.  1.  0.]\n",
      "Best Approximation:\n",
      "[ 1.  2.  0.]\n",
      "TD Approximation:\n",
      "[ 1.33333333  2.66666667  0.        ]\n",
      "ETD Approximation:\n",
      "[ 0.85714286  1.71428571  0.        ]\n"
     ]
    },
    {
     "data": {
      "text/html": [
       "<div style=\"max-height:1000px;max-width:1500px;overflow:auto;\">\n",
       "<table border=\"1\" class=\"dataframe\">\n",
       "  <thead>\n",
       "    <tr style=\"text-align: right;\">\n",
       "      <th></th>\n",
       "      <th>Least-Squares</th>\n",
       "      <th>TD</th>\n",
       "      <th>ETD</th>\n",
       "    </tr>\n",
       "  </thead>\n",
       "  <tbody>\n",
       "    <tr>\n",
       "      <th>weights</th>\n",
       "      <td> [1.0]</td>\n",
       "      <td> [1.33333333333]</td>\n",
       "      <td> [0.857142857143]</td>\n",
       "    </tr>\n",
       "    <tr>\n",
       "      <th>MSE</th>\n",
       "      <td>   2.5</td>\n",
       "      <td>        2.777778</td>\n",
       "      <td>          2.55102</td>\n",
       "    </tr>\n",
       "  </tbody>\n",
       "</table>\n",
       "</div>"
      ],
      "text/plain": [
       "        Least-Squares               TD               ETD\n",
       "weights         [1.0]  [1.33333333333]  [0.857142857143]\n",
       "MSE               2.5         2.777778           2.55102"
      ]
     },
     "metadata": {},
     "output_type": "display_data"
    }
   ],
   "source": [
    "_rfunc = lambda x: (num_states - basis2int(x) - 1)\n",
    "rfunc =  Parameter(_rfunc, terminals=terminals)\n",
    "rvec = np.array([rfunc(s) for s in states])\n",
    "phi = Wrap(Unary2Int(num_states), terminals=terminals)\n",
    "\n",
    "df = report(pmat, rvec, phi, gmfunc, lmfunc, ifunc)\n",
    "\n",
    "display(df)"
   ]
  },
  {
   "cell_type": "code",
   "execution_count": 15,
   "metadata": {
    "collapsed": false
   },
   "outputs": [
    {
     "name": "stdout",
     "output_type": "stream",
     "text": [
      "\\begin{tabular}{llll}\n",
      "\\toprule\n",
      "{} & Least-Squares &               TD &               ETD \\\\\n",
      "\\midrule\n",
      "weights &         [1.0] &  [1.33333333333] &  [0.857142857143] \\\\\n",
      "MSE     &           2.5 &         2.777778 &           2.55102 \\\\\n",
      "\\bottomrule\n",
      "\\end{tabular}\n",
      "\n"
     ]
    }
   ],
   "source": [
    "print(df.to_latex())"
   ]
  }
 ],
 "metadata": {
  "kernelspec": {
   "display_name": "Python 3",
   "language": "python",
   "name": "python3"
  },
  "language_info": {
   "codemirror_mode": {
    "name": "ipython",
    "version": 3
   },
   "file_extension": ".py",
   "mimetype": "text/x-python",
   "name": "python",
   "nbconvert_exporter": "python",
   "pygments_lexer": "ipython3",
   "version": "3.4.3"
  }
 },
 "nbformat": 4,
 "nbformat_minor": 0
}
