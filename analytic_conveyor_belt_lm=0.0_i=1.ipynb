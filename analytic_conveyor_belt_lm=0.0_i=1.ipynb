{
 "cells": [
  {
   "cell_type": "markdown",
   "metadata": {},
   "source": [
    "# TD/ETD Comparison on \"Conveyor Belt\"\n",
    "\n",
    "This notebook contains some comparisons between TD and Emphatic TD on a simple problem under function approximation. \n",
    "\n",
    "We identify the solutions each algorithm converges to using the matrix operator equations for each algorithm, and compare them to the optimal approximation (as found by the least squares solution)."
   ]
  },
  {
   "cell_type": "code",
   "execution_count": 30,
   "metadata": {
    "collapsed": false
   },
   "outputs": [],
   "source": [
    "import numpy as np\n",
    "import pandas as pd\n",
    "from functools import reduce\n",
    "from numpy import dot\n",
    "from numpy.linalg import pinv\n",
    "\n",
    "from features import *\n",
    "from mdptools import *\n",
    "from solvers import td_solution, etd_solution, exact_solution\n",
    "from report import report"
   ]
  },
  {
   "cell_type": "code",
   "execution_count": 31,
   "metadata": {
    "collapsed": true
   },
   "outputs": [],
   "source": [
    "from IPython.display import display"
   ]
  },
  {
   "cell_type": "markdown",
   "metadata": {},
   "source": [
    "# Conveyor Belt\n",
    "\n",
    "An environment resembling a conveyor belt moving to the \"right\".\n",
    "\n",
    "* Here, states are indexed from 0 to N-1, with state N-1 being the terminal state and state 0 being the initial state.\n",
    "* In terminal states, the feature vector $x(s)$ is the zero vector, the reward $r(s)$ is zero, and $\\gamma(s) = \\lambda(s) = i(s) = 0$.\n",
    "* The environment is undiscounted, so $\\gamma(s) = 1$ for $s$ non-terminal.\n",
    "* For these experiments, $\\lambda(s) = 0$ for all states $s$.\n",
    "* Interest is constant and uniform for each state; $i(s) = 1$ for $s$ non-terminal."
   ]
  },
  {
   "cell_type": "code",
   "execution_count": 32,
   "metadata": {
    "collapsed": true
   },
   "outputs": [],
   "source": [
    "def conveyor_belt_matrix(ns):\n",
    "    transitions = []\n",
    "    # non-terminal states\n",
    "    for i in range(ns-1):\n",
    "        tmp = np.zeros(ns)\n",
    "        tmp[i+1] = 1\n",
    "        transitions.append(tmp)\n",
    "    # terminal state at end of conveyor belt\n",
    "    tmp = np.zeros(ns)\n",
    "    tmp[-1] = 1\n",
    "    transitions.append(tmp)\n",
    "    return np.array(transitions)"
   ]
  },
  {
   "cell_type": "markdown",
   "metadata": {},
   "source": [
    "Here we examine the case with two nonterminal states (N=3)."
   ]
  },
  {
   "cell_type": "code",
   "execution_count": 33,
   "metadata": {
    "collapsed": true
   },
   "outputs": [],
   "source": [
    "# Common parts of problem specification\n",
    "num_states = 3\n",
    "s0 = int2basis(0, num_states)\n",
    "pmat = conveyor_belt_matrix(num_states)\n",
    "states = state_vectors(pmat)\n",
    "indices = state_indices(pmat)\n",
    "terminals = [as_tuple(s) for s in find_terminals(pmat)]\n",
    "gmfunc = Constant(1.0, terminals=terminals)\n",
    "lmfunc = Constant(0.0, terminals=terminals)\n",
    "ifunc = Constant(1.0, terminals=terminals)"
   ]
  },
  {
   "cell_type": "markdown",
   "metadata": {},
   "source": [
    "## Constant Reward, Constant Feature"
   ]
  },
  {
   "cell_type": "markdown",
   "metadata": {},
   "source": [
    "* r(s) = 1 for s non-terminal\n",
    "* x(s) = 1 for x non-terminal"
   ]
  },
  {
   "cell_type": "code",
   "execution_count": 35,
   "metadata": {
    "collapsed": false
   },
   "outputs": [
    {
     "name": "stdout",
     "output_type": "stream",
     "text": [
      "Expected Reward:\n",
      "[ 1.  1.  0.]\n",
      "Feature Matrix:\n",
      "[[ 1.]\n",
      " [ 1.]\n",
      " [ 0.]]\n",
      "True Values:\n",
      "[ 2.  1.  0.]\n",
      "Emphasis As Good or Better?: True\n"
     ]
    },
    {
     "data": {
      "text/html": [
       "<div style=\"max-height:1000px;max-width:1500px;overflow:auto;\">\n",
       "<table border=\"1\" class=\"dataframe\">\n",
       "  <thead>\n",
       "    <tr style=\"text-align: right;\">\n",
       "      <th></th>\n",
       "      <th>weights</th>\n",
       "      <th>MSE</th>\n",
       "      <th>values</th>\n",
       "    </tr>\n",
       "  </thead>\n",
       "  <tbody>\n",
       "    <tr>\n",
       "      <th>Least-Squares</th>\n",
       "      <td> [1.5]</td>\n",
       "      <td> 0.25</td>\n",
       "      <td> [1.5, 1.5, 0.0]</td>\n",
       "    </tr>\n",
       "    <tr>\n",
       "      <th>TD</th>\n",
       "      <td> [2.0]</td>\n",
       "      <td> 0.50</td>\n",
       "      <td> [2.0, 2.0, 0.0]</td>\n",
       "    </tr>\n",
       "    <tr>\n",
       "      <th>ETD</th>\n",
       "      <td> [1.5]</td>\n",
       "      <td> 0.25</td>\n",
       "      <td> [1.5, 1.5, 0.0]</td>\n",
       "    </tr>\n",
       "  </tbody>\n",
       "</table>\n",
       "</div>"
      ],
      "text/plain": [
       "              weights   MSE           values\n",
       "Least-Squares   [1.5]  0.25  [1.5, 1.5, 0.0]\n",
       "TD              [2.0]  0.50  [2.0, 2.0, 0.0]\n",
       "ETD             [1.5]  0.25  [1.5, 1.5, 0.0]"
      ]
     },
     "metadata": {},
     "output_type": "display_data"
    }
   ],
   "source": [
    "rfunc =  Constant(1.0, terminals=terminals)\n",
    "rvec = np.array([rfunc(s) for s in states])\n",
    "phi = Wrap(Bias(), terminals=terminals)\n",
    "\n",
    "full_df = report(pmat, rvec, s0, phi, gmfunc, lmfunc, ifunc)\n",
    "df = full_df[[\"weights\", \"MSE\"]]\n",
    "\n",
    "display(full_df)"
   ]
  },
  {
   "cell_type": "code",
   "execution_count": 36,
   "metadata": {
    "collapsed": false
   },
   "outputs": [
    {
     "name": "stdout",
     "output_type": "stream",
     "text": [
      "\\begin{tabular}{llr}\n",
      "\\toprule\n",
      "{} & weights &   MSE \\\\\n",
      "\\midrule\n",
      "Least-Squares &   [1.5] &  0.25 \\\\\n",
      "TD            &   [2.0] &  0.50 \\\\\n",
      "ETD           &   [1.5] &  0.25 \\\\\n",
      "\\bottomrule\n",
      "\\end{tabular}\n",
      "\n"
     ]
    }
   ],
   "source": [
    "print(df.to_latex())"
   ]
  },
  {
   "cell_type": "markdown",
   "metadata": {},
   "source": [
    "## Increasing Reward, Constant Feature"
   ]
  },
  {
   "cell_type": "markdown",
   "metadata": {},
   "source": [
    "* r(s) = s+1 for s non-terminal\n",
    "* x(s) = 1 for x non-terminal"
   ]
  },
  {
   "cell_type": "code",
   "execution_count": 37,
   "metadata": {
    "collapsed": false
   },
   "outputs": [
    {
     "name": "stdout",
     "output_type": "stream",
     "text": [
      "Expected Reward:\n",
      "[ 1.  2.  0.]\n",
      "Feature Matrix:\n",
      "[[ 1.]\n",
      " [ 1.]\n",
      " [ 0.]]\n",
      "True Values:\n",
      "[ 3.  2.  0.]\n",
      "Emphasis As Good or Better?: True\n"
     ]
    },
    {
     "data": {
      "text/html": [
       "<div style=\"max-height:1000px;max-width:1500px;overflow:auto;\">\n",
       "<table border=\"1\" class=\"dataframe\">\n",
       "  <thead>\n",
       "    <tr style=\"text-align: right;\">\n",
       "      <th></th>\n",
       "      <th>weights</th>\n",
       "      <th>MSE</th>\n",
       "      <th>values</th>\n",
       "    </tr>\n",
       "  </thead>\n",
       "  <tbody>\n",
       "    <tr>\n",
       "      <th>Least-Squares</th>\n",
       "      <td> [2.5]</td>\n",
       "      <td> 0.25</td>\n",
       "      <td> [2.5, 2.5, 0.0]</td>\n",
       "    </tr>\n",
       "    <tr>\n",
       "      <th>TD</th>\n",
       "      <td> [3.0]</td>\n",
       "      <td> 0.50</td>\n",
       "      <td> [3.0, 3.0, 0.0]</td>\n",
       "    </tr>\n",
       "    <tr>\n",
       "      <th>ETD</th>\n",
       "      <td> [2.5]</td>\n",
       "      <td> 0.25</td>\n",
       "      <td> [2.5, 2.5, 0.0]</td>\n",
       "    </tr>\n",
       "  </tbody>\n",
       "</table>\n",
       "</div>"
      ],
      "text/plain": [
       "              weights   MSE           values\n",
       "Least-Squares   [2.5]  0.25  [2.5, 2.5, 0.0]\n",
       "TD              [3.0]  0.50  [3.0, 3.0, 0.0]\n",
       "ETD             [2.5]  0.25  [2.5, 2.5, 0.0]"
      ]
     },
     "metadata": {},
     "output_type": "display_data"
    }
   ],
   "source": [
    "_rfunc = lambda x: basis2int(x) + 1\n",
    "rfunc =  Parameter(_rfunc, terminals=terminals)\n",
    "rvec = np.array([rfunc(s) for s in states])\n",
    "phi = Wrap(Bias(), terminals=terminals)\n",
    "\n",
    "full_df = report(pmat, rvec, s0, phi, gmfunc, lmfunc, ifunc)\n",
    "df = full_df[[\"weights\", \"MSE\"]]\n",
    "\n",
    "display(full_df)"
   ]
  },
  {
   "cell_type": "code",
   "execution_count": 38,
   "metadata": {
    "collapsed": false
   },
   "outputs": [
    {
     "name": "stdout",
     "output_type": "stream",
     "text": [
      "\\begin{tabular}{llr}\n",
      "\\toprule\n",
      "{} & weights &   MSE \\\\\n",
      "\\midrule\n",
      "Least-Squares &   [2.5] &  0.25 \\\\\n",
      "TD            &   [3.0] &  0.50 \\\\\n",
      "ETD           &   [2.5] &  0.25 \\\\\n",
      "\\bottomrule\n",
      "\\end{tabular}\n",
      "\n"
     ]
    }
   ],
   "source": [
    "print(df.to_latex())"
   ]
  },
  {
   "cell_type": "markdown",
   "metadata": {},
   "source": [
    "## Decreasing Reward, Constant Feature"
   ]
  },
  {
   "cell_type": "markdown",
   "metadata": {},
   "source": [
    "* r(s) = N-1-s for s non-terminal\n",
    "* x(s) = 1 for x non-terminal"
   ]
  },
  {
   "cell_type": "code",
   "execution_count": 44,
   "metadata": {
    "collapsed": false
   },
   "outputs": [
    {
     "name": "stdout",
     "output_type": "stream",
     "text": [
      "Expected Reward:\n",
      "[ 2.  1.  0.]\n",
      "Feature Matrix:\n",
      "[[ 1.]\n",
      " [ 1.]\n",
      " [ 0.]]\n",
      "True Values:\n",
      "[ 3.  1.  0.]\n",
      "Emphasis As Good or Better?: True\n"
     ]
    },
    {
     "data": {
      "text/html": [
       "<div style=\"max-height:1000px;max-width:1500px;overflow:auto;\">\n",
       "<table border=\"1\" class=\"dataframe\">\n",
       "  <thead>\n",
       "    <tr style=\"text-align: right;\">\n",
       "      <th></th>\n",
       "      <th>weights</th>\n",
       "      <th>MSE</th>\n",
       "      <th>values</th>\n",
       "    </tr>\n",
       "  </thead>\n",
       "  <tbody>\n",
       "    <tr>\n",
       "      <th>Least-Squares</th>\n",
       "      <td> [2.0]</td>\n",
       "      <td> 1</td>\n",
       "      <td> [2.0, 2.0, 0.0]</td>\n",
       "    </tr>\n",
       "    <tr>\n",
       "      <th>TD</th>\n",
       "      <td> [3.0]</td>\n",
       "      <td> 2</td>\n",
       "      <td> [3.0, 3.0, 0.0]</td>\n",
       "    </tr>\n",
       "    <tr>\n",
       "      <th>ETD</th>\n",
       "      <td> [2.0]</td>\n",
       "      <td> 1</td>\n",
       "      <td> [2.0, 2.0, 0.0]</td>\n",
       "    </tr>\n",
       "  </tbody>\n",
       "</table>\n",
       "</div>"
      ],
      "text/plain": [
       "              weights  MSE           values\n",
       "Least-Squares   [2.0]    1  [2.0, 2.0, 0.0]\n",
       "TD              [3.0]    2  [3.0, 3.0, 0.0]\n",
       "ETD             [2.0]    1  [2.0, 2.0, 0.0]"
      ]
     },
     "metadata": {},
     "output_type": "display_data"
    }
   ],
   "source": [
    "_rfunc = lambda x: (num_states - basis2int(x) - 1)\n",
    "rfunc =  Parameter(_rfunc, terminals=terminals)\n",
    "rvec = np.array([rfunc(s) for s in states])\n",
    "phi = Wrap(Bias(), terminals=terminals)\n",
    "\n",
    "full_df = report(pmat, rvec, s0, phi, gmfunc, lmfunc, ifunc)\n",
    "df = full_df[[\"weights\", \"MSE\"]]\n",
    "\n",
    "display(full_df)"
   ]
  },
  {
   "cell_type": "code",
   "execution_count": 45,
   "metadata": {
    "collapsed": false
   },
   "outputs": [
    {
     "name": "stdout",
     "output_type": "stream",
     "text": [
      "\\begin{tabular}{llr}\n",
      "\\toprule\n",
      "{} & weights &  MSE \\\\\n",
      "\\midrule\n",
      "Least-Squares &   [2.0] &    1 \\\\\n",
      "TD            &   [3.0] &    2 \\\\\n",
      "ETD           &   [2.0] &    1 \\\\\n",
      "\\bottomrule\n",
      "\\end{tabular}\n",
      "\n"
     ]
    }
   ],
   "source": [
    "print(df.to_latex())"
   ]
  },
  {
   "cell_type": "markdown",
   "metadata": {},
   "source": [
    "## Constant Reward, Increasing Feature"
   ]
  },
  {
   "cell_type": "markdown",
   "metadata": {},
   "source": [
    "* r(s) = 1 for s non-terminal\n",
    "* x(s) = s+1 for s non-terminal"
   ]
  },
  {
   "cell_type": "code",
   "execution_count": 46,
   "metadata": {
    "collapsed": false
   },
   "outputs": [
    {
     "name": "stdout",
     "output_type": "stream",
     "text": [
      "Expected Reward:\n",
      "[ 1.  1.  0.]\n",
      "Feature Matrix:\n",
      "[[ 1.]\n",
      " [ 2.]\n",
      " [ 0.]]\n",
      "True Values:\n",
      "[ 2.  1.  0.]\n",
      "Emphasis As Good or Better?: True\n"
     ]
    },
    {
     "data": {
      "text/html": [
       "<div style=\"max-height:1000px;max-width:1500px;overflow:auto;\">\n",
       "<table border=\"1\" class=\"dataframe\">\n",
       "  <thead>\n",
       "    <tr style=\"text-align: right;\">\n",
       "      <th></th>\n",
       "      <th>weights</th>\n",
       "      <th>MSE</th>\n",
       "      <th>values</th>\n",
       "    </tr>\n",
       "  </thead>\n",
       "  <tbody>\n",
       "    <tr>\n",
       "      <th>Least-Squares</th>\n",
       "      <td>            [0.8]</td>\n",
       "      <td> 0.900000</td>\n",
       "      <td>                      [0.8, 1.6, 0.0]</td>\n",
       "    </tr>\n",
       "    <tr>\n",
       "      <th>TD</th>\n",
       "      <td>            [1.0]</td>\n",
       "      <td> 1.000000</td>\n",
       "      <td>                      [1.0, 2.0, 0.0]</td>\n",
       "    </tr>\n",
       "    <tr>\n",
       "      <th>ETD</th>\n",
       "      <td> [0.714285714286]</td>\n",
       "      <td> 0.918367</td>\n",
       "      <td> [0.714285714286, 1.42857142857, 0.0]</td>\n",
       "    </tr>\n",
       "  </tbody>\n",
       "</table>\n",
       "</div>"
      ],
      "text/plain": [
       "                        weights       MSE  \\\n",
       "Least-Squares             [0.8]  0.900000   \n",
       "TD                        [1.0]  1.000000   \n",
       "ETD            [0.714285714286]  0.918367   \n",
       "\n",
       "                                             values  \n",
       "Least-Squares                       [0.8, 1.6, 0.0]  \n",
       "TD                                  [1.0, 2.0, 0.0]  \n",
       "ETD            [0.714285714286, 1.42857142857, 0.0]  "
      ]
     },
     "metadata": {},
     "output_type": "display_data"
    }
   ],
   "source": [
    "rfunc =  Constant(1.0, terminals=terminals)\n",
    "rvec = np.array([rfunc(s) for s in states])\n",
    "phi = Wrap(Unary2Int(num_states), terminals=terminals)\n",
    "\n",
    "full_df = report(pmat, rvec, s0, phi, gmfunc, lmfunc, ifunc)\n",
    "df = full_df[[\"weights\", \"MSE\"]]\n",
    "\n",
    "display(full_df)"
   ]
  },
  {
   "cell_type": "markdown",
   "metadata": {},
   "source": [
    "## Decreasing Reward, Increasing Feature"
   ]
  },
  {
   "cell_type": "markdown",
   "metadata": {},
   "source": [
    "* r(s) = N-1-s for s non-terminal\n",
    "* x(s) = s+1 for s non-terminal"
   ]
  },
  {
   "cell_type": "code",
   "execution_count": 47,
   "metadata": {
    "collapsed": false
   },
   "outputs": [
    {
     "name": "stdout",
     "output_type": "stream",
     "text": [
      "Expected Reward:\n",
      "[ 2.  1.  0.]\n",
      "Feature Matrix:\n",
      "[[ 1.]\n",
      " [ 2.]\n",
      " [ 0.]]\n",
      "True Values:\n",
      "[ 3.  1.  0.]\n",
      "Emphasis As Good or Better?: True\n"
     ]
    },
    {
     "data": {
      "text/html": [
       "<div style=\"max-height:1000px;max-width:1500px;overflow:auto;\">\n",
       "<table border=\"1\" class=\"dataframe\">\n",
       "  <thead>\n",
       "    <tr style=\"text-align: right;\">\n",
       "      <th></th>\n",
       "      <th>weights</th>\n",
       "      <th>MSE</th>\n",
       "      <th>values</th>\n",
       "    </tr>\n",
       "  </thead>\n",
       "  <tbody>\n",
       "    <tr>\n",
       "      <th>Least-Squares</th>\n",
       "      <td>            [1.0]</td>\n",
       "      <td> 2.500000</td>\n",
       "      <td>                      [1.0, 2.0, 0.0]</td>\n",
       "    </tr>\n",
       "    <tr>\n",
       "      <th>TD</th>\n",
       "      <td>  [1.33333333333]</td>\n",
       "      <td> 2.777778</td>\n",
       "      <td>  [1.33333333333, 2.66666666667, 0.0]</td>\n",
       "    </tr>\n",
       "    <tr>\n",
       "      <th>ETD</th>\n",
       "      <td> [0.857142857143]</td>\n",
       "      <td> 2.551020</td>\n",
       "      <td> [0.857142857143, 1.71428571429, 0.0]</td>\n",
       "    </tr>\n",
       "  </tbody>\n",
       "</table>\n",
       "</div>"
      ],
      "text/plain": [
       "                        weights       MSE  \\\n",
       "Least-Squares             [1.0]  2.500000   \n",
       "TD              [1.33333333333]  2.777778   \n",
       "ETD            [0.857142857143]  2.551020   \n",
       "\n",
       "                                             values  \n",
       "Least-Squares                       [1.0, 2.0, 0.0]  \n",
       "TD              [1.33333333333, 2.66666666667, 0.0]  \n",
       "ETD            [0.857142857143, 1.71428571429, 0.0]  "
      ]
     },
     "metadata": {},
     "output_type": "display_data"
    }
   ],
   "source": [
    "_rfunc = lambda x: (num_states - basis2int(x) - 1)\n",
    "rfunc =  Parameter(_rfunc, terminals=terminals)\n",
    "rvec = np.array([rfunc(s) for s in states])\n",
    "phi = Wrap(Unary2Int(num_states), terminals=terminals)\n",
    "\n",
    "full_df = report(pmat, rvec, s0, phi, gmfunc, lmfunc, ifunc)\n",
    "df = full_df[[\"weights\", \"MSE\"]]\n",
    "\n",
    "display(full_df)"
   ]
  },
  {
   "cell_type": "code",
   "execution_count": 48,
   "metadata": {
    "collapsed": false
   },
   "outputs": [
    {
     "name": "stdout",
     "output_type": "stream",
     "text": [
      "\\begin{tabular}{llr}\n",
      "\\toprule\n",
      "{} &           weights &       MSE \\\\\n",
      "\\midrule\n",
      "Least-Squares &             [1.0] &  2.500000 \\\\\n",
      "TD            &   [1.33333333333] &  2.777778 \\\\\n",
      "ETD           &  [0.857142857143] &  2.551020 \\\\\n",
      "\\bottomrule\n",
      "\\end{tabular}\n",
      "\n"
     ]
    }
   ],
   "source": [
    "print(df.to_latex())"
   ]
  }
 ],
 "metadata": {
  "kernelspec": {
   "display_name": "Python 3",
   "language": "python",
   "name": "python3"
  },
  "language_info": {
   "codemirror_mode": {
    "name": "ipython",
    "version": 3
   },
   "file_extension": ".py",
   "mimetype": "text/x-python",
   "name": "python",
   "nbconvert_exporter": "python",
   "pygments_lexer": "ipython3",
   "version": "3.4.3"
  }
 },
 "nbformat": 4,
 "nbformat_minor": 0
}
