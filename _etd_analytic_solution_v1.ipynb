{
 "cells": [
  {
   "cell_type": "code",
   "execution_count": 52,
   "metadata": {
    "collapsed": true
   },
   "outputs": [],
   "source": [
    "import numpy as np\n",
    "import numpy.linalg as la\n",
    "from numpy import matrix\n",
    "from numpy.linalg import pinv\n",
    "\n",
    "from functools import reduce"
   ]
  },
  {
   "cell_type": "markdown",
   "metadata": {},
   "source": [
    "# General Analytic Solution"
   ]
  },
  {
   "cell_type": "markdown",
   "metadata": {},
   "source": [
    "* Need to ensure consistency of all indices\n",
    "* May need to modify to handle the episodic case"
   ]
  },
  {
   "cell_type": "code",
   "execution_count": 98,
   "metadata": {
    "collapsed": true
   },
   "outputs": [],
   "source": [
    "# Find (non)terminal states\n",
    "def get_terminals(pmat):\n",
    "    ret = []\n",
    "    for row in pmat:\n",
    "        if np.any(row == 1):\n",
    "            ret.append(row)\n",
    "    return ret\n",
    "\n",
    "def get_nonterminals(pmat):\n",
    "    ret = []\n",
    "    for row in pmat:\n",
    "        if not np.any(row == 1):\n",
    "            ret.append(row)\n",
    "    return ret"
   ]
  },
  {
   "cell_type": "code",
   "execution_count": 5,
   "metadata": {
    "collapsed": true
   },
   "outputs": [],
   "source": [
    "def gm_discount(mat, gm=1.0):\n",
    "    n = len(np.diag(mat))\n",
    "    di = np.diag_indices(n, ndim=2)\n",
    "    gmat = np.zeros((n,n))\n",
    "    gmat[di] = gm\n",
    "    return np.eye(n) - np.dot(mat, gmat)\n",
    "\n",
    "def lmgm_pmat(pmat, gm=1.0, lm=0.0):\n",
    "    \"\"\"(I - P_\\pi \\Gamma \\Lambda)\"\"\"\n",
    "    n = len(np.diag(pmat))\n",
    "    di = np.diag_indices(n, ndim=2)\n",
    "    gmat = np.zeros((n,n))\n",
    "    lmat = np.zeros((n,n))\n",
    "    gmat[di] = gm\n",
    "    lmat[di] = lm\n",
    "    return np.eye(n) - np.dot(pmat, np.dot(gmat, lmat))\n",
    "\n",
    "def discounted_pmat(pmat, gm=1.0, lm=0.0):\n",
    "    n = len(np.diag(pmat))\n",
    "    di = np.diag_indices(n, ndim=2)\n",
    "    gmat = np.zeros((n,n))\n",
    "    lmat = np.zeros((n,n))\n",
    "    gmat[di] = gm\n",
    "    lmat[di] = lm\n",
    "    \n",
    "    # (I - PGL)^-1\n",
    "    a = np.linalg.inv(np.eye(n) - np.dot(pmat, np.dot(gmat, lmat)))\n",
    "    \n",
    "    # (I - PG)\n",
    "    b = np.eye(n) - np.dot(pmat, gmat)\n",
    "\n",
    "    return np.eye(n) - np.dot(a,b)\n",
    "\n",
    "def emphasis_mat(pmat, ivec, gm=1.0, lm=0.0):\n",
    "    n = len(np.diag(pmat))\n",
    "    dpmat = discounted_pmat(pmat, gm=gm, lm=lm)\n",
    "    mvec = np.dot(np.linalg.pinv(np.eye(n) - dpmat), ivec)\n",
    "    return np.diag(mvec)\n",
    "\n",
    "def feature_mat(states, phi):\n",
    "    return np.array([phi(s) for s in states])\n",
    "\n",
    "def mprod(*arrays):\n",
    "    return reduce(np.dot, arrays)"
   ]
  },
  {
   "cell_type": "markdown",
   "metadata": {},
   "source": [
    "# Testing "
   ]
  },
  {
   "cell_type": "markdown",
   "metadata": {},
   "source": [
    "## Conveyor Belt\n",
    "\n",
    "Using a conveyor belt environment with uniform rewards."
   ]
  },
  {
   "cell_type": "code",
   "execution_count": 89,
   "metadata": {
    "collapsed": false
   },
   "outputs": [],
   "source": [
    "pmat = np.array([[0,1,0],[0,0,1],[0,0,1]])\n",
    "s0 = np.array([1,0,0])\n",
    "rvec = np.array([1,1,0])\n",
    "gmvec = np.array([1,1,0])\n",
    "ivec = np.array([1,1,0])"
   ]
  },
  {
   "cell_type": "markdown",
   "metadata": {
    "collapsed": true
   },
   "source": [
    "## Random Walk\n",
    "\n",
    "A random walk, with a reward of 1 on the right hand side, and 0 on the left."
   ]
  },
  {
   "cell_type": "code",
   "execution_count": 106,
   "metadata": {
    "collapsed": true
   },
   "outputs": [],
   "source": [
    "pmat = np.array([\n",
    "        [0, 0.5, 0, 0.5, 0],\n",
    "        [0.5, 0, 0.5, 0, 0],\n",
    "        [0, 0.5, 0, 0, 0.5],\n",
    "        [0, 0, 0, 1, 0],\n",
    "        [0, 0, 0, 0, 1],\n",
    "    ])\n",
    "ns = len(pmat)\n",
    "states = [row for row in np.eye(ns)]\n",
    "terminals = [tuple(s) for s in get_terminals(pmat)]\n",
    "s0 = np.array([0,1,0,0,0])\n",
    "rvec = np.array([0,0,1/2,0,0])\n",
    "gmvec = np.array([1,1,1,0,0])\n",
    "lmvec = np.array([0,0,0,0,0])\n",
    "ivec = np.array([1,1,1,0,0])\n",
    "# ivec = np.array([1,1,1,1,1])"
   ]
  },
  {
   "cell_type": "code",
   "execution_count": 110,
   "metadata": {
    "collapsed": false
   },
   "outputs": [
    {
     "name": "stdout",
     "output_type": "stream",
     "text": [
      "TD Solution\n",
      "[ 0.5]\n",
      "ETD Solution\n",
      "[ 0.5]\n",
      "ETD Values:\n"
     ]
    }
   ],
   "source": [
    "# phi = lambda s : np.array(s)\n",
    "phi = lambda s: np.array([1]) if tuple(s) not in terminals else np.array([0])\n",
    "fmat = feature_mat(states, phi)\n",
    "\n",
    "mmat = emphasis_mat(pmat, ivec, gm=gmvec)\n",
    "\n",
    "lgpmat = lmgm_pmat(pmat, gm=gmvec)\n",
    "dpmat = discounted_pmat(pmat, gm=gmvec)\n",
    "\n",
    "I = np.eye(ns)\n",
    "P = np.copy(pmat)\n",
    "M = np.copy(mmat)\n",
    "# M = np.eye(ns)\n",
    "G = np.diag(gmvec)\n",
    "L = np.diag(lmvec)\n",
    "X = np.copy(fmat)\n",
    "R = np.copy(rvec)\n",
    "\n",
    "# LSTD solution\n",
    "bb = np.dot(X.T, R)\n",
    "AA = mprod(X.T, (I - np.dot(P, G)), X)\n",
    "td_theta = np.dot(np.linalg.pinv(AA), bb)\n",
    "print(\"TD Solution\")\n",
    "print(td_theta)\n",
    "\n",
    "# ETD solution\n",
    "P_gl = pinv(I - mprod(P, G, L))\n",
    "EA = mprod(X.T, M, P_gl, (I - np.dot(P, G)), X)\n",
    "Eb = mprod(X.T, M, P_gl, R)\n",
    "etd_theta = np.dot(pinv(EA), Eb)\n",
    "print(\"ETD Solution\")\n",
    "print(etd_theta) \n",
    "\n",
    "print(\"ETD Values:\")\n",
    "# np.dot(etd_theta, X.T)\n",
    "# np.dot(P_gl, rvec) + \n",
    "# print(EA)\n",
    "# print(AA)\n",
    "# print(\"Difference:\")\n",
    "# print(EA - AA)\n",
    "\n",
    "#TODO: Verify that each is a fixed point"
   ]
  },
  {
   "cell_type": "code",
   "execution_count": null,
   "metadata": {
    "collapsed": true
   },
   "outputs": [],
   "source": []
  },
  {
   "cell_type": "code",
   "execution_count": 109,
   "metadata": {
    "collapsed": false
   },
   "outputs": [
    {
     "data": {
      "text/plain": [
       "array([[ 3.,  0.,  0.,  0.,  0.],\n",
       "       [ 0.,  4.,  0.,  0.,  0.],\n",
       "       [ 0.,  0.,  3.,  0.,  0.],\n",
       "       [ 0.,  0.,  0.,  0.,  0.],\n",
       "       [ 0.,  0.,  0.,  0.,  0.]])"
      ]
     },
     "execution_count": 109,
     "metadata": {},
     "output_type": "execute_result"
    }
   ],
   "source": [
    "mmat"
   ]
  },
  {
   "cell_type": "code",
   "execution_count": 70,
   "metadata": {
    "collapsed": false
   },
   "outputs": [
    {
     "data": {
      "text/plain": [
       "array([[ 1.,  0.,  0.,  0.,  0.],\n",
       "       [ 0.,  1.,  0.,  0.,  0.],\n",
       "       [ 0.,  0.,  1.,  0.,  0.],\n",
       "       [ 0.,  0.,  0.,  1.,  0.],\n",
       "       [ 0.,  0.,  0.,  0.,  1.]])"
      ]
     },
     "execution_count": 70,
     "metadata": {},
     "output_type": "execute_result"
    }
   ],
   "source": [
    "mprod(X.T, M, P_gl)"
   ]
  },
  {
   "cell_type": "code",
   "execution_count": 44,
   "metadata": {
    "collapsed": false
   },
   "outputs": [
    {
     "data": {
      "text/plain": [
       "array([  2.50000000e-01,   5.00000000e-01,   7.50000000e-01,\n",
       "        -2.35922393e-16,   1.87350135e-16])"
      ]
     },
     "execution_count": 44,
     "metadata": {},
     "output_type": "execute_result"
    }
   ],
   "source": [
    "lstd_theta"
   ]
  },
  {
   "cell_type": "code",
   "execution_count": 41,
   "metadata": {
    "collapsed": false
   },
   "outputs": [
    {
     "data": {
      "text/plain": [
       "array([[ 1. , -0.5,  0. , -0.5,  0. ],\n",
       "       [-0.5,  1. , -0.5,  0. ,  0. ],\n",
       "       [ 0. , -0.5,  1. ,  0. , -0.5],\n",
       "       [ 0. ,  0. ,  0. ,  1. ,  0. ],\n",
       "       [ 0. ,  0. ,  0. ,  0. ,  1. ]])"
      ]
     },
     "execution_count": 41,
     "metadata": {},
     "output_type": "execute_result"
    }
   ],
   "source": [
    "AA"
   ]
  },
  {
   "cell_type": "code",
   "execution_count": 42,
   "metadata": {
    "collapsed": false
   },
   "outputs": [
    {
     "data": {
      "text/plain": [
       "array([[ 0. ,  0.5,  0. ,  0.5,  0. ],\n",
       "       [ 1. ,  0. ,  1. ,  0. ,  0. ],\n",
       "       [ 0. ,  0.5,  0. ,  0. ,  0.5],\n",
       "       [ 0. ,  0. ,  0. , -2. ,  0. ],\n",
       "       [ 0. ,  0. ,  0. ,  0. , -2. ]])"
      ]
     },
     "execution_count": 42,
     "metadata": {},
     "output_type": "execute_result"
    }
   ],
   "source": [
    "A"
   ]
  },
  {
   "cell_type": "code",
   "execution_count": 39,
   "metadata": {
    "collapsed": false
   },
   "outputs": [
    {
     "name": "stdout",
     "output_type": "stream",
     "text": [
      "[ 0.   0.   0.5  0.   0. ]\n",
      "[[ 0.   0.5  0.   0.5  0. ]\n",
      " [ 1.   0.   1.   0.   0. ]\n",
      " [ 0.   0.5  0.   0.   0.5]\n",
      " [ 0.   0.   0.  -2.   0. ]\n",
      " [ 0.   0.   0.   0.  -2. ]]\n"
     ]
    }
   ],
   "source": [
    "print(b)\n",
    "print(A)"
   ]
  },
  {
   "cell_type": "code",
   "execution_count": 38,
   "metadata": {
    "collapsed": false
   },
   "outputs": [
    {
     "name": "stdout",
     "output_type": "stream",
     "text": [
      "[[ 0.   0.5  0.   0.5  0. ]\n",
      " [ 0.5  0.   0.5  0.   0. ]\n",
      " [ 0.   0.5  0.   0.   0.5]\n",
      " [ 0.   0.   0.   1.   0. ]\n",
      " [ 0.   0.   0.   0.   1. ]]\n",
      "[ 0.   0.   0.5  0.   0. ]\n",
      "[[ 1.  0.  0.  0.  0.]\n",
      " [ 0.  1.  0.  0.  0.]\n",
      " [ 0.  0.  1.  0.  0.]\n",
      " [ 0.  0.  0.  1.  0.]\n",
      " [ 0.  0.  0.  0.  1.]]\n",
      "[[ 1.  0.  0.  0.  0.]\n",
      " [ 0.  2.  0.  0.  0.]\n",
      " [ 0.  0.  1.  0.  0.]\n",
      " [ 0.  0.  0. -2.  0.]\n",
      " [ 0.  0.  0.  0. -2.]]\n",
      "[[ 1.  0.  0.  0.  0.]\n",
      " [ 0.  1.  0.  0.  0.]\n",
      " [ 0.  0.  1.  0.  0.]\n",
      " [ 0.  0.  0.  1.  0.]\n",
      " [ 0.  0.  0.  0.  1.]]\n",
      "[[ 0.   0.5  0.   0.5  0. ]\n",
      " [ 0.5  0.   0.5  0.   0. ]\n",
      " [ 0.   0.5  0.   0.   0.5]\n",
      " [ 0.   0.   0.   1.   0. ]\n",
      " [ 0.   0.   0.   0.   1. ]]\n",
      "[ 0.   0.   0.5  0.   0. ]\n",
      "[[ 0.   0.5  0.   0.5  0. ]\n",
      " [ 1.   0.   1.   0.   0. ]\n",
      " [ 0.   0.5  0.   0.   0.5]\n",
      " [ 0.   0.   0.  -2.   0. ]\n",
      " [ 0.   0.   0.   0.  -2. ]]\n"
     ]
    }
   ],
   "source": [
    "print(pmat)\n",
    "print(rvec)\n",
    "print(fmat)\n",
    "print(mmat)\n",
    "print(lgpmat)\n",
    "print(dpmat)\n"
   ]
  }
 ],
 "metadata": {
  "kernelspec": {
   "display_name": "Python 3",
   "language": "python",
   "name": "python3"
  },
  "language_info": {
   "codemirror_mode": {
    "name": "ipython",
    "version": 3
   },
   "file_extension": ".py",
   "mimetype": "text/x-python",
   "name": "python",
   "nbconvert_exporter": "python",
   "pygments_lexer": "ipython3",
   "version": "3.4.3"
  }
 },
 "nbformat": 4,
 "nbformat_minor": 0
}
