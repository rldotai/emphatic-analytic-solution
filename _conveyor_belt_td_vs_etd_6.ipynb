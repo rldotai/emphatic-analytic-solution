{
 "cells": [
  {
   "cell_type": "markdown",
   "metadata": {},
   "source": [
    "Comparing standard TD with Emphatic TD in a simple \"conveyor belt\" environment.\n",
    "\n",
    "## Problem Setup\n",
    "\n",
    "- Undiscounted case, with $\\gamma = 0$ for all non-terminal states.\n",
    "- Single feature with the increasing value\n",
    "- Reward increasing as agent moves towards terminal state.\n",
    "- Interest uniform for all non-terminal states"
   ]
  },
  {
   "cell_type": "code",
   "execution_count": 1,
   "metadata": {
    "collapsed": true
   },
   "outputs": [],
   "source": [
    "import numpy as np\n",
    "from collections import defaultdict\n",
    "from copy import copy\n",
    "from itertools import chain\n",
    "\n",
    "import algorithms, environments,features, policy\n",
    "from algorithms import EmphaticTD, TD\n",
    "from environments.misc import ConveyorBelt\n",
    "from features import Bias, Combination, Int2Unary, Wrapper\n",
    "from policy import RandomPolicy"
   ]
  },
  {
   "cell_type": "code",
   "execution_count": 2,
   "metadata": {
    "collapsed": true
   },
   "outputs": [],
   "source": [
    "# Attribute logging class\n",
    "class AttributeLogger:\n",
    "    def __init__(self, obj, names):\n",
    "        self._obj = obj\n",
    "        self._names = [x for x in names]\n",
    "        self.dct = {name: list() for name in names}\n",
    "        \n",
    "    def log(self):\n",
    "        for name in self._names:\n",
    "            value = getattr(self._obj, name)\n",
    "            self.dct[name].append(copy(value))\n",
    "            \n",
    "    def __getitem__(self, key):\n",
    "        return self.dct[key]"
   ]
  },
  {
   "cell_type": "code",
   "execution_count": 9,
   "metadata": {
    "collapsed": true
   },
   "outputs": [],
   "source": [
    "# For calculating errors in this domain\n",
    "def mse(a, b):\n",
    "    return np.mean((a - b)**2)\n",
    "\n",
    "def calc_values(states, phi, weights):\n",
    "    return {s: np.dot(weights, phi(s)) for s in states}\n",
    "\n",
    "def geometric(val, n):\n",
    "    \"\"\"Geometric series: 1 + val + val^2 + ... + val^n\"\"\"\n",
    "    return (1-val**n)/(1-val)\n",
    "\n",
    "def triangle(n):\n",
    "    return n*(n+1)/2\n",
    "\n",
    "def pyramid(n):\n",
    "    return n*(n+1)*(n+2)/6"
   ]
  },
  {
   "cell_type": "code",
   "execution_count": 5,
   "metadata": {
    "collapsed": true
   },
   "outputs": [],
   "source": [
    "class Int2Int:\n",
    "    \"\"\"A custom feature, for performing operations on integers.\"\"\"\n",
    "    def __init__(self, func=None):\n",
    "        if func is None:\n",
    "            func = lambda x: x\n",
    "        self.length = 1\n",
    "        self._func = func\n",
    "        \n",
    "    def __call__(self, x):\n",
    "        ret = self._func(x)\n",
    "        return np.array(ret)"
   ]
  },
  {
   "cell_type": "code",
   "execution_count": 6,
   "metadata": {
    "collapsed": true
   },
   "outputs": [],
   "source": [
    "def make_episodes(num_episodes, env, policy):\n",
    "    return [make_episode(env, policy) for i in range(num_episodes)]\n",
    "    \n",
    "\n",
    "def make_episode(env, policy):\n",
    "    env.reset()\n",
    "    ret = []\n",
    "    while not env.is_terminal():\n",
    "        # Observe, take action, get next observation, and compute reward\n",
    "        s  = env.observe()\n",
    "        a  = policy(s)\n",
    "        r  = env.do(a)\n",
    "        sp = env.observe()\n",
    "\n",
    "        # Append step to episode trajectory\n",
    "        ret.append((s, a, r, sp))\n",
    "    return ret\n",
    "\n",
    "def apply_fa(episodes, phi_func):\n",
    "    \"\"\"Apply function approximation to a series of episodes.\"\"\"\n",
    "    ret = []\n",
    "    for episode in episodes:\n",
    "        tmp = []\n",
    "        for step in episode[:-1]:\n",
    "            s, a, r, sp = step\n",
    "            fvec   = phi_func(s)\n",
    "            fvec_p = phi_func(sp)\n",
    "            tmp.append((fvec, a, r, fvec_p))\n",
    "        \n",
    "        # Account for final step of the episode\n",
    "        s, a, r, sp = episode[-1]\n",
    "        fvec   = phi_func(s)\n",
    "        fvec_p = np.zeros(phi_func.length, dtype=np.float)\n",
    "        tmp.append((fvec, a, r, fvec_p))\n",
    "        ret.append(tmp)\n",
    "    return ret"
   ]
  },
  {
   "cell_type": "code",
   "execution_count": 57,
   "metadata": {
    "collapsed": false
   },
   "outputs": [],
   "source": [
    "# Generate some episodes\n",
    "random_seed = 101\n",
    "num_episodes = 1000\n",
    "num_states = 2\n",
    "\n",
    "# Setup environment\n",
    "env = ConveyorBelt(num_states, random_seed=random_seed)\n",
    "env.reward = lambda s, a, sp: 1\n",
    "\n",
    "# Set policy\n",
    "pol = RandomPolicy(env, random_seed=random_seed)\n",
    "\n",
    "# Get the raw episode data\n",
    "raw_episodes = make_episodes(num_episodes, env, pol)\n",
    "\n",
    "# Convert to features for function approximation\n",
    "phi = Wrapper(Int2Int(lambda x: x+1), terminals=env.terminals)\n",
    "\n",
    "# Apply function approximation\n",
    "episodes = apply_fa(raw_episodes, phi)"
   ]
  },
  {
   "cell_type": "markdown",
   "metadata": {},
   "source": [
    "## Expected Return"
   ]
  },
  {
   "cell_type": "code",
   "execution_count": 58,
   "metadata": {
    "collapsed": false
   },
   "outputs": [
    {
     "name": "stdout",
     "output_type": "stream",
     "text": [
      "{0: 2.0, 1: 1.0}\n"
     ]
    }
   ],
   "source": [
    "class ExpectedReturn:\n",
    "    \"\"\"Estimate expected returns (for tabular case).\"\"\"\n",
    "    def __init__(self, gamma=1.0):\n",
    "        self._gamma = gamma\n",
    "        \n",
    "    def __call__(self, episodes):\n",
    "        value  = defaultdict(list)\n",
    "        visits = defaultdict(int)\n",
    "        for episode in episodes:\n",
    "            ret = 0\n",
    "            for step in reversed(episode):\n",
    "                s, a, r, sp = step\n",
    "                if isinstance(s, np.ndarray):\n",
    "                    s = tuple(s)\n",
    "                elif hasattr(s, '__iter__'):\n",
    "                    s = tuple(s)\n",
    "                ret = ret*self._gamma + r\n",
    "                visits[s] += 1\n",
    "                value[s].append(ret)\n",
    "        self.values = {s: sum(value[s])/visits[s] for s in value.keys()}\n",
    "        return self.values\n",
    "    \n",
    "    def calc_mse(self, valdct):\n",
    "        diff = np.array([v - valdct[k] for k, v in self.values.items()])\n",
    "        return np.mean(diff**2)\n",
    "    \n",
    "ER = ExpectedReturn()\n",
    "exp_ret = ER(raw_episodes)\n",
    "print(exp_ret)"
   ]
  },
  {
   "cell_type": "markdown",
   "metadata": {},
   "source": [
    "## Monte Carlo"
   ]
  },
  {
   "cell_type": "code",
   "execution_count": 59,
   "metadata": {
    "collapsed": true
   },
   "outputs": [],
   "source": [
    "class EveryVisitMC:\n",
    "    def __init__(self, n, gamma=1.0):\n",
    "        self.n = n\n",
    "        self._gamma = gamma\n",
    "        \n",
    "    def __call__(self, episodes):\n",
    "        value  = np.zeros(self.n)\n",
    "        visits = np.zeros(self.n)\n",
    "        for episode in episodes:\n",
    "            ret = 0\n",
    "            for step in reversed(episode):\n",
    "                s, a, r, sp = step\n",
    "                s = np.array(s)\n",
    "                ret = ret*self._gamma + r\n",
    "                visits += s\n",
    "                value += s*ret\n",
    "        return value/visits"
   ]
  },
  {
   "cell_type": "code",
   "execution_count": 60,
   "metadata": {
    "collapsed": false
   },
   "outputs": [
    {
     "name": "stdout",
     "output_type": "stream",
     "text": [
      "[ 1.33333333]\n",
      "{0: array([ 1.33333333]), 1: array([ 2.66666667])}\n",
      "1.61111111111\n"
     ]
    }
   ],
   "source": [
    "MC = EveryVisitMC(phi.length, gamma=1.0)\n",
    "mc_theta = MC(episodes)\n",
    "mc_values = calc_values(env.nonterminals, phi, mc_theta)\n",
    "mc_mse = ER.calc_mse(mc_values)\n",
    "\n",
    "print(mc_theta)\n",
    "print(mc_values)\n",
    "print(mc_mse)"
   ]
  },
  {
   "cell_type": "markdown",
   "metadata": {},
   "source": [
    "## TD"
   ]
  },
  {
   "cell_type": "code",
   "execution_count": 51,
   "metadata": {
    "collapsed": false
   },
   "outputs": [
    {
     "name": "stdout",
     "output_type": "stream",
     "text": [
      "[ 0.62529744]\n",
      "[array([ 1.]), array([ 2.]), array([ 3.]), array([ 4.]), array([ 5.])]\n"
     ]
    }
   ],
   "source": [
    "# Specify the parameters for the episode\n",
    "fixed_params = {'alpha': 0.01, \n",
    "                'gamma': 1.0, \n",
    "                'lmbda': 0.0}\n",
    "\n",
    "# Parameters which are functions (e.g., of state)\n",
    "param_funcs = {}\n",
    "\n",
    "# Setup the agent\n",
    "agent = TD(phi.length)\n",
    "\n",
    "# Keep track of information over the episodes\n",
    "log_names = ['theta', 'z']\n",
    "logger = AttributeLogger(agent, log_names)\n",
    "\n",
    "# Perform learning\n",
    "for episode in episodes:\n",
    "    agent.reset()\n",
    "    for step in episode:\n",
    "        s, a, r, sp = step\n",
    "        \n",
    "        # Parameters for update\n",
    "        params = {}\n",
    "        for name, func in param_funcs.items():\n",
    "            params[k] = func(s)\n",
    "        params.update(**fixed_params)\n",
    "        \n",
    "        # Update the agent\n",
    "        agent.update(s, r, sp, params)\n",
    "        \n",
    "        # Record information\n",
    "        logger.log()\n",
    "        \n",
    "td_theta = np.copy(agent.theta)\n",
    "print(agent.theta)\n",
    "print(logger['z'][:5])"
   ]
  },
  {
   "cell_type": "code",
   "execution_count": 34,
   "metadata": {
    "collapsed": false
   },
   "outputs": [
    {
     "name": "stdout",
     "output_type": "stream",
     "text": [
      "[ 1.50750184]\n",
      "{0: array([ 1.50750184]), 1: array([ 3.01500368]), 2: array([ 4.52250552])}\n",
      "10.86360332\n"
     ]
    }
   ],
   "source": [
    "td_values = calc_values(env.nonterminals, phi, td_theta)\n",
    "td_mse = ER.calc_mse(td_values)\n",
    "\n",
    "print(td_theta)\n",
    "print(td_values)\n",
    "print(td_mse)"
   ]
  },
  {
   "cell_type": "markdown",
   "metadata": {},
   "source": [
    "## Emphatic TD"
   ]
  },
  {
   "cell_type": "code",
   "execution_count": 28,
   "metadata": {
    "collapsed": false
   },
   "outputs": [
    {
     "name": "stdout",
     "output_type": "stream",
     "text": [
      "[ 0.73400569]\n",
      "[1.0, 2.0, 3.0, 1.0, 2.0]\n",
      "[1.0, 2.0, 3.0, 1.0, 2.0]\n",
      "[array([ 1.]), array([ 4.]), array([ 9.]), array([ 1.]), array([ 4.])]\n"
     ]
    }
   ],
   "source": [
    "# Specify the parameters for the episode\n",
    "fixed_params = {'alpha': 0.01, \n",
    "                'gamma': 1.0, \n",
    "                'lmbda': 0.0, \n",
    "                'interest': 1.0,}\n",
    "\n",
    "# Parameters which are functions (e.g., of state)\n",
    "param_funcs = {}\n",
    "\n",
    "# Setup the agent\n",
    "agent = EmphaticTD(phi.length)\n",
    "\n",
    "# Keep track of information over the episodes\n",
    "log_names = ['theta', 'z', 'F', 'M']\n",
    "logger = AttributeLogger(agent, log_names)\n",
    "\n",
    "# Perform learning\n",
    "for episode in episodes:\n",
    "    agent.reset()\n",
    "    for step in episode:\n",
    "        s, a, r, sp = step\n",
    "        \n",
    "        # Parameters for update\n",
    "        params = {}\n",
    "        for name, func in param_funcs.items():\n",
    "            params[k] = func(s)\n",
    "        params.update(**fixed_params)\n",
    "        \n",
    "        # Update the agent\n",
    "        agent.update(s, r, sp, params)\n",
    "        \n",
    "        # Record information\n",
    "        logger.log()\n",
    "        \n",
    "        \n",
    "etd_theta = np.copy(agent.theta)\n",
    "print(agent.theta)\n",
    "print(logger['F'][:5])\n",
    "print(logger['M'][:5])\n",
    "print(logger['z'][:5])"
   ]
  },
  {
   "cell_type": "code",
   "execution_count": 35,
   "metadata": {
    "collapsed": false
   },
   "outputs": [
    {
     "name": "stdout",
     "output_type": "stream",
     "text": [
      "[ 0.73400569]\n",
      "{0: array([ 0.73400569]), 1: array([ 1.46801139]), 2: array([ 2.20201708])}\n",
      "10.5075100663\n"
     ]
    }
   ],
   "source": [
    "etd_values = calc_values(env.nonterminals, phi, etd_theta)\n",
    "etd_mse = ER.calc_mse(etd_values)\n",
    "\n",
    "print(etd_theta)\n",
    "print(etd_values)\n",
    "print(etd_mse)"
   ]
  },
  {
   "cell_type": "code",
   "execution_count": 36,
   "metadata": {
    "collapsed": false
   },
   "outputs": [
    {
     "data": {
      "text/plain": [
       "[(array(1), 0, 3.0, array(2)),\n",
       " (array(2), 0, 2.0, array(3)),\n",
       " (array(3), 0, 1.0, array([ 0.]))]"
      ]
     },
     "execution_count": 36,
     "metadata": {},
     "output_type": "execute_result"
    }
   ],
   "source": [
    "episode"
   ]
  },
  {
   "cell_type": "code",
   "execution_count": null,
   "metadata": {
    "collapsed": true
   },
   "outputs": [],
   "source": []
  }
 ],
 "metadata": {
  "kernelspec": {
   "display_name": "Python 3",
   "language": "python",
   "name": "python3"
  },
  "language_info": {
   "codemirror_mode": {
    "name": "ipython",
    "version": 3
   },
   "file_extension": ".py",
   "mimetype": "text/x-python",
   "name": "python",
   "nbconvert_exporter": "python",
   "pygments_lexer": "ipython3",
   "version": "3.4.3"
  }
 },
 "nbformat": 4,
 "nbformat_minor": 0
}
