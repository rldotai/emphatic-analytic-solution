{
 "cells": [
  {
   "cell_type": "code",
   "execution_count": 41,
   "metadata": {
    "collapsed": false
   },
   "outputs": [],
   "source": [
    "import numpy as np\n",
    "import pandas as pd\n",
    "from numpy.linalg import pinv\n",
    "\n",
    "from agents import EmphaticTD, TD\n",
    "from environments import ConveyorBelt, RandomPolicy\n",
    "from empirical import make_episodes, apply_fa, apply_rfunc, expected_return, learn\n",
    "from features import *\n",
    "from mdptools import *\n",
    "\n",
    "from IPython.display import display"
   ]
  },
  {
   "cell_type": "markdown",
   "metadata": {},
   "source": [
    "We create a series of episodes in the conveyor belt setting."
   ]
  },
  {
   "cell_type": "code",
   "execution_count": 24,
   "metadata": {
    "collapsed": false
   },
   "outputs": [],
   "source": [
    "num_states = 2\n",
    "env = ConveyorBelt(2)\n",
    "pol = RandomPolicy(env, random_seed=101)\n",
    "raw_episodes = make_episodes(10, env, pol)"
   ]
  },
  {
   "cell_type": "markdown",
   "metadata": {},
   "source": [
    "## Constant Feature, Constant Reward"
   ]
  },
  {
   "cell_type": "code",
   "execution_count": 35,
   "metadata": {
    "collapsed": false
   },
   "outputs": [],
   "source": [
    "phi = Wrap(Bias(), terminals=env.terminals)\n",
    "_rfunc = lambda s, a, sp: 1\n",
    "rfunc = Parameter(_rfunc, terminals=env.terminals)\n",
    "\n",
    "episodes = apply_rfunc(raw_episodes, rfunc)\n",
    "episodes = apply_fa(episodes, phi)"
   ]
  },
  {
   "cell_type": "code",
   "execution_count": 37,
   "metadata": {
    "collapsed": false
   },
   "outputs": [
    {
     "data": {
      "text/plain": [
       "{(1,): 1.0, (2,): 2.0}"
      ]
     },
     "execution_count": 37,
     "metadata": {},
     "output_type": "execute_result"
    }
   ],
   "source": [
    "expected_return(apply_rfunc(raw_episodes, rfunc))"
   ]
  },
  {
   "cell_type": "code",
   "execution_count": 43,
   "metadata": {
    "collapsed": false
   },
   "outputs": [],
   "source": [
    "td = TD(len(phi))"
   ]
  },
  {
   "cell_type": "code",
   "execution_count": 46,
   "metadata": {
    "collapsed": false
   },
   "outputs": [
    {
     "data": {
      "text/plain": [
       "1.0"
      ]
     },
     "execution_count": 46,
     "metadata": {},
     "output_type": "execute_result"
    }
   ],
   "source": [
    "ep = episodes[0]\n",
    "step = ep[0]\n",
    "s, a, r, sp = step\n",
    "td.update(s=s, r=r, sp=sp, alpha=0.01, gamma=1.0, lmbda=0.0)"
   ]
  },
  {
   "cell_type": "code",
   "execution_count": 55,
   "metadata": {
    "collapsed": false
   },
   "outputs": [
    {
     "name": "stdout",
     "output_type": "stream",
     "text": [
      "[ 1.99]\n"
     ]
    }
   ],
   "source": [
    "fixed_params = {'gamma': 1.0, 'lmbda': 0.0, 'alpha': 0.01}\n",
    "learn(td, episodes, fixed_params, repeats=1000)\n",
    "print(td.theta)"
   ]
  },
  {
   "cell_type": "code",
   "execution_count": 54,
   "metadata": {
    "collapsed": false
   },
   "outputs": [
    {
     "data": {
      "text/plain": [
       "array([ 0.21741113])"
      ]
     },
     "execution_count": 54,
     "metadata": {},
     "output_type": "execute_result"
    }
   ],
   "source": [
    "td.theta"
   ]
  },
  {
   "cell_type": "code",
   "execution_count": null,
   "metadata": {
    "collapsed": true
   },
   "outputs": [],
   "source": []
  }
 ],
 "metadata": {
  "kernelspec": {
   "display_name": "Python 3",
   "language": "python",
   "name": "python3"
  },
  "language_info": {
   "codemirror_mode": {
    "name": "ipython",
    "version": 3
   },
   "file_extension": ".py",
   "mimetype": "text/x-python",
   "name": "python",
   "nbconvert_exporter": "python",
   "pygments_lexer": "ipython3",
   "version": "3.4.3"
  }
 },
 "nbformat": 4,
 "nbformat_minor": 0
}
