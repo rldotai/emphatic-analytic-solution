{
 "cells": [
  {
   "cell_type": "markdown",
   "metadata": {},
   "source": [
    "# TD/ETD Comparison on \"Conveyor Belt\"\n",
    "\n",
    "This notebook contains some comparisons between TD and Emphatic TD on a simple problem under function approximation. \n",
    "\n",
    "We identify the solutions each algorithm converges to using the matrix operator equations for each algorithm, and compare them to the optimal approximation (as found by the least squares solution)."
   ]
  },
  {
   "cell_type": "code",
   "execution_count": 7,
   "metadata": {
    "collapsed": true
   },
   "outputs": [],
   "source": [
    "import numpy as np\n",
    "import pandas as pd\n",
    "from functools import reduce\n",
    "from numpy import dot\n",
    "from numpy.linalg import pinv\n",
    "\n",
    "from features import *\n",
    "from mdptools import *\n",
    "from solvers import td_solution, etd_solution, exact_solution\n",
    "from report import report"
   ]
  },
  {
   "cell_type": "code",
   "execution_count": 8,
   "metadata": {
    "collapsed": true
   },
   "outputs": [],
   "source": [
    "from IPython.display import display"
   ]
  },
  {
   "cell_type": "markdown",
   "metadata": {},
   "source": [
    "# Conveyor Belt\n",
    "\n",
    "An environment resembling a conveyor belt moving to the \"right\".\n",
    "\n",
    "* Here, states are indexed from 0 to N-1, with state N-1 being the terminal state and state 0 being the initial state.\n",
    "* In terminal states, the feature vector x(s) is the zero vector, the reward r(s) is zero, and $\\gamma(s) = \\lambda(s) = i(s) = 0$.\n",
    "* The environment is undiscounted, so $\\gamma(s) = 1$ for $s$ non-terminal.\n",
    "* For these experiments, $\\lambda(s) = 0.5$ for all nonterminal states.\n",
    "* Interest is constant and uniform for each state; $i(s) = 1$ for $s$ non-terminal."
   ]
  },
  {
   "cell_type": "code",
   "execution_count": 9,
   "metadata": {
    "collapsed": true
   },
   "outputs": [],
   "source": [
    "def conveyor_belt_matrix(ns):\n",
    "    transitions = []\n",
    "    # non-terminal states\n",
    "    for i in range(ns-1):\n",
    "        tmp = np.zeros(ns)\n",
    "        tmp[i+1] = 1\n",
    "        transitions.append(tmp)\n",
    "    # terminal state at end of conveyor belt\n",
    "    tmp = np.zeros(ns)\n",
    "    tmp[-1] = 1\n",
    "    transitions.append(tmp)\n",
    "    return np.array(transitions)"
   ]
  },
  {
   "cell_type": "markdown",
   "metadata": {},
   "source": [
    "Here we examine the case with two nonterminal states (N=3)."
   ]
  },
  {
   "cell_type": "code",
   "execution_count": 13,
   "metadata": {
    "collapsed": true
   },
   "outputs": [],
   "source": [
    "# Common parts of problem specification\n",
    "num_states = 3\n",
    "s0 = int2basis(0, num_states)\n",
    "pmat = conveyor_belt_matrix(num_states)\n",
    "states = state_vectors(pmat)\n",
    "indices = state_indices(pmat)\n",
    "terminals = [as_tuple(s) for s in find_terminals(pmat)]\n",
    "gmfunc = Constant(1.0, terminals=terminals)\n",
    "lmfunc = Constant(0.5, terminals=terminals)\n",
    "ifunc = Constant(1.0, terminals=terminals)"
   ]
  },
  {
   "cell_type": "markdown",
   "metadata": {},
   "source": [
    "## Constant Reward, Constant Feature"
   ]
  },
  {
   "cell_type": "markdown",
   "metadata": {},
   "source": [
    "* r(s) = 1 for s non-terminal\n",
    "* x(s) = 1 for x non-terminal"
   ]
  },
  {
   "cell_type": "code",
   "execution_count": 14,
   "metadata": {
    "collapsed": false
   },
   "outputs": [
    {
     "name": "stdout",
     "output_type": "stream",
     "text": [
      "Expected Reward:\n",
      "[ 1.  1.  0.]\n",
      "Feature Matrix:\n",
      "[[ 1.]\n",
      " [ 1.]\n",
      " [ 0.]]\n",
      "True Values:\n",
      "[ 2.  1.  0.]\n",
      "Emphasis As Good or Better?: True\n"
     ]
    },
    {
     "data": {
      "text/html": [
       "<div style=\"max-height:1000px;max-width:1500px;overflow:auto;\">\n",
       "<table border=\"1\" class=\"dataframe\">\n",
       "  <thead>\n",
       "    <tr style=\"text-align: right;\">\n",
       "      <th></th>\n",
       "      <th>weights</th>\n",
       "      <th>MSE</th>\n",
       "      <th>values</th>\n",
       "    </tr>\n",
       "  </thead>\n",
       "  <tbody>\n",
       "    <tr>\n",
       "      <th>Least-Squares</th>\n",
       "      <td>           [1.5]</td>\n",
       "      <td> 0.250000</td>\n",
       "      <td>                     [1.5, 1.5, 0.0]</td>\n",
       "    </tr>\n",
       "    <tr>\n",
       "      <th>TD</th>\n",
       "      <td> [1.66666666667]</td>\n",
       "      <td> 0.277778</td>\n",
       "      <td> [1.66666666667, 1.66666666667, 0.0]</td>\n",
       "    </tr>\n",
       "    <tr>\n",
       "      <th>ETD</th>\n",
       "      <td>           [1.5]</td>\n",
       "      <td> 0.250000</td>\n",
       "      <td>                     [1.5, 1.5, 0.0]</td>\n",
       "    </tr>\n",
       "  </tbody>\n",
       "</table>\n",
       "</div>"
      ],
      "text/plain": [
       "                       weights       MSE                               values\n",
       "Least-Squares            [1.5]  0.250000                      [1.5, 1.5, 0.0]\n",
       "TD             [1.66666666667]  0.277778  [1.66666666667, 1.66666666667, 0.0]\n",
       "ETD                      [1.5]  0.250000                      [1.5, 1.5, 0.0]"
      ]
     },
     "metadata": {},
     "output_type": "display_data"
    }
   ],
   "source": [
    "rfunc =  Constant(1.0, terminals=terminals)\n",
    "rvec = np.array([rfunc(s) for s in states])\n",
    "phi = Wrap(Bias(), terminals=terminals)\n",
    "\n",
    "full_df = report(pmat, rvec, s0, phi, gmfunc, lmfunc, ifunc)\n",
    "df = full_df[[\"weights\", \"MSE\"]]\n",
    "\n",
    "display(full_df)"
   ]
  },
  {
   "cell_type": "code",
   "execution_count": 15,
   "metadata": {
    "collapsed": false
   },
   "outputs": [
    {
     "name": "stdout",
     "output_type": "stream",
     "text": [
      "\\begin{tabular}{llr}\n",
      "\\toprule\n",
      "{} &          weights &       MSE \\\\\n",
      "\\midrule\n",
      "Least-Squares &            [1.5] &  0.250000 \\\\\n",
      "TD            &  [1.66666666667] &  0.277778 \\\\\n",
      "ETD           &            [1.5] &  0.250000 \\\\\n",
      "\\bottomrule\n",
      "\\end{tabular}\n",
      "\n"
     ]
    }
   ],
   "source": [
    "print(df.to_latex())"
   ]
  },
  {
   "cell_type": "markdown",
   "metadata": {},
   "source": [
    "## Increasing Reward, Constant Feature"
   ]
  },
  {
   "cell_type": "markdown",
   "metadata": {},
   "source": [
    "* r(s) = s+1 for s non-terminal\n",
    "* x(s) = 1 for x non-terminal"
   ]
  },
  {
   "cell_type": "code",
   "execution_count": 17,
   "metadata": {
    "collapsed": false
   },
   "outputs": [
    {
     "name": "stdout",
     "output_type": "stream",
     "text": [
      "Expected Reward:\n",
      "[ 1.  2.  0.]\n",
      "Feature Matrix:\n",
      "[[ 1.]\n",
      " [ 1.]\n",
      " [ 0.]]\n",
      "True Values:\n",
      "[ 3.  2.  0.]\n",
      "Emphasis As Good or Better?: True\n"
     ]
    },
    {
     "data": {
      "text/html": [
       "<div style=\"max-height:1000px;max-width:1500px;overflow:auto;\">\n",
       "<table border=\"1\" class=\"dataframe\">\n",
       "  <thead>\n",
       "    <tr style=\"text-align: right;\">\n",
       "      <th></th>\n",
       "      <th>weights</th>\n",
       "      <th>MSE</th>\n",
       "      <th>values</th>\n",
       "    </tr>\n",
       "  </thead>\n",
       "  <tbody>\n",
       "    <tr>\n",
       "      <th>Least-Squares</th>\n",
       "      <td>           [2.5]</td>\n",
       "      <td> 0.250000</td>\n",
       "      <td>                     [2.5, 2.5, 0.0]</td>\n",
       "    </tr>\n",
       "    <tr>\n",
       "      <th>TD</th>\n",
       "      <td> [2.66666666667]</td>\n",
       "      <td> 0.277778</td>\n",
       "      <td> [2.66666666667, 2.66666666667, 0.0]</td>\n",
       "    </tr>\n",
       "    <tr>\n",
       "      <th>ETD</th>\n",
       "      <td>           [2.5]</td>\n",
       "      <td> 0.250000</td>\n",
       "      <td>                     [2.5, 2.5, 0.0]</td>\n",
       "    </tr>\n",
       "  </tbody>\n",
       "</table>\n",
       "</div>"
      ],
      "text/plain": [
       "                       weights       MSE                               values\n",
       "Least-Squares            [2.5]  0.250000                      [2.5, 2.5, 0.0]\n",
       "TD             [2.66666666667]  0.277778  [2.66666666667, 2.66666666667, 0.0]\n",
       "ETD                      [2.5]  0.250000                      [2.5, 2.5, 0.0]"
      ]
     },
     "metadata": {},
     "output_type": "display_data"
    }
   ],
   "source": [
    "_rfunc = lambda x: basis2int(x) + 1\n",
    "rfunc =  Parameter(_rfunc, terminals=terminals)\n",
    "rvec = np.array([rfunc(s) for s in states])\n",
    "phi = Wrap(Bias(), terminals=terminals)\n",
    "\n",
    "full_df = report(pmat, rvec, s0, phi, gmfunc, lmfunc, ifunc)\n",
    "df = full_df[[\"weights\", \"MSE\"]]\n",
    "\n",
    "display(full_df)"
   ]
  },
  {
   "cell_type": "code",
   "execution_count": 18,
   "metadata": {
    "collapsed": false
   },
   "outputs": [
    {
     "name": "stdout",
     "output_type": "stream",
     "text": [
      "\\begin{tabular}{llr}\n",
      "\\toprule\n",
      "{} &          weights &       MSE \\\\\n",
      "\\midrule\n",
      "Least-Squares &            [2.5] &  0.250000 \\\\\n",
      "TD            &  [2.66666666667] &  0.277778 \\\\\n",
      "ETD           &            [2.5] &  0.250000 \\\\\n",
      "\\bottomrule\n",
      "\\end{tabular}\n",
      "\n"
     ]
    }
   ],
   "source": [
    "print(df.to_latex())"
   ]
  },
  {
   "cell_type": "markdown",
   "metadata": {},
   "source": [
    "## Decreasing Reward, Constant Feature"
   ]
  },
  {
   "cell_type": "markdown",
   "metadata": {},
   "source": [
    "* r(s) = N-1-s for s non-terminal\n",
    "* x(s) = 1 for x non-terminal"
   ]
  },
  {
   "cell_type": "code",
   "execution_count": 19,
   "metadata": {
    "collapsed": false
   },
   "outputs": [
    {
     "name": "stdout",
     "output_type": "stream",
     "text": [
      "Expected Reward:\n",
      "[ 2.  1.  0.]\n",
      "Feature Matrix:\n",
      "[[ 1.]\n",
      " [ 1.]\n",
      " [ 0.]]\n",
      "True Values:\n",
      "[ 3.  1.  0.]\n",
      "Emphasis As Good or Better?: True\n"
     ]
    },
    {
     "data": {
      "text/html": [
       "<div style=\"max-height:1000px;max-width:1500px;overflow:auto;\">\n",
       "<table border=\"1\" class=\"dataframe\">\n",
       "  <thead>\n",
       "    <tr style=\"text-align: right;\">\n",
       "      <th></th>\n",
       "      <th>weights</th>\n",
       "      <th>MSE</th>\n",
       "      <th>values</th>\n",
       "    </tr>\n",
       "  </thead>\n",
       "  <tbody>\n",
       "    <tr>\n",
       "      <th>Least-Squares</th>\n",
       "      <td>           [2.0]</td>\n",
       "      <td> 1.000000</td>\n",
       "      <td>                     [2.0, 2.0, 0.0]</td>\n",
       "    </tr>\n",
       "    <tr>\n",
       "      <th>TD</th>\n",
       "      <td> [2.33333333333]</td>\n",
       "      <td> 1.111111</td>\n",
       "      <td> [2.33333333333, 2.33333333333, 0.0]</td>\n",
       "    </tr>\n",
       "    <tr>\n",
       "      <th>ETD</th>\n",
       "      <td>           [2.0]</td>\n",
       "      <td> 1.000000</td>\n",
       "      <td>                     [2.0, 2.0, 0.0]</td>\n",
       "    </tr>\n",
       "  </tbody>\n",
       "</table>\n",
       "</div>"
      ],
      "text/plain": [
       "                       weights       MSE                               values\n",
       "Least-Squares            [2.0]  1.000000                      [2.0, 2.0, 0.0]\n",
       "TD             [2.33333333333]  1.111111  [2.33333333333, 2.33333333333, 0.0]\n",
       "ETD                      [2.0]  1.000000                      [2.0, 2.0, 0.0]"
      ]
     },
     "metadata": {},
     "output_type": "display_data"
    }
   ],
   "source": [
    "_rfunc = lambda x: (num_states - basis2int(x) - 1)\n",
    "rfunc =  Parameter(_rfunc, terminals=terminals)\n",
    "rvec = np.array([rfunc(s) for s in states])\n",
    "phi = Wrap(Bias(), terminals=terminals)\n",
    "\n",
    "full_df = report(pmat, rvec, s0, phi, gmfunc, lmfunc, ifunc)\n",
    "df = full_df[[\"weights\", \"MSE\"]]\n",
    "\n",
    "display(full_df)"
   ]
  },
  {
   "cell_type": "code",
   "execution_count": 20,
   "metadata": {
    "collapsed": false
   },
   "outputs": [
    {
     "name": "stdout",
     "output_type": "stream",
     "text": [
      "\\begin{tabular}{llr}\n",
      "\\toprule\n",
      "{} &          weights &       MSE \\\\\n",
      "\\midrule\n",
      "Least-Squares &            [2.0] &  1.000000 \\\\\n",
      "TD            &  [2.33333333333] &  1.111111 \\\\\n",
      "ETD           &            [2.0] &  1.000000 \\\\\n",
      "\\bottomrule\n",
      "\\end{tabular}\n",
      "\n"
     ]
    }
   ],
   "source": [
    "print(df.to_latex())"
   ]
  },
  {
   "cell_type": "markdown",
   "metadata": {},
   "source": [
    "## Constant Reward, Increasing Feature"
   ]
  },
  {
   "cell_type": "markdown",
   "metadata": {},
   "source": [
    "* r(s) = 1 for s non-terminal\n",
    "* x(s) = s+1 for s non-terminal"
   ]
  },
  {
   "cell_type": "code",
   "execution_count": 21,
   "metadata": {
    "collapsed": false
   },
   "outputs": [
    {
     "name": "stdout",
     "output_type": "stream",
     "text": [
      "Expected Reward:\n",
      "[ 1.  1.  0.]\n",
      "Feature Matrix:\n",
      "[[ 1.]\n",
      " [ 2.]\n",
      " [ 0.]]\n",
      "True Values:\n",
      "[ 2.  1.  0.]\n",
      "Emphasis As Good or Better?: True\n"
     ]
    },
    {
     "data": {
      "text/html": [
       "<div style=\"max-height:1000px;max-width:1500px;overflow:auto;\">\n",
       "<table border=\"1\" class=\"dataframe\">\n",
       "  <thead>\n",
       "    <tr style=\"text-align: right;\">\n",
       "      <th></th>\n",
       "      <th>weights</th>\n",
       "      <th>MSE</th>\n",
       "      <th>values</th>\n",
       "    </tr>\n",
       "  </thead>\n",
       "  <tbody>\n",
       "    <tr>\n",
       "      <th>Least-Squares</th>\n",
       "      <td>   [0.8]</td>\n",
       "      <td> 0.900000</td>\n",
       "      <td>    [0.8, 1.6, 0.0]</td>\n",
       "    </tr>\n",
       "    <tr>\n",
       "      <th>TD</th>\n",
       "      <td> [0.875]</td>\n",
       "      <td> 0.914062</td>\n",
       "      <td> [0.875, 1.75, 0.0]</td>\n",
       "    </tr>\n",
       "    <tr>\n",
       "      <th>ETD</th>\n",
       "      <td>  [0.75]</td>\n",
       "      <td> 0.906250</td>\n",
       "      <td>   [0.75, 1.5, 0.0]</td>\n",
       "    </tr>\n",
       "  </tbody>\n",
       "</table>\n",
       "</div>"
      ],
      "text/plain": [
       "               weights       MSE              values\n",
       "Least-Squares    [0.8]  0.900000     [0.8, 1.6, 0.0]\n",
       "TD             [0.875]  0.914062  [0.875, 1.75, 0.0]\n",
       "ETD             [0.75]  0.906250    [0.75, 1.5, 0.0]"
      ]
     },
     "metadata": {},
     "output_type": "display_data"
    }
   ],
   "source": [
    "rfunc =  Constant(1.0, terminals=terminals)\n",
    "rvec = np.array([rfunc(s) for s in states])\n",
    "phi = Wrap(Unary2Int(num_states), terminals=terminals)\n",
    "\n",
    "full_df = report(pmat, rvec, s0, phi, gmfunc, lmfunc, ifunc)\n",
    "df = full_df[[\"weights\", \"MSE\"]]\n",
    "\n",
    "display(full_df)"
   ]
  },
  {
   "cell_type": "markdown",
   "metadata": {},
   "source": [
    "## Decreasing Reward, Increasing Feature"
   ]
  },
  {
   "cell_type": "markdown",
   "metadata": {},
   "source": [
    "* r(s) = N-1-s for s non-terminal\n",
    "* x(s) = s+1 for s non-terminal"
   ]
  },
  {
   "cell_type": "code",
   "execution_count": 22,
   "metadata": {
    "collapsed": false
   },
   "outputs": [
    {
     "name": "stdout",
     "output_type": "stream",
     "text": [
      "Expected Reward:\n",
      "[ 2.  1.  0.]\n",
      "Feature Matrix:\n",
      "[[ 1.]\n",
      " [ 2.]\n",
      " [ 0.]]\n",
      "True Values:\n",
      "[ 3.  1.  0.]\n",
      "Emphasis As Good or Better?: True\n"
     ]
    },
    {
     "data": {
      "text/html": [
       "<div style=\"max-height:1000px;max-width:1500px;overflow:auto;\">\n",
       "<table border=\"1\" class=\"dataframe\">\n",
       "  <thead>\n",
       "    <tr style=\"text-align: right;\">\n",
       "      <th></th>\n",
       "      <th>weights</th>\n",
       "      <th>MSE</th>\n",
       "      <th>values</th>\n",
       "    </tr>\n",
       "  </thead>\n",
       "  <tbody>\n",
       "    <tr>\n",
       "      <th>Least-Squares</th>\n",
       "      <td>            [1.0]</td>\n",
       "      <td> 2.500000</td>\n",
       "      <td>                      [1.0, 2.0, 0.0]</td>\n",
       "    </tr>\n",
       "    <tr>\n",
       "      <th>TD</th>\n",
       "      <td>          [1.125]</td>\n",
       "      <td> 2.539062</td>\n",
       "      <td>                   [1.125, 2.25, 0.0]</td>\n",
       "    </tr>\n",
       "    <tr>\n",
       "      <th>ETD</th>\n",
       "      <td> [0.916666666667]</td>\n",
       "      <td> 2.517361</td>\n",
       "      <td> [0.916666666667, 1.83333333333, 0.0]</td>\n",
       "    </tr>\n",
       "  </tbody>\n",
       "</table>\n",
       "</div>"
      ],
      "text/plain": [
       "                        weights       MSE  \\\n",
       "Least-Squares             [1.0]  2.500000   \n",
       "TD                      [1.125]  2.539062   \n",
       "ETD            [0.916666666667]  2.517361   \n",
       "\n",
       "                                             values  \n",
       "Least-Squares                       [1.0, 2.0, 0.0]  \n",
       "TD                               [1.125, 2.25, 0.0]  \n",
       "ETD            [0.916666666667, 1.83333333333, 0.0]  "
      ]
     },
     "metadata": {},
     "output_type": "display_data"
    }
   ],
   "source": [
    "_rfunc = lambda x: (num_states - basis2int(x) - 1)\n",
    "rfunc =  Parameter(_rfunc, terminals=terminals)\n",
    "rvec = np.array([rfunc(s) for s in states])\n",
    "phi = Wrap(Unary2Int(num_states), terminals=terminals)\n",
    "\n",
    "full_df = report(pmat, rvec, s0, phi, gmfunc, lmfunc, ifunc)\n",
    "df = full_df[[\"weights\", \"MSE\"]]\n",
    "\n",
    "display(full_df)"
   ]
  },
  {
   "cell_type": "code",
   "execution_count": 23,
   "metadata": {
    "collapsed": false
   },
   "outputs": [
    {
     "name": "stdout",
     "output_type": "stream",
     "text": [
      "\\begin{tabular}{llr}\n",
      "\\toprule\n",
      "{} &           weights &       MSE \\\\\n",
      "\\midrule\n",
      "Least-Squares &             [1.0] &  2.500000 \\\\\n",
      "TD            &           [1.125] &  2.539062 \\\\\n",
      "ETD           &  [0.916666666667] &  2.517361 \\\\\n",
      "\\bottomrule\n",
      "\\end{tabular}\n",
      "\n"
     ]
    }
   ],
   "source": [
    "print(df.to_latex())"
   ]
  }
 ],
 "metadata": {
  "kernelspec": {
   "display_name": "Python 3",
   "language": "python",
   "name": "python3"
  },
  "language_info": {
   "codemirror_mode": {
    "name": "ipython",
    "version": 3
   },
   "file_extension": ".py",
   "mimetype": "text/x-python",
   "name": "python",
   "nbconvert_exporter": "python",
   "pygments_lexer": "ipython3",
   "version": "3.4.3"
  }
 },
 "nbformat": 4,
 "nbformat_minor": 0
}
