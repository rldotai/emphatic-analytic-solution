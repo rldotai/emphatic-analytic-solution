{
 "cells": [
  {
   "cell_type": "code",
   "execution_count": null,
   "metadata": {
    "collapsed": true
   },
   "outputs": [],
   "source": [
    "import numpy as np\n",
    "import numpy.linalg as la\n",
    "from numpy import matrix\n",
    "\n",
    "from functools import reduce"
   ]
  },
  {
   "cell_type": "markdown",
   "metadata": {},
   "source": [
    "# Constant Reward, Increasing Features"
   ]
  },
  {
   "cell_type": "code",
   "execution_count": null,
   "metadata": {
    "collapsed": true
   },
   "outputs": [],
   "source": [
    "def make_return(episode, gamma=1.0):\n",
    "    \"\"\"Almost certainly could be done as a reduce operation.\"\"\"\n",
    "    lst = []\n",
    "    ret = 0\n",
    "    for r in rewards:\n",
    "        ret = r + ret*gamma\n",
    "        lst.append(ret)\n",
    "    return lst\n",
    "\n",
    "def mse(x):\n",
    "    x = np.array(x)\n",
    "    return np.mean(x**2)\n",
    "\n",
    "def calc_values(states, phi, weights):\n",
    "    return {s: np.dot(weights, phi(s)) for s in states}\n",
    "\n"
   ]
  },
  {
   "cell_type": "markdown",
   "metadata": {},
   "source": [
    "Need to do proper Monte Carlo under FA\n",
    "How?\n",
    "\n",
    "1. Everything as a vector\n",
    "    * visits += fvec\n",
    "    * value += G * fvec\n",
    "2. Treat \"unique\" feature vectors as different, and then do least-squares?"
   ]
  },
  {
   "cell_type": "code",
   "execution_count": null,
   "metadata": {
    "collapsed": true
   },
   "outputs": [],
   "source": []
  }
 ],
 "metadata": {
  "kernelspec": {
   "display_name": "Python 3",
   "language": "python",
   "name": "python3"
  },
  "language_info": {
   "codemirror_mode": {
    "name": "ipython",
    "version": 3
   },
   "file_extension": ".py",
   "mimetype": "text/x-python",
   "name": "python",
   "nbconvert_exporter": "python",
   "pygments_lexer": "ipython3",
   "version": "3.4.3"
  }
 },
 "nbformat": 4,
 "nbformat_minor": 0
}
