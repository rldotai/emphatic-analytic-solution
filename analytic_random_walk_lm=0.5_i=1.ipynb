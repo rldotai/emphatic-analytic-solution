{
 "cells": [
  {
   "cell_type": "markdown",
   "metadata": {},
   "source": [
    "# TD/ETD Comparison on \"Random Walk\"\n",
    "\n",
    "This notebook contains some comparisons between TD and Emphatic TD on a simple problem under function approximation. \n",
    "\n",
    "We identify the solutions each algorithm converges to using the matrix operator equations for each algorithm, and compare them to the optimal approximation (as found by the least squares solution)."
   ]
  },
  {
   "cell_type": "code",
   "execution_count": 7,
   "metadata": {
    "collapsed": true
   },
   "outputs": [],
   "source": [
    "import numpy as np\n",
    "import pandas as pd\n",
    "from functools import reduce\n",
    "from numpy import dot\n",
    "from numpy.linalg import pinv\n",
    "\n",
    "from features import *\n",
    "from mdptools import *\n",
    "from solvers import td_solution, etd_solution, exact_solution\n",
    "from report import report"
   ]
  },
  {
   "cell_type": "code",
   "execution_count": 2,
   "metadata": {
    "collapsed": true
   },
   "outputs": [],
   "source": [
    "from IPython.display import display"
   ]
  },
  {
   "cell_type": "markdown",
   "metadata": {},
   "source": [
    "# Random Walk\n",
    "\n",
    "An environment which represents a random walk along a 1-D chain.\n",
    "\n",
    "* Here, states are indexed from 0 to N-1, with states N and N-1 being the terminal states.\n",
    "    * We refer to state `N-1` as the \"rightmost\" state, and state `N-2` as the \"leftmost\" state.\n",
    "* The start state is in the middle of the chain, $s0 = \\lfloor (N-2)/2 \\rfloor$\n",
    "* In terminal states, the feature vector $x(s)$ is the zero vector, the reward $r(s)$ is zero, and $\\gamma(s) = \\lambda(s) = i(s) = 0$.\n",
    "* The environment is undiscounted, so $\\gamma(s) = 1$ for $s$ non-terminal.\n",
    "* For these experiments, $\\lambda(s) = 0.5$ for $s$ non-terminal.\n",
    "* Interest is constant and uniform for each state; $i(s) = 1$ for $s$ non-terminal."
   ]
  },
  {
   "cell_type": "code",
   "execution_count": 3,
   "metadata": {
    "collapsed": true
   },
   "outputs": [],
   "source": [
    "def random_walk_matrix(n, p=0.5):\n",
    "    \"\"\"\n",
    "    The transition matrix for a random walk with `n` states (including \n",
    "    two terminal states).\n",
    "    \"\"\"\n",
    "    ret = np.zeros((n,n))\n",
    "    # terminal state transitions\n",
    "    ret[-2:, -2:] = np.eye(2) \n",
    "    # transient states that can terminate\n",
    "    ret[0,-2] = p       # left side of chain\n",
    "    ret[0,1] = (1-p)\n",
    "    ret[-3,-4] = p      # right side of chain\n",
    "    ret[-3,-1] = (1-p)\n",
    "    # handle rest of transient states\n",
    "    for i in range(1, n-3):\n",
    "        ret[i][i-1] = p \n",
    "        ret[i][i+1] = (1-p)\n",
    "    return ret"
   ]
  },
  {
   "cell_type": "code",
   "execution_count": 9,
   "metadata": {
    "collapsed": false
   },
   "outputs": [],
   "source": [
    "# Common parts of problem specification\n",
    "num_states = 7\n",
    "pleft = 0.5\n",
    "pmat = random_walk_matrix(num_states, p=pleft)\n",
    "s0 = int2basis(2, num_states)\n",
    "states = state_vectors(pmat)\n",
    "indices = state_indices(pmat)\n",
    "terminals = [as_tuple(s) for s in find_terminals(pmat)]\n",
    "gmfunc = Constant(1.0, terminals=terminals)\n",
    "lmfunc = Constant(0.5, terminals=terminals)\n",
    "ifunc = Constant(1.0, terminals=terminals)"
   ]
  },
  {
   "cell_type": "code",
   "execution_count": 10,
   "metadata": {
    "collapsed": false
   },
   "outputs": [
    {
     "data": {
      "text/plain": [
       "array([[ 0. ,  0.5,  0. ,  0. ,  0. ,  0.5,  0. ],\n",
       "       [ 0.5,  0. ,  0.5,  0. ,  0. ,  0. ,  0. ],\n",
       "       [ 0. ,  0.5,  0. ,  0.5,  0. ,  0. ,  0. ],\n",
       "       [ 0. ,  0. ,  0.5,  0. ,  0.5,  0. ,  0. ],\n",
       "       [ 0. ,  0. ,  0. ,  0.5,  0. ,  0. ,  0.5],\n",
       "       [ 0. ,  0. ,  0. ,  0. ,  0. ,  1. ,  0. ],\n",
       "       [ 0. ,  0. ,  0. ,  0. ,  0. ,  0. ,  1. ]])"
      ]
     },
     "metadata": {},
     "output_type": "display_data"
    }
   ],
   "source": [
    "display(pmat)"
   ]
  },
  {
   "cell_type": "markdown",
   "metadata": {},
   "source": [
    "## Constant Feature, Unit Reward on Right-Termination\n",
    "\n",
    "* reward for terminating in the rightmost state, `N-1`\n",
    "    * r(s) = 1 for $(s, a, s') = (N-3, right, N-1)$\n",
    "    * r(s) = 0 for all other transitions.\n",
    "* x(s) = 1 for x non-terminal"
   ]
  },
  {
   "cell_type": "code",
   "execution_count": 11,
   "metadata": {
    "collapsed": false
   },
   "outputs": [
    {
     "name": "stdout",
     "output_type": "stream",
     "text": [
      "Expected Reward:\n",
      "[ 0.   0.   0.   0.   0.5  0.   0. ]\n",
      "Feature Matrix:\n",
      "[[ 1.]\n",
      " [ 1.]\n",
      " [ 1.]\n",
      " [ 1.]\n",
      " [ 1.]\n",
      " [ 0.]\n",
      " [ 0.]]\n",
      "True Values:\n",
      "[ 0.16666667  0.33333333  0.5         0.66666667  0.83333333  0.          0.        ]\n",
      "Emphasis As Good or Better?: True\n"
     ]
    },
    {
     "data": {
      "text/html": [
       "<div style=\"max-height:1000px;max-width:1500px;overflow:auto;\">\n",
       "<table border=\"1\" class=\"dataframe\">\n",
       "  <thead>\n",
       "    <tr style=\"text-align: right;\">\n",
       "      <th></th>\n",
       "      <th>weights</th>\n",
       "      <th>MSE</th>\n",
       "      <th>values</th>\n",
       "    </tr>\n",
       "  </thead>\n",
       "  <tbody>\n",
       "    <tr>\n",
       "      <th>Least-Squares</th>\n",
       "      <td> [0.5]</td>\n",
       "      <td> 0.055556</td>\n",
       "      <td> [0.5, 0.5, 0.5, 0.5, 0.5, 0.0, 0.0]</td>\n",
       "    </tr>\n",
       "    <tr>\n",
       "      <th>TD</th>\n",
       "      <td> [0.5]</td>\n",
       "      <td> 0.055556</td>\n",
       "      <td> [0.5, 0.5, 0.5, 0.5, 0.5, 0.0, 0.0]</td>\n",
       "    </tr>\n",
       "    <tr>\n",
       "      <th>ETD</th>\n",
       "      <td> [0.5]</td>\n",
       "      <td> 0.055556</td>\n",
       "      <td> [0.5, 0.5, 0.5, 0.5, 0.5, 0.0, 0.0]</td>\n",
       "    </tr>\n",
       "  </tbody>\n",
       "</table>\n",
       "</div>"
      ],
      "text/plain": [
       "              weights       MSE                               values\n",
       "Least-Squares   [0.5]  0.055556  [0.5, 0.5, 0.5, 0.5, 0.5, 0.0, 0.0]\n",
       "TD              [0.5]  0.055556  [0.5, 0.5, 0.5, 0.5, 0.5, 0.0, 0.0]\n",
       "ETD             [0.5]  0.055556  [0.5, 0.5, 0.5, 0.5, 0.5, 0.0, 0.0]"
      ]
     },
     "metadata": {},
     "output_type": "display_data"
    }
   ],
   "source": [
    "rvec = np.zeros(num_states)\n",
    "rvec[-3] = (1-pleft)\n",
    "phi = Wrap(Bias(), terminals=terminals)\n",
    "\n",
    "full_df = report(pmat, rvec, s0, phi, gmfunc, lmfunc, ifunc)\n",
    "df = full_df[[\"weights\", \"MSE\"]]\n",
    "\n",
    "display(full_df)"
   ]
  },
  {
   "cell_type": "code",
   "execution_count": 12,
   "metadata": {
    "collapsed": false
   },
   "outputs": [
    {
     "name": "stdout",
     "output_type": "stream",
     "text": [
      "\\begin{tabular}{llr}\n",
      "\\toprule\n",
      "{} & weights &       MSE \\\\\n",
      "\\midrule\n",
      "Least-Squares &   [0.5] &  0.055556 \\\\\n",
      "TD            &   [0.5] &  0.055556 \\\\\n",
      "ETD           &   [0.5] &  0.055556 \\\\\n",
      "\\bottomrule\n",
      "\\end{tabular}\n",
      "\n"
     ]
    }
   ],
   "source": [
    "print(df.to_latex())"
   ]
  },
  {
   "cell_type": "markdown",
   "metadata": {},
   "source": [
    "## Constant Reward, Constant Feature"
   ]
  },
  {
   "cell_type": "markdown",
   "metadata": {},
   "source": [
    "* r(s) = 1 for s non-terminal\n",
    "* x(s) = 1 for x non-terminal\n",
    "\n",
    "This effectively calculates the expected number of steps to termination."
   ]
  },
  {
   "cell_type": "code",
   "execution_count": 15,
   "metadata": {
    "collapsed": false
   },
   "outputs": [
    {
     "name": "stdout",
     "output_type": "stream",
     "text": [
      "Expected Reward:\n",
      "[ 1.  1.  1.  1.  1.  0.  0.]\n",
      "Feature Matrix:\n",
      "[[ 1.]\n",
      " [ 1.]\n",
      " [ 1.]\n",
      " [ 1.]\n",
      " [ 1.]\n",
      " [ 0.]\n",
      " [ 0.]]\n",
      "True Values:\n",
      "[ 5.  8.  9.  8.  5.  0.  0.]\n",
      "Emphasis As Good or Better?: True\n"
     ]
    },
    {
     "data": {
      "text/html": [
       "<div style=\"max-height:1000px;max-width:1500px;overflow:auto;\">\n",
       "<table border=\"1\" class=\"dataframe\">\n",
       "  <thead>\n",
       "    <tr style=\"text-align: right;\">\n",
       "      <th></th>\n",
       "      <th>weights</th>\n",
       "      <th>MSE</th>\n",
       "      <th>values</th>\n",
       "    </tr>\n",
       "  </thead>\n",
       "  <tbody>\n",
       "    <tr>\n",
       "      <th>Least-Squares</th>\n",
       "      <td>           [7.0]</td>\n",
       "      <td> 2.800000</td>\n",
       "      <td>               [7.0, 7.0, 7.0, 7.0, 7.0, 0.0, 0.0]</td>\n",
       "    </tr>\n",
       "    <tr>\n",
       "      <th>TD</th>\n",
       "      <td>          [8.36]</td>\n",
       "      <td> 4.649600</td>\n",
       "      <td>          [8.36, 8.36, 8.36, 8.36, 8.36, 0.0, 0.0]</td>\n",
       "    </tr>\n",
       "    <tr>\n",
       "      <th>ETD</th>\n",
       "      <td> [7.66666666667]</td>\n",
       "      <td> 3.244444</td>\n",
       "      <td> [7.66666666667, 7.66666666667, 7.66666666667, ...</td>\n",
       "    </tr>\n",
       "  </tbody>\n",
       "</table>\n",
       "</div>"
      ],
      "text/plain": [
       "                       weights       MSE  \\\n",
       "Least-Squares            [7.0]  2.800000   \n",
       "TD                      [8.36]  4.649600   \n",
       "ETD            [7.66666666667]  3.244444   \n",
       "\n",
       "                                                          values  \n",
       "Least-Squares                [7.0, 7.0, 7.0, 7.0, 7.0, 0.0, 0.0]  \n",
       "TD                      [8.36, 8.36, 8.36, 8.36, 8.36, 0.0, 0.0]  \n",
       "ETD            [7.66666666667, 7.66666666667, 7.66666666667, ...  "
      ]
     },
     "metadata": {},
     "output_type": "display_data"
    }
   ],
   "source": [
    "rfunc =  Constant(1.0, terminals=terminals)\n",
    "rvec = np.array([rfunc(s) for s in states])\n",
    "phi = Wrap(Bias(), terminals=terminals)\n",
    "\n",
    "full_df = report(pmat, rvec, s0, phi, gmfunc, lmfunc, ifunc)\n",
    "df = full_df[[\"weights\", \"MSE\"]]\n",
    "\n",
    "display(full_df)"
   ]
  },
  {
   "cell_type": "code",
   "execution_count": 16,
   "metadata": {
    "collapsed": false
   },
   "outputs": [
    {
     "name": "stdout",
     "output_type": "stream",
     "text": [
      "\\begin{tabular}{llr}\n",
      "\\toprule\n",
      "{} &          weights &       MSE \\\\\n",
      "\\midrule\n",
      "Least-Squares &            [7.0] &  2.800000 \\\\\n",
      "TD            &           [8.36] &  4.649600 \\\\\n",
      "ETD           &  [7.66666666667] &  3.244444 \\\\\n",
      "\\bottomrule\n",
      "\\end{tabular}\n",
      "\n"
     ]
    }
   ],
   "source": [
    "print(df.to_latex())"
   ]
  },
  {
   "cell_type": "markdown",
   "metadata": {},
   "source": [
    "## Increasing Reward, Constant Feature"
   ]
  },
  {
   "cell_type": "markdown",
   "metadata": {},
   "source": [
    "* r(s) = s+1 for s non-terminal\n",
    "* x(s) = 1 for x non-terminal"
   ]
  },
  {
   "cell_type": "code",
   "execution_count": 17,
   "metadata": {
    "collapsed": false
   },
   "outputs": [
    {
     "name": "stdout",
     "output_type": "stream",
     "text": [
      "Expected Reward:\n",
      "[ 1.  2.  3.  4.  5.  0.  0.]\n",
      "Feature Matrix:\n",
      "[[ 1.]\n",
      " [ 1.]\n",
      " [ 1.]\n",
      " [ 1.]\n",
      " [ 1.]\n",
      " [ 0.]\n",
      " [ 0.]]\n",
      "True Values:\n",
      "[ 11.66666667  21.33333333  27.          26.66666667  18.33333333   0.           0.        ]\n",
      "Emphasis As Good or Better?: True\n"
     ]
    },
    {
     "data": {
      "text/html": [
       "<div style=\"max-height:1000px;max-width:1500px;overflow:auto;\">\n",
       "<table border=\"1\" class=\"dataframe\">\n",
       "  <thead>\n",
       "    <tr style=\"text-align: right;\">\n",
       "      <th></th>\n",
       "      <th>weights</th>\n",
       "      <th>MSE</th>\n",
       "      <th>values</th>\n",
       "    </tr>\n",
       "  </thead>\n",
       "  <tbody>\n",
       "    <tr>\n",
       "      <th>Least-Squares</th>\n",
       "      <td>  [21.0]</td>\n",
       "      <td> 32.488889</td>\n",
       "      <td>      [21.0, 21.0, 21.0, 21.0, 21.0, 0.0, 0.0]</td>\n",
       "    </tr>\n",
       "    <tr>\n",
       "      <th>TD</th>\n",
       "      <td> [25.08]</td>\n",
       "      <td> 49.135289</td>\n",
       "      <td> [25.08, 25.08, 25.08, 25.08, 25.08, 0.0, 0.0]</td>\n",
       "    </tr>\n",
       "    <tr>\n",
       "      <th>ETD</th>\n",
       "      <td>  [23.0]</td>\n",
       "      <td> 36.488889</td>\n",
       "      <td>      [23.0, 23.0, 23.0, 23.0, 23.0, 0.0, 0.0]</td>\n",
       "    </tr>\n",
       "  </tbody>\n",
       "</table>\n",
       "</div>"
      ],
      "text/plain": [
       "               weights        MSE  \\\n",
       "Least-Squares   [21.0]  32.488889   \n",
       "TD             [25.08]  49.135289   \n",
       "ETD             [23.0]  36.488889   \n",
       "\n",
       "                                                      values  \n",
       "Least-Squares       [21.0, 21.0, 21.0, 21.0, 21.0, 0.0, 0.0]  \n",
       "TD             [25.08, 25.08, 25.08, 25.08, 25.08, 0.0, 0.0]  \n",
       "ETD                 [23.0, 23.0, 23.0, 23.0, 23.0, 0.0, 0.0]  "
      ]
     },
     "metadata": {},
     "output_type": "display_data"
    }
   ],
   "source": [
    "_rfunc = lambda x: basis2int(x) + 1\n",
    "rfunc =  Parameter(_rfunc, terminals=terminals)\n",
    "rvec = np.array([rfunc(s) for s in states])\n",
    "phi = Wrap(Bias(), terminals=terminals)\n",
    "\n",
    "full_df = report(pmat, rvec, s0, phi, gmfunc, lmfunc, ifunc)\n",
    "df = full_df[[\"weights\", \"MSE\"]]\n",
    "\n",
    "display(full_df)"
   ]
  },
  {
   "cell_type": "code",
   "execution_count": 18,
   "metadata": {
    "collapsed": false
   },
   "outputs": [
    {
     "name": "stdout",
     "output_type": "stream",
     "text": [
      "\\begin{tabular}{llr}\n",
      "\\toprule\n",
      "{} &  weights &        MSE \\\\\n",
      "\\midrule\n",
      "Least-Squares &   [21.0] &  32.488889 \\\\\n",
      "TD            &  [25.08] &  49.135289 \\\\\n",
      "ETD           &   [23.0] &  36.488889 \\\\\n",
      "\\bottomrule\n",
      "\\end{tabular}\n",
      "\n"
     ]
    }
   ],
   "source": [
    "print(df.to_latex())"
   ]
  },
  {
   "cell_type": "markdown",
   "metadata": {},
   "source": [
    "## Decreasing Reward, Constant Feature"
   ]
  },
  {
   "cell_type": "markdown",
   "metadata": {},
   "source": [
    "* r(s) = N-1-s for s non-terminal\n",
    "* x(s) = 1 for x non-terminal"
   ]
  },
  {
   "cell_type": "code",
   "execution_count": 19,
   "metadata": {
    "collapsed": false
   },
   "outputs": [
    {
     "name": "stdout",
     "output_type": "stream",
     "text": [
      "Expected Reward:\n",
      "[ 6.  5.  4.  3.  2.  0.  0.]\n",
      "Feature Matrix:\n",
      "[[ 1.]\n",
      " [ 1.]\n",
      " [ 1.]\n",
      " [ 1.]\n",
      " [ 1.]\n",
      " [ 0.]\n",
      " [ 0.]]\n",
      "True Values:\n",
      "[ 23.33333333  34.66666667  36.          29.33333333  16.66666667   0.           0.        ]\n",
      "Emphasis As Good or Better?: True\n"
     ]
    },
    {
     "data": {
      "text/html": [
       "<div style=\"max-height:1000px;max-width:1500px;overflow:auto;\">\n",
       "<table border=\"1\" class=\"dataframe\">\n",
       "  <thead>\n",
       "    <tr style=\"text-align: right;\">\n",
       "      <th></th>\n",
       "      <th>weights</th>\n",
       "      <th>MSE</th>\n",
       "      <th>values</th>\n",
       "    </tr>\n",
       "  </thead>\n",
       "  <tbody>\n",
       "    <tr>\n",
       "      <th>Least-Squares</th>\n",
       "      <td>          [28.0]</td>\n",
       "      <td> 52.088889</td>\n",
       "      <td>          [28.0, 28.0, 28.0, 28.0, 28.0, 0.0, 0.0]</td>\n",
       "    </tr>\n",
       "    <tr>\n",
       "      <th>TD</th>\n",
       "      <td>         [33.44]</td>\n",
       "      <td> 81.682489</td>\n",
       "      <td>     [33.44, 33.44, 33.44, 33.44, 33.44, 0.0, 0.0]</td>\n",
       "    </tr>\n",
       "    <tr>\n",
       "      <th>ETD</th>\n",
       "      <td> [30.6666666667]</td>\n",
       "      <td> 59.200000</td>\n",
       "      <td> [30.6666666667, 30.6666666667, 30.6666666667, ...</td>\n",
       "    </tr>\n",
       "  </tbody>\n",
       "</table>\n",
       "</div>"
      ],
      "text/plain": [
       "                       weights        MSE  \\\n",
       "Least-Squares           [28.0]  52.088889   \n",
       "TD                     [33.44]  81.682489   \n",
       "ETD            [30.6666666667]  59.200000   \n",
       "\n",
       "                                                          values  \n",
       "Least-Squares           [28.0, 28.0, 28.0, 28.0, 28.0, 0.0, 0.0]  \n",
       "TD                 [33.44, 33.44, 33.44, 33.44, 33.44, 0.0, 0.0]  \n",
       "ETD            [30.6666666667, 30.6666666667, 30.6666666667, ...  "
      ]
     },
     "metadata": {},
     "output_type": "display_data"
    }
   ],
   "source": [
    "_rfunc = lambda x: (num_states - basis2int(x) - 1)\n",
    "rfunc =  Parameter(_rfunc, terminals=terminals)\n",
    "rvec = np.array([rfunc(s) for s in states])\n",
    "phi = Wrap(Bias(), terminals=terminals)\n",
    "\n",
    "full_df = report(pmat, rvec, s0, phi, gmfunc, lmfunc, ifunc)\n",
    "df = full_df[[\"weights\", \"MSE\"]]\n",
    "\n",
    "display(full_df)"
   ]
  },
  {
   "cell_type": "code",
   "execution_count": 20,
   "metadata": {
    "collapsed": false
   },
   "outputs": [
    {
     "name": "stdout",
     "output_type": "stream",
     "text": [
      "\\begin{tabular}{llr}\n",
      "\\toprule\n",
      "{} &          weights &        MSE \\\\\n",
      "\\midrule\n",
      "Least-Squares &           [28.0] &  52.088889 \\\\\n",
      "TD            &          [33.44] &  81.682489 \\\\\n",
      "ETD           &  [30.6666666667] &  59.200000 \\\\\n",
      "\\bottomrule\n",
      "\\end{tabular}\n",
      "\n"
     ]
    }
   ],
   "source": [
    "print(df.to_latex())"
   ]
  },
  {
   "cell_type": "markdown",
   "metadata": {},
   "source": [
    "## Constant Reward, Increasing Feature"
   ]
  },
  {
   "cell_type": "markdown",
   "metadata": {},
   "source": [
    "* r(s) = 1 for s non-terminal\n",
    "* x(s) = s+1 for s non-terminal"
   ]
  },
  {
   "cell_type": "code",
   "execution_count": 21,
   "metadata": {
    "collapsed": false
   },
   "outputs": [
    {
     "name": "stdout",
     "output_type": "stream",
     "text": [
      "Expected Reward:\n",
      "[ 1.  1.  1.  1.  1.  0.  0.]\n",
      "Feature Matrix:\n",
      "[[ 1.]\n",
      " [ 2.]\n",
      " [ 3.]\n",
      " [ 4.]\n",
      " [ 5.]\n",
      " [ 0.]\n",
      " [ 0.]]\n",
      "True Values:\n",
      "[ 5.  8.  9.  8.  5.  0.  0.]\n",
      "Emphasis As Good or Better?: False\n"
     ]
    },
    {
     "data": {
      "text/html": [
       "<div style=\"max-height:1000px;max-width:1500px;overflow:auto;\">\n",
       "<table border=\"1\" class=\"dataframe\">\n",
       "  <thead>\n",
       "    <tr style=\"text-align: right;\">\n",
       "      <th></th>\n",
       "      <th>weights</th>\n",
       "      <th>MSE</th>\n",
       "      <th>values</th>\n",
       "    </tr>\n",
       "  </thead>\n",
       "  <tbody>\n",
       "    <tr>\n",
       "      <th>Least-Squares</th>\n",
       "      <td> [1.90909090909]</td>\n",
       "      <td> 11.709091</td>\n",
       "      <td> [1.90909090909, 3.81818181818, 5.72727272727, ...</td>\n",
       "    </tr>\n",
       "    <tr>\n",
       "      <th>TD</th>\n",
       "      <td> [1.90577507599]</td>\n",
       "      <td> 11.709212</td>\n",
       "      <td> [1.90577507599, 3.81155015198, 5.71732522796, ...</td>\n",
       "    </tr>\n",
       "    <tr>\n",
       "      <th>ETD</th>\n",
       "      <td> [1.72212978369]</td>\n",
       "      <td> 12.093590</td>\n",
       "      <td> [1.72212978369, 3.44425956739, 5.16638935108, ...</td>\n",
       "    </tr>\n",
       "  </tbody>\n",
       "</table>\n",
       "</div>"
      ],
      "text/plain": [
       "                       weights        MSE  \\\n",
       "Least-Squares  [1.90909090909]  11.709091   \n",
       "TD             [1.90577507599]  11.709212   \n",
       "ETD            [1.72212978369]  12.093590   \n",
       "\n",
       "                                                          values  \n",
       "Least-Squares  [1.90909090909, 3.81818181818, 5.72727272727, ...  \n",
       "TD             [1.90577507599, 3.81155015198, 5.71732522796, ...  \n",
       "ETD            [1.72212978369, 3.44425956739, 5.16638935108, ...  "
      ]
     },
     "metadata": {},
     "output_type": "display_data"
    }
   ],
   "source": [
    "rfunc =  Constant(1.0, terminals=terminals)\n",
    "rvec = np.array([rfunc(s) for s in states])\n",
    "phi = Wrap(Unary2Int(num_states), terminals=terminals)\n",
    "\n",
    "full_df = report(pmat, rvec, s0, phi, gmfunc, lmfunc, ifunc)\n",
    "df = full_df[[\"weights\", \"MSE\"]]\n",
    "\n",
    "display(full_df)"
   ]
  },
  {
   "cell_type": "markdown",
   "metadata": {},
   "source": [
    "## Decreasing Reward, Increasing Feature"
   ]
  },
  {
   "cell_type": "markdown",
   "metadata": {},
   "source": [
    "* r(s) = N-1-s for s non-terminal\n",
    "* x(s) = s+1 for s non-terminal"
   ]
  },
  {
   "cell_type": "code",
   "execution_count": 22,
   "metadata": {
    "collapsed": false
   },
   "outputs": [
    {
     "name": "stdout",
     "output_type": "stream",
     "text": [
      "Expected Reward:\n",
      "[ 6.  5.  4.  3.  2.  0.  0.]\n",
      "Feature Matrix:\n",
      "[[ 1.]\n",
      " [ 2.]\n",
      " [ 3.]\n",
      " [ 4.]\n",
      " [ 5.]\n",
      " [ 0.]\n",
      " [ 0.]]\n",
      "True Values:\n",
      "[ 23.33333333  34.66666667  36.          29.33333333  16.66666667   0.           0.        ]\n",
      "Emphasis As Good or Better?: False\n"
     ]
    },
    {
     "data": {
      "text/html": [
       "<div style=\"max-height:1000px;max-width:1500px;overflow:auto;\">\n",
       "<table border=\"1\" class=\"dataframe\">\n",
       "  <thead>\n",
       "    <tr style=\"text-align: right;\">\n",
       "      <th></th>\n",
       "      <th>weights</th>\n",
       "      <th>MSE</th>\n",
       "      <th>values</th>\n",
       "    </tr>\n",
       "  </thead>\n",
       "  <tbody>\n",
       "    <tr>\n",
       "      <th>Least-Squares</th>\n",
       "      <td> [7.29696969697]</td>\n",
       "      <td> 250.385455</td>\n",
       "      <td> [7.29696969697, 14.5939393939, 21.8909090909, ...</td>\n",
       "    </tr>\n",
       "    <tr>\n",
       "      <th>TD</th>\n",
       "      <td> [6.99088145897]</td>\n",
       "      <td> 251.416045</td>\n",
       "      <td> [6.99088145897, 13.9817629179, 20.9726443769, ...</td>\n",
       "    </tr>\n",
       "    <tr>\n",
       "      <th>ETD</th>\n",
       "      <td> [6.24958402662]</td>\n",
       "      <td> 262.452639</td>\n",
       "      <td> [6.24958402662, 12.4991680532, 18.7487520799, ...</td>\n",
       "    </tr>\n",
       "  </tbody>\n",
       "</table>\n",
       "</div>"
      ],
      "text/plain": [
       "                       weights         MSE  \\\n",
       "Least-Squares  [7.29696969697]  250.385455   \n",
       "TD             [6.99088145897]  251.416045   \n",
       "ETD            [6.24958402662]  262.452639   \n",
       "\n",
       "                                                          values  \n",
       "Least-Squares  [7.29696969697, 14.5939393939, 21.8909090909, ...  \n",
       "TD             [6.99088145897, 13.9817629179, 20.9726443769, ...  \n",
       "ETD            [6.24958402662, 12.4991680532, 18.7487520799, ...  "
      ]
     },
     "metadata": {},
     "output_type": "display_data"
    }
   ],
   "source": [
    "_rfunc = lambda x: (num_states - basis2int(x) - 1)\n",
    "rfunc =  Parameter(_rfunc, terminals=terminals)\n",
    "rvec = np.array([rfunc(s) for s in states])\n",
    "phi = Wrap(Unary2Int(num_states), terminals=terminals)\n",
    "\n",
    "full_df = report(pmat, rvec, s0, phi, gmfunc, lmfunc, ifunc)\n",
    "df = full_df[[\"weights\", \"MSE\"]]\n",
    "\n",
    "display(full_df)"
   ]
  },
  {
   "cell_type": "code",
   "execution_count": 23,
   "metadata": {
    "collapsed": false
   },
   "outputs": [
    {
     "name": "stdout",
     "output_type": "stream",
     "text": [
      "\\begin{tabular}{llr}\n",
      "\\toprule\n",
      "{} &          weights &         MSE \\\\\n",
      "\\midrule\n",
      "Least-Squares &  [7.29696969697] &  250.385455 \\\\\n",
      "TD            &  [6.99088145897] &  251.416045 \\\\\n",
      "ETD           &  [6.24958402662] &  262.452639 \\\\\n",
      "\\bottomrule\n",
      "\\end{tabular}\n",
      "\n"
     ]
    }
   ],
   "source": [
    "print(df.to_latex())"
   ]
  }
 ],
 "metadata": {
  "kernelspec": {
   "display_name": "Python 3",
   "language": "python",
   "name": "python3"
  },
  "language_info": {
   "codemirror_mode": {
    "name": "ipython",
    "version": 3
   },
   "file_extension": ".py",
   "mimetype": "text/x-python",
   "name": "python",
   "nbconvert_exporter": "python",
   "pygments_lexer": "ipython3",
   "version": "3.4.3"
  }
 },
 "nbformat": 4,
 "nbformat_minor": 0
}
