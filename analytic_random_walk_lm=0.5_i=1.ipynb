{
 "cells": [
  {
   "cell_type": "markdown",
   "metadata": {},
   "source": [
    "# TD/ETD Comparison on \"Random Walk\"\n",
    "\n",
    "This notebook contains some comparisons between TD and Emphatic TD on a simple problem under function approximation. \n",
    "\n",
    "We identify the solutions each algorithm converges to using the matrix operator equations for each algorithm, and compare them to the optimal approximation (as found by the least squares solution)."
   ]
  },
  {
   "cell_type": "code",
   "execution_count": 1,
   "metadata": {
    "collapsed": true
   },
   "outputs": [],
   "source": [
    "import numpy as np\n",
    "import pandas as pd\n",
    "from functools import reduce\n",
    "from numpy import dot\n",
    "from numpy.linalg import pinv\n",
    "\n",
    "from features import *\n",
    "from mdptools import *\n",
    "from solvers import td_solution, etd_solution, exact_solution"
   ]
  },
  {
   "cell_type": "code",
   "execution_count": 2,
   "metadata": {
    "collapsed": true
   },
   "outputs": [],
   "source": [
    "from IPython.display import display"
   ]
  },
  {
   "cell_type": "code",
   "execution_count": 3,
   "metadata": {
    "collapsed": false
   },
   "outputs": [],
   "source": [
    "def report(P, R, phi_func, gm_func, lm_func, i_func):\n",
    "    \"\"\"Function for collating and comparing the various solutions.\"\"\"\n",
    "    states = state_vectors(pmat)\n",
    "    nn = len(find_nonterminals(P))\n",
    "    X = feature_matrix(states, phi_func)\n",
    "    V = exact_solution(P, R, gm_func)\n",
    "    \n",
    "    # Best approximation (least squares)\n",
    "    w_approx, *_ = np.linalg.lstsq(X, V)\n",
    "    V_approx = np.dot(X, w_approx)\n",
    "    E_approx = np.sum((V - V_approx)**2)/nn\n",
    "    \n",
    "    # TD\n",
    "    w_td = td_solution(P, R, phi_func, gm_func, lm_func)\n",
    "    V_td = np.dot(X, w_td)\n",
    "    E_td = np.sum((V - V_td)**2)/nn\n",
    "    \n",
    "    # Emphatic TD fixed point\n",
    "    w_etd = etd_solution(P, R, phi_func, gm_func, lm_func, i_func)\n",
    "    V_etd = np.dot(X, w_etd)\n",
    "    E_etd = np.sum((V - V_etd)**2)/nn\n",
    "    \n",
    "    dct = {\"TD\": {\"weights\": w_td, \"MSE\": E_td},\n",
    "           \"ETD\": {\"weights\": w_etd, \"MSE\": E_etd},\n",
    "           \"Least-Squares\": {\"weights\": w_approx, \"MSE\": E_approx},\n",
    "           }\n",
    "    \n",
    "    dct = {\"weights\": \n",
    "            {\n",
    "              \"Least-Squares\": w_approx, \"TD\": w_td, \"ETD\": w_etd,\n",
    "            }, \n",
    "           \"MSE\": \n",
    "            {\n",
    "              \"Least-Squares\": E_approx, \"TD\": E_td, \"ETD\": E_etd,\n",
    "            },\n",
    "           \"values\":\n",
    "            {\n",
    "                \"Least-Squares\": V_approx, \"TD\": V_td, \"ETD\": V_etd,\n",
    "            },\n",
    "           }\n",
    "           \n",
    "             \n",
    "    \n",
    "    df = pd.DataFrame(dct, \n",
    "                      index=[\"Least-Squares\", \"TD\", \"ETD\"],\n",
    "                      columns=[\"weights\", \"MSE\", \"values\"],)\n",
    "    \n",
    "    # Additional Information\n",
    "    print(\"Expected Reward:\")\n",
    "    print(R)\n",
    "    \n",
    "    print(\"Feature Matrix:\")\n",
    "    print(X)\n",
    "    \n",
    "    print(\"True Values:\")\n",
    "    print(V)\n",
    "    \n",
    "    print(\"Emphasis As Good or Better?:\", (E_etd <= E_td))\n",
    "    return df"
   ]
  },
  {
   "cell_type": "markdown",
   "metadata": {},
   "source": [
    "# Random Walk\n",
    "\n",
    "An environment which represents a random walk along a 1-D chain.\n",
    "\n",
    "* Here, states are indexed from 0 to N-1, with states N and N-1 being the terminal states.\n",
    "    * We refer to state `N-1` as the \"rightmost\" state, and state `N-2` as the \"leftmost\" state.\n",
    "* The start state is in the middle of the chain, $s0 = \\lfloor (N-2)/2 \\rfloor$\n",
    "* In terminal states, the feature vector $x(s)$ is the zero vector, the reward $r(s)$ is zero, and $\\gamma(s) = \\lambda(s) = i(s) = 0$.\n",
    "* The environment is undiscounted, so $\\gamma(s) = 1$ for $s$ non-terminal.\n",
    "* For these experiments, $\\lambda(s) = 0.5$ for $s$ non-terminal.\n",
    "* Interest is constant and uniform for each state; $i(s) = 1$ for $s$ non-terminal."
   ]
  },
  {
   "cell_type": "code",
   "execution_count": 4,
   "metadata": {
    "collapsed": true
   },
   "outputs": [],
   "source": [
    "def random_walk_matrix(n, p=0.5):\n",
    "    \"\"\"\n",
    "    The transition matrix for a random walk with `n` states (including \n",
    "    two terminal states).\n",
    "    \"\"\"\n",
    "    ret = np.zeros((n,n))\n",
    "    # terminal state transitions\n",
    "    ret[-2:, -2:] = np.eye(2) \n",
    "    # transient states that can terminate\n",
    "    ret[0,-2] = p       # left side of chain\n",
    "    ret[0,1] = (1-p)\n",
    "    ret[-3,-4] = p      # right side of chain\n",
    "    ret[-3,-1] = (1-p)\n",
    "    # handle rest of transient states\n",
    "    for i in range(1, n-3):\n",
    "        ret[i][i-1] = p \n",
    "        ret[i][i+1] = (1-p)\n",
    "    return ret"
   ]
  },
  {
   "cell_type": "code",
   "execution_count": 9,
   "metadata": {
    "collapsed": false
   },
   "outputs": [],
   "source": [
    "# Common parts of problem specification\n",
    "num_states = 7\n",
    "pleft = 0.5\n",
    "pmat = random_walk_matrix(num_states, p=pleft)\n",
    "states = state_vectors(pmat)\n",
    "indices = state_indices(pmat)\n",
    "terminals = [as_tuple(s) for s in find_terminals(pmat)]\n",
    "gmfunc = Constant(1.0, terminals=terminals)\n",
    "lmfunc = Constant(0.5, terminals=terminals)\n",
    "ifunc = Constant(1.0, terminals=terminals)"
   ]
  },
  {
   "cell_type": "code",
   "execution_count": 10,
   "metadata": {
    "collapsed": false
   },
   "outputs": [
    {
     "data": {
      "text/plain": [
       "array([[ 0. ,  0.5,  0. ,  0. ,  0. ,  0.5,  0. ],\n",
       "       [ 0.5,  0. ,  0.5,  0. ,  0. ,  0. ,  0. ],\n",
       "       [ 0. ,  0.5,  0. ,  0.5,  0. ,  0. ,  0. ],\n",
       "       [ 0. ,  0. ,  0.5,  0. ,  0.5,  0. ,  0. ],\n",
       "       [ 0. ,  0. ,  0. ,  0.5,  0. ,  0. ,  0.5],\n",
       "       [ 0. ,  0. ,  0. ,  0. ,  0. ,  1. ,  0. ],\n",
       "       [ 0. ,  0. ,  0. ,  0. ,  0. ,  0. ,  1. ]])"
      ]
     },
     "metadata": {},
     "output_type": "display_data"
    }
   ],
   "source": [
    "display(pmat)"
   ]
  },
  {
   "cell_type": "markdown",
   "metadata": {},
   "source": [
    "## Constant Feature, Unit Reward on Right-Termination\n",
    "\n",
    "* reward for terminating in the rightmost state, `N-1`\n",
    "    * r(s) = 1 for $(s, a, s') = (N-3, right, N-1)$\n",
    "    * r(s) = 0 for all other transitions.\n",
    "* x(s) = 1 for x non-terminal"
   ]
  },
  {
   "cell_type": "code",
   "execution_count": null,
   "metadata": {
    "collapsed": true
   },
   "outputs": [],
   "source": [
    "rvec = np.zeros(num_states)\n",
    "rvec[-3] = (1-pleft)\n",
    "phi = Wrap(Bias(), terminals=terminals)\n",
    "\n",
    "full_df = report(pmat, rvec, phi, gmfunc, lmfunc, ifunc)\n",
    "df = full_df[[\"weights\", \"MSE\"]]\n",
    "\n",
    "display(full_df)"
   ]
  },
  {
   "cell_type": "code",
   "execution_count": 14,
   "metadata": {
    "collapsed": false
   },
   "outputs": [
    {
     "name": "stdout",
     "output_type": "stream",
     "text": [
      "\\begin{tabular}{llr}\n",
      "\\toprule\n",
      "{} & weights &       MSE \\\\\n",
      "\\midrule\n",
      "Least-Squares &   [0.5] &  0.055556 \\\\\n",
      "TD            &   [0.5] &  0.055556 \\\\\n",
      "ETD           &   [0.5] &  0.055556 \\\\\n",
      "\\bottomrule\n",
      "\\end{tabular}\n",
      "\n"
     ]
    }
   ],
   "source": [
    "print(df.to_latex())"
   ]
  },
  {
   "cell_type": "markdown",
   "metadata": {},
   "source": [
    "## Constant Reward, Constant Feature"
   ]
  },
  {
   "cell_type": "markdown",
   "metadata": {},
   "source": [
    "* r(s) = 1 for s non-terminal\n",
    "* x(s) = 1 for x non-terminal\n",
    "\n",
    "This effectively calculates the expected number of steps to termination."
   ]
  },
  {
   "cell_type": "code",
   "execution_count": 15,
   "metadata": {
    "collapsed": false
   },
   "outputs": [
    {
     "name": "stdout",
     "output_type": "stream",
     "text": [
      "Expected Reward:\n",
      "[ 1.  1.  1.  1.  1.  0.  0.]\n",
      "Feature Matrix:\n",
      "[[ 1.]\n",
      " [ 1.]\n",
      " [ 1.]\n",
      " [ 1.]\n",
      " [ 1.]\n",
      " [ 0.]\n",
      " [ 0.]]\n",
      "True Values:\n",
      "[ 5.  8.  9.  8.  5.  0.  0.]\n",
      "Emphasis As Good or Better?: True\n"
     ]
    },
    {
     "data": {
      "text/html": [
       "<div style=\"max-height:1000px;max-width:1500px;overflow:auto;\">\n",
       "<table border=\"1\" class=\"dataframe\">\n",
       "  <thead>\n",
       "    <tr style=\"text-align: right;\">\n",
       "      <th></th>\n",
       "      <th>weights</th>\n",
       "      <th>MSE</th>\n",
       "      <th>values</th>\n",
       "    </tr>\n",
       "  </thead>\n",
       "  <tbody>\n",
       "    <tr>\n",
       "      <th>Least-Squares</th>\n",
       "      <td>           [7.0]</td>\n",
       "      <td> 2.80000</td>\n",
       "      <td>               [7.0, 7.0, 7.0, 7.0, 7.0, 0.0, 0.0]</td>\n",
       "    </tr>\n",
       "    <tr>\n",
       "      <th>TD</th>\n",
       "      <td> [5.84210526316]</td>\n",
       "      <td> 4.14072</td>\n",
       "      <td> [5.84210526316, 5.84210526316, 5.84210526316, ...</td>\n",
       "    </tr>\n",
       "    <tr>\n",
       "      <th>ETD</th>\n",
       "      <td>           [7.0]</td>\n",
       "      <td> 2.80000</td>\n",
       "      <td>               [7.0, 7.0, 7.0, 7.0, 7.0, 0.0, 0.0]</td>\n",
       "    </tr>\n",
       "  </tbody>\n",
       "</table>\n",
       "</div>"
      ],
      "text/plain": [
       "                       weights      MSE  \\\n",
       "Least-Squares            [7.0]  2.80000   \n",
       "TD             [5.84210526316]  4.14072   \n",
       "ETD                      [7.0]  2.80000   \n",
       "\n",
       "                                                          values  \n",
       "Least-Squares                [7.0, 7.0, 7.0, 7.0, 7.0, 0.0, 0.0]  \n",
       "TD             [5.84210526316, 5.84210526316, 5.84210526316, ...  \n",
       "ETD                          [7.0, 7.0, 7.0, 7.0, 7.0, 0.0, 0.0]  "
      ]
     },
     "metadata": {},
     "output_type": "display_data"
    }
   ],
   "source": [
    "rfunc =  Constant(1.0, terminals=terminals)\n",
    "rvec = np.array([rfunc(s) for s in states])\n",
    "phi = Wrap(Bias(), terminals=terminals)\n",
    "\n",
    "full_df = report(pmat, rvec, phi, gmfunc, lmfunc, ifunc)\n",
    "df = full_df[[\"weights\", \"MSE\"]]\n",
    "\n",
    "display(full_df)"
   ]
  },
  {
   "cell_type": "code",
   "execution_count": 16,
   "metadata": {
    "collapsed": false
   },
   "outputs": [
    {
     "name": "stdout",
     "output_type": "stream",
     "text": [
      "\\begin{tabular}{llr}\n",
      "\\toprule\n",
      "{} &          weights &      MSE \\\\\n",
      "\\midrule\n",
      "Least-Squares &            [7.0] &  2.80000 \\\\\n",
      "TD            &  [5.84210526316] &  4.14072 \\\\\n",
      "ETD           &            [7.0] &  2.80000 \\\\\n",
      "\\bottomrule\n",
      "\\end{tabular}\n",
      "\n"
     ]
    }
   ],
   "source": [
    "print(df.to_latex())"
   ]
  },
  {
   "cell_type": "markdown",
   "metadata": {},
   "source": [
    "## Increasing Reward, Constant Feature"
   ]
  },
  {
   "cell_type": "markdown",
   "metadata": {},
   "source": [
    "* r(s) = s+1 for s non-terminal\n",
    "* x(s) = 1 for x non-terminal"
   ]
  },
  {
   "cell_type": "code",
   "execution_count": 17,
   "metadata": {
    "collapsed": false
   },
   "outputs": [
    {
     "name": "stdout",
     "output_type": "stream",
     "text": [
      "Expected Reward:\n",
      "[ 1.  2.  3.  4.  5.  0.  0.]\n",
      "Feature Matrix:\n",
      "[[ 1.]\n",
      " [ 1.]\n",
      " [ 1.]\n",
      " [ 1.]\n",
      " [ 1.]\n",
      " [ 0.]\n",
      " [ 0.]]\n",
      "True Values:\n",
      "[ 11.66666667  21.33333333  27.          26.66666667  18.33333333   0.           0.        ]\n",
      "Emphasis As Good or Better?: True\n"
     ]
    },
    {
     "data": {
      "text/html": [
       "<div style=\"max-height:1000px;max-width:1500px;overflow:auto;\">\n",
       "<table border=\"1\" class=\"dataframe\">\n",
       "  <thead>\n",
       "    <tr style=\"text-align: right;\">\n",
       "      <th></th>\n",
       "      <th>weights</th>\n",
       "      <th>MSE</th>\n",
       "      <th>values</th>\n",
       "    </tr>\n",
       "  </thead>\n",
       "  <tbody>\n",
       "    <tr>\n",
       "      <th>Least-Squares</th>\n",
       "      <td>          [21.0]</td>\n",
       "      <td> 32.488889</td>\n",
       "      <td>          [21.0, 21.0, 21.0, 21.0, 21.0, 0.0, 0.0]</td>\n",
       "    </tr>\n",
       "    <tr>\n",
       "      <th>TD</th>\n",
       "      <td> [17.5263157895]</td>\n",
       "      <td> 44.555371</td>\n",
       "      <td> [17.5263157895, 17.5263157895, 17.5263157895, ...</td>\n",
       "    </tr>\n",
       "    <tr>\n",
       "      <th>ETD</th>\n",
       "      <td>          [21.0]</td>\n",
       "      <td> 32.488889</td>\n",
       "      <td>          [21.0, 21.0, 21.0, 21.0, 21.0, 0.0, 0.0]</td>\n",
       "    </tr>\n",
       "  </tbody>\n",
       "</table>\n",
       "</div>"
      ],
      "text/plain": [
       "                       weights        MSE  \\\n",
       "Least-Squares           [21.0]  32.488889   \n",
       "TD             [17.5263157895]  44.555371   \n",
       "ETD                     [21.0]  32.488889   \n",
       "\n",
       "                                                          values  \n",
       "Least-Squares           [21.0, 21.0, 21.0, 21.0, 21.0, 0.0, 0.0]  \n",
       "TD             [17.5263157895, 17.5263157895, 17.5263157895, ...  \n",
       "ETD                     [21.0, 21.0, 21.0, 21.0, 21.0, 0.0, 0.0]  "
      ]
     },
     "metadata": {},
     "output_type": "display_data"
    }
   ],
   "source": [
    "_rfunc = lambda x: basis2int(x) + 1\n",
    "rfunc =  Parameter(_rfunc, terminals=terminals)\n",
    "rvec = np.array([rfunc(s) for s in states])\n",
    "phi = Wrap(Bias(), terminals=terminals)\n",
    "\n",
    "full_df = report(pmat, rvec, phi, gmfunc, lmfunc, ifunc)\n",
    "df = full_df[[\"weights\", \"MSE\"]]\n",
    "\n",
    "display(full_df)"
   ]
  },
  {
   "cell_type": "code",
   "execution_count": 18,
   "metadata": {
    "collapsed": false
   },
   "outputs": [
    {
     "name": "stdout",
     "output_type": "stream",
     "text": [
      "\\begin{tabular}{llr}\n",
      "\\toprule\n",
      "{} &          weights &        MSE \\\\\n",
      "\\midrule\n",
      "Least-Squares &           [21.0] &  32.488889 \\\\\n",
      "TD            &  [17.5263157895] &  44.555371 \\\\\n",
      "ETD           &           [21.0] &  32.488889 \\\\\n",
      "\\bottomrule\n",
      "\\end{tabular}\n",
      "\n"
     ]
    }
   ],
   "source": [
    "print(df.to_latex())"
   ]
  },
  {
   "cell_type": "markdown",
   "metadata": {},
   "source": [
    "## Decreasing Reward, Constant Feature"
   ]
  },
  {
   "cell_type": "markdown",
   "metadata": {},
   "source": [
    "* r(s) = N-1-s for s non-terminal\n",
    "* x(s) = 1 for x non-terminal"
   ]
  },
  {
   "cell_type": "code",
   "execution_count": 19,
   "metadata": {
    "collapsed": false
   },
   "outputs": [
    {
     "name": "stdout",
     "output_type": "stream",
     "text": [
      "Expected Reward:\n",
      "[ 6.  5.  4.  3.  2.  0.  0.]\n",
      "Feature Matrix:\n",
      "[[ 1.]\n",
      " [ 1.]\n",
      " [ 1.]\n",
      " [ 1.]\n",
      " [ 1.]\n",
      " [ 0.]\n",
      " [ 0.]]\n",
      "True Values:\n",
      "[ 23.33333333  34.66666667  36.          29.33333333  16.66666667   0.           0.        ]\n",
      "Emphasis As Good or Better?: True\n"
     ]
    },
    {
     "data": {
      "text/html": [
       "<div style=\"max-height:1000px;max-width:1500px;overflow:auto;\">\n",
       "<table border=\"1\" class=\"dataframe\">\n",
       "  <thead>\n",
       "    <tr style=\"text-align: right;\">\n",
       "      <th></th>\n",
       "      <th>weights</th>\n",
       "      <th>MSE</th>\n",
       "      <th>values</th>\n",
       "    </tr>\n",
       "  </thead>\n",
       "  <tbody>\n",
       "    <tr>\n",
       "      <th>Least-Squares</th>\n",
       "      <td>          [28.0]</td>\n",
       "      <td> 52.088889</td>\n",
       "      <td>          [28.0, 28.0, 28.0, 28.0, 28.0, 0.0, 0.0]</td>\n",
       "    </tr>\n",
       "    <tr>\n",
       "      <th>TD</th>\n",
       "      <td> [23.3684210526]</td>\n",
       "      <td> 73.540412</td>\n",
       "      <td> [23.3684210526, 23.3684210526, 23.3684210526, ...</td>\n",
       "    </tr>\n",
       "    <tr>\n",
       "      <th>ETD</th>\n",
       "      <td>          [28.0]</td>\n",
       "      <td> 52.088889</td>\n",
       "      <td>          [28.0, 28.0, 28.0, 28.0, 28.0, 0.0, 0.0]</td>\n",
       "    </tr>\n",
       "  </tbody>\n",
       "</table>\n",
       "</div>"
      ],
      "text/plain": [
       "                       weights        MSE  \\\n",
       "Least-Squares           [28.0]  52.088889   \n",
       "TD             [23.3684210526]  73.540412   \n",
       "ETD                     [28.0]  52.088889   \n",
       "\n",
       "                                                          values  \n",
       "Least-Squares           [28.0, 28.0, 28.0, 28.0, 28.0, 0.0, 0.0]  \n",
       "TD             [23.3684210526, 23.3684210526, 23.3684210526, ...  \n",
       "ETD                     [28.0, 28.0, 28.0, 28.0, 28.0, 0.0, 0.0]  "
      ]
     },
     "metadata": {},
     "output_type": "display_data"
    }
   ],
   "source": [
    "_rfunc = lambda x: (num_states - basis2int(x) - 1)\n",
    "rfunc =  Parameter(_rfunc, terminals=terminals)\n",
    "rvec = np.array([rfunc(s) for s in states])\n",
    "phi = Wrap(Bias(), terminals=terminals)\n",
    "\n",
    "full_df = report(pmat, rvec, phi, gmfunc, lmfunc, ifunc)\n",
    "df = full_df[[\"weights\", \"MSE\"]]\n",
    "\n",
    "display(full_df)"
   ]
  },
  {
   "cell_type": "code",
   "execution_count": 20,
   "metadata": {
    "collapsed": false
   },
   "outputs": [
    {
     "name": "stdout",
     "output_type": "stream",
     "text": [
      "\\begin{tabular}{llr}\n",
      "\\toprule\n",
      "{} &          weights &        MSE \\\\\n",
      "\\midrule\n",
      "Least-Squares &           [28.0] &  52.088889 \\\\\n",
      "TD            &  [23.3684210526] &  73.540412 \\\\\n",
      "ETD           &           [28.0] &  52.088889 \\\\\n",
      "\\bottomrule\n",
      "\\end{tabular}\n",
      "\n"
     ]
    }
   ],
   "source": [
    "print(df.to_latex())"
   ]
  },
  {
   "cell_type": "markdown",
   "metadata": {},
   "source": [
    "## Constant Reward, Increasing Feature"
   ]
  },
  {
   "cell_type": "markdown",
   "metadata": {},
   "source": [
    "* r(s) = 1 for s non-terminal\n",
    "* x(s) = s+1 for s non-terminal"
   ]
  },
  {
   "cell_type": "code",
   "execution_count": 21,
   "metadata": {
    "collapsed": false
   },
   "outputs": [
    {
     "name": "stdout",
     "output_type": "stream",
     "text": [
      "Expected Reward:\n",
      "[ 1.  1.  1.  1.  1.  0.  0.]\n",
      "Feature Matrix:\n",
      "[[ 1.]\n",
      " [ 2.]\n",
      " [ 3.]\n",
      " [ 4.]\n",
      " [ 5.]\n",
      " [ 0.]\n",
      " [ 0.]]\n",
      "True Values:\n",
      "[ 5.  8.  9.  8.  5.  0.  0.]\n",
      "Emphasis As Good or Better?: True\n"
     ]
    },
    {
     "data": {
      "text/html": [
       "<div style=\"max-height:1000px;max-width:1500px;overflow:auto;\">\n",
       "<table border=\"1\" class=\"dataframe\">\n",
       "  <thead>\n",
       "    <tr style=\"text-align: right;\">\n",
       "      <th></th>\n",
       "      <th>weights</th>\n",
       "      <th>MSE</th>\n",
       "      <th>values</th>\n",
       "    </tr>\n",
       "  </thead>\n",
       "  <tbody>\n",
       "    <tr>\n",
       "      <th>Least-Squares</th>\n",
       "      <td> [1.90909090909]</td>\n",
       "      <td> 11.709091</td>\n",
       "      <td> [1.90909090909, 3.81818181818, 5.72727272727, ...</td>\n",
       "    </tr>\n",
       "    <tr>\n",
       "      <th>TD</th>\n",
       "      <td> [1.25850340136]</td>\n",
       "      <td> 16.364996</td>\n",
       "      <td> [1.25850340136, 2.51700680272, 3.77551020408, ...</td>\n",
       "    </tr>\n",
       "    <tr>\n",
       "      <th>ETD</th>\n",
       "      <td> [1.54867256637]</td>\n",
       "      <td> 13.138006</td>\n",
       "      <td> [1.54867256637, 3.09734513274, 4.64601769912, ...</td>\n",
       "    </tr>\n",
       "  </tbody>\n",
       "</table>\n",
       "</div>"
      ],
      "text/plain": [
       "                       weights        MSE  \\\n",
       "Least-Squares  [1.90909090909]  11.709091   \n",
       "TD             [1.25850340136]  16.364996   \n",
       "ETD            [1.54867256637]  13.138006   \n",
       "\n",
       "                                                          values  \n",
       "Least-Squares  [1.90909090909, 3.81818181818, 5.72727272727, ...  \n",
       "TD             [1.25850340136, 2.51700680272, 3.77551020408, ...  \n",
       "ETD            [1.54867256637, 3.09734513274, 4.64601769912, ...  "
      ]
     },
     "metadata": {},
     "output_type": "display_data"
    }
   ],
   "source": [
    "rfunc =  Constant(1.0, terminals=terminals)\n",
    "rvec = np.array([rfunc(s) for s in states])\n",
    "phi = Wrap(Unary2Int(num_states), terminals=terminals)\n",
    "\n",
    "full_df = report(pmat, rvec, phi, gmfunc, lmfunc, ifunc)\n",
    "df = full_df[[\"weights\", \"MSE\"]]\n",
    "\n",
    "display(full_df)"
   ]
  },
  {
   "cell_type": "markdown",
   "metadata": {},
   "source": [
    "## Decreasing Reward, Increasing Feature"
   ]
  },
  {
   "cell_type": "markdown",
   "metadata": {},
   "source": [
    "* r(s) = N-1-s for s non-terminal\n",
    "* x(s) = s+1 for s non-terminal"
   ]
  },
  {
   "cell_type": "code",
   "execution_count": 22,
   "metadata": {
    "collapsed": false
   },
   "outputs": [
    {
     "name": "stdout",
     "output_type": "stream",
     "text": [
      "Expected Reward:\n",
      "[ 6.  5.  4.  3.  2.  0.  0.]\n",
      "Feature Matrix:\n",
      "[[ 1.]\n",
      " [ 2.]\n",
      " [ 3.]\n",
      " [ 4.]\n",
      " [ 5.]\n",
      " [ 0.]\n",
      " [ 0.]]\n",
      "True Values:\n",
      "[ 23.33333333  34.66666667  36.          29.33333333  16.66666667   0.           0.        ]\n",
      "Emphasis As Good or Better?: True\n"
     ]
    },
    {
     "data": {
      "text/html": [
       "<div style=\"max-height:1000px;max-width:1500px;overflow:auto;\">\n",
       "<table border=\"1\" class=\"dataframe\">\n",
       "  <thead>\n",
       "    <tr style=\"text-align: right;\">\n",
       "      <th></th>\n",
       "      <th>weights</th>\n",
       "      <th>MSE</th>\n",
       "      <th>values</th>\n",
       "    </tr>\n",
       "  </thead>\n",
       "  <tbody>\n",
       "    <tr>\n",
       "      <th>Least-Squares</th>\n",
       "      <td> [7.29696969697]</td>\n",
       "      <td> 250.385455</td>\n",
       "      <td> [7.29696969697, 14.5939393939, 21.8909090909, ...</td>\n",
       "    </tr>\n",
       "    <tr>\n",
       "      <th>TD</th>\n",
       "      <td> [4.40513983371]</td>\n",
       "      <td> 342.374934</td>\n",
       "      <td> [4.40513983371, 8.81027966742, 13.2154195011, ...</td>\n",
       "    </tr>\n",
       "    <tr>\n",
       "      <th>ETD</th>\n",
       "      <td> [5.55752212389]</td>\n",
       "      <td> 283.667911</td>\n",
       "      <td> [5.55752212389, 11.1150442478, 16.6725663717, ...</td>\n",
       "    </tr>\n",
       "  </tbody>\n",
       "</table>\n",
       "</div>"
      ],
      "text/plain": [
       "                       weights         MSE  \\\n",
       "Least-Squares  [7.29696969697]  250.385455   \n",
       "TD             [4.40513983371]  342.374934   \n",
       "ETD            [5.55752212389]  283.667911   \n",
       "\n",
       "                                                          values  \n",
       "Least-Squares  [7.29696969697, 14.5939393939, 21.8909090909, ...  \n",
       "TD             [4.40513983371, 8.81027966742, 13.2154195011, ...  \n",
       "ETD            [5.55752212389, 11.1150442478, 16.6725663717, ...  "
      ]
     },
     "metadata": {},
     "output_type": "display_data"
    }
   ],
   "source": [
    "_rfunc = lambda x: (num_states - basis2int(x) - 1)\n",
    "rfunc =  Parameter(_rfunc, terminals=terminals)\n",
    "rvec = np.array([rfunc(s) for s in states])\n",
    "phi = Wrap(Unary2Int(num_states), terminals=terminals)\n",
    "\n",
    "full_df = report(pmat, rvec, phi, gmfunc, lmfunc, ifunc)\n",
    "df = full_df[[\"weights\", \"MSE\"]]\n",
    "\n",
    "display(full_df)"
   ]
  },
  {
   "cell_type": "code",
   "execution_count": 23,
   "metadata": {
    "collapsed": false
   },
   "outputs": [
    {
     "name": "stdout",
     "output_type": "stream",
     "text": [
      "\\begin{tabular}{llr}\n",
      "\\toprule\n",
      "{} &          weights &         MSE \\\\\n",
      "\\midrule\n",
      "Least-Squares &  [7.29696969697] &  250.385455 \\\\\n",
      "TD            &  [4.40513983371] &  342.374934 \\\\\n",
      "ETD           &  [5.55752212389] &  283.667911 \\\\\n",
      "\\bottomrule\n",
      "\\end{tabular}\n",
      "\n"
     ]
    }
   ],
   "source": [
    "print(df.to_latex())"
   ]
  }
 ],
 "metadata": {
  "kernelspec": {
   "display_name": "Python 3",
   "language": "python",
   "name": "python3"
  },
  "language_info": {
   "codemirror_mode": {
    "name": "ipython",
    "version": 3
   },
   "file_extension": ".py",
   "mimetype": "text/x-python",
   "name": "python",
   "nbconvert_exporter": "python",
   "pygments_lexer": "ipython3",
   "version": "3.4.3"
  }
 },
 "nbformat": 4,
 "nbformat_minor": 0
}
