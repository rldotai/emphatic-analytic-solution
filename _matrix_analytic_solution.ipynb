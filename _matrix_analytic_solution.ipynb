{
 "cells": [
  {
   "cell_type": "code",
   "execution_count": 1,
   "metadata": {
    "collapsed": false
   },
   "outputs": [],
   "source": [
    "import numpy as np\n",
    "from numpy import dot\n",
    "from numpy.linalg import pinv\n",
    "\n",
    "from functools import reduce\n",
    "\n",
    "from features import *\n",
    "from mdptools import *"
   ]
  },
  {
   "cell_type": "code",
   "execution_count": 2,
   "metadata": {
    "collapsed": true
   },
   "outputs": [],
   "source": [
    "def td_solution(P, R, phi_func, gm_func, lm_func):\n",
    "    # TODO: check parameters\n",
    "    ns = len(P)\n",
    "    states = state_vectors(P)\n",
    "    I = np.eye(ns)\n",
    "    X = feature_matrix(states, phi_func)\n",
    "    G = np.diag([gm_func(s) for s in states])\n",
    "    L = np.diag([lm_func(s) for s in states])\n",
    "    \n",
    "    # Need to be able to compute the distribution matrix...\n",
    "    \n",
    "    # Solve the system of equations\n",
    "    b = np.dot(X.T, R)\n",
    "    A = mult(X.T, (I - np.dot(P, G)), X)\n",
    "    return np.dot(pinv(A), b)"
   ]
  },
  {
   "cell_type": "code",
   "execution_count": 3,
   "metadata": {
    "collapsed": true
   },
   "outputs": [],
   "source": [
    "def etd_solution(P, R, phi_func, gm_func, lm_func, i_func):\n",
    "    ns = len(P)\n",
    "    states = state_vectors(P)\n",
    "    \n",
    "    # Compute matrices/vectors for state-dependent parameter functions\n",
    "    I = np.eye(ns)\n",
    "    X = feature_matrix(states, phi_func)\n",
    "    G = np.diag([gm_func(s) for s in states])\n",
    "    L = np.diag([lm_func(s) for s in states])\n",
    "    ivec = np.array([i_func(s) for s in states])\n",
    "\n",
    "    # Compute intermediate values\n",
    "    # Need to be able to compute the distribution matrix...\n",
    "    D = np.eye(ns)                       # placeholder distribution matrix \n",
    "    d_i = np.dot(D, ivec)                # interest-weighted distribution \n",
    "    P_trace = pinv(I - mult(P, G, L))    # trace reweighting matrix\n",
    "    P_gm = I - np.dot(P, G)              # gamma-discounted occupancy \n",
    "    P_disc = I - np.dot(P_trace, P_gm)   # trace-weighted distribution\n",
    "    mvec = np.dot(pinv(I - P_disc), d_i) # emphasis vector\n",
    "    M = np.diag(mvec)                    # emphasis matrix\n",
    "\n",
    "    # Solve the system of equations\n",
    "    b = mult(X.T, M, P_trace, R)\n",
    "    A = mult(X.T, M, P_trace, P_gm, X)\n",
    "\n",
    "    return np.dot(pinv(A), b)"
   ]
  },
  {
   "cell_type": "code",
   "execution_count": 8,
   "metadata": {
    "collapsed": false
   },
   "outputs": [],
   "source": [
    "P = np.array([\n",
    "        [0, 0.5, 0, 0.5, 0],\n",
    "        [0.5, 0, 0.5, 0, 0],\n",
    "        [0, 0.5, 0, 0, 0.5],\n",
    "        [0, 0, 0, 1, 0],\n",
    "        [0, 0, 0, 0, 1],\n",
    "    ])\n",
    "R = [0,0,1/2,0,0]\n",
    "indices = state_indices(P) \n",
    "states = state_vectors(P) \n",
    "ns = len(states)\n",
    "terminals = [as_tuple(s) for s in find_terminals(P)]\n",
    "phi = Wrap(Bias(), terminals=terminals)\n",
    "# phi = Wrap(Identity(ns))\n",
    "gmfunc = Constant(1.0, terminals=terminals)\n",
    "lmfunc = Constant(0.0, terminals=terminals)\n",
    "ifunc = Constant(1.0, terminals=terminals)\n",
    "\n"
   ]
  },
  {
   "cell_type": "code",
   "execution_count": 9,
   "metadata": {
    "collapsed": false
   },
   "outputs": [
    {
     "data": {
      "text/plain": [
       "array([ 0.5])"
      ]
     },
     "execution_count": 9,
     "metadata": {},
     "output_type": "execute_result"
    }
   ],
   "source": [
    "etd_solution(P, R, phi, gmfunc, lmfunc, ifunc)"
   ]
  },
  {
   "cell_type": "code",
   "execution_count": 10,
   "metadata": {
    "collapsed": false
   },
   "outputs": [
    {
     "data": {
      "text/plain": [
       "array([ 0.5])"
      ]
     },
     "execution_count": 10,
     "metadata": {},
     "output_type": "execute_result"
    }
   ],
   "source": [
    "td_solution(P, R, phi, gmfunc, lmfunc)"
   ]
  },
  {
   "cell_type": "code",
   "execution_count": 18,
   "metadata": {
    "collapsed": false
   },
   "outputs": [],
   "source": [
    "# Expected number of visits\n",
    "nn = len(find_nonterminals(P))\n",
    "Q = P[:nn, :nn]\n",
    "N = pinv(np.eye(nn) - Q)"
   ]
  },
  {
   "cell_type": "code",
   "execution_count": 19,
   "metadata": {
    "collapsed": false
   },
   "outputs": [
    {
     "data": {
      "text/plain": [
       "array([ 1.,  2.,  1.])"
      ]
     },
     "execution_count": 19,
     "metadata": {},
     "output_type": "execute_result"
    }
   ],
   "source": [
    "N[1]"
   ]
  },
  {
   "cell_type": "code",
   "execution_count": null,
   "metadata": {
    "collapsed": true
   },
   "outputs": [],
   "source": []
  }
 ],
 "metadata": {
  "kernelspec": {
   "display_name": "Python 3",
   "language": "python",
   "name": "python3"
  },
  "language_info": {
   "codemirror_mode": {
    "name": "ipython",
    "version": 3
   },
   "file_extension": ".py",
   "mimetype": "text/x-python",
   "name": "python",
   "nbconvert_exporter": "python",
   "pygments_lexer": "ipython3",
   "version": "3.4.3"
  }
 },
 "nbformat": 4,
 "nbformat_minor": 0
}
