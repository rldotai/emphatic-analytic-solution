{
 "cells": [
  {
   "cell_type": "markdown",
   "metadata": {},
   "source": [
    "# TD/ETD Comparison on \"Random Walk\"\n",
    "\n",
    "This notebook contains some comparisons between TD and Emphatic TD on a simple problem under function approximation. \n",
    "\n",
    "We identify the solutions each algorithm converges to using the matrix operator equations for each algorithm, and compare them to the optimal approximation (as found by the least squares solution)."
   ]
  },
  {
   "cell_type": "code",
   "execution_count": 1,
   "metadata": {
    "collapsed": true
   },
   "outputs": [],
   "source": [
    "import numpy as np\n",
    "import pandas as pd\n",
    "from functools import reduce\n",
    "from numpy import dot\n",
    "from numpy.linalg import pinv\n",
    "\n",
    "from features import *\n",
    "from mdptools import *\n",
    "from solvers import td_solution, etd_solution, exact_solution\n",
    "from report import report\n",
    "\n",
    "from IPython.display import display"
   ]
  },
  {
   "cell_type": "code",
   "execution_count": 2,
   "metadata": {
    "collapsed": false
   },
   "outputs": [],
   "source": [
    "# Set pandas display options\n",
    "pd.set_option('precision', 4)\n",
    "\n",
    "# Set numpy display options\n",
    "np.set_printoptions(precision=4)"
   ]
  },
  {
   "cell_type": "markdown",
   "metadata": {},
   "source": [
    "# Random Walk\n",
    "\n",
    "An environment which represents a random walk along a 1-D chain.\n",
    "\n",
    "* Here, states are indexed from 0 to N-1, with states N and N-1 being the terminal states.\n",
    "    * We refer to state `N-1` as the \"rightmost\" state, and state `N-2` as the \"leftmost\" state.\n",
    "* In terminal states, the feature vector $x(s)$ is the zero vector, the reward $r(s)$ is zero, and $\\gamma(s) = \\lambda(s) = i(s) = 0$.\n",
    "* The environment is undiscounted, so $\\gamma(s) = 1$ for $s$ non-terminal.\n",
    "* For these experiments, $\\lambda(s) = 0$ for all states $s$.\n",
    "* Interest is constant and uniform for each state; $i(s) = 1$ for $s$ non-terminal."
   ]
  },
  {
   "cell_type": "code",
   "execution_count": 3,
   "metadata": {
    "collapsed": true
   },
   "outputs": [],
   "source": [
    "def random_walk_matrix(n, p=0.5):\n",
    "    \"\"\"\n",
    "    The transition matrix for a random walk with `n` states (including \n",
    "    two terminal states).\n",
    "    \"\"\"\n",
    "    ret = np.zeros((n,n))\n",
    "    # terminal state transitions\n",
    "    ret[-2:, -2:] = np.eye(2) \n",
    "    # transient states that can terminate\n",
    "    ret[0,-2] = p       # left side of chain\n",
    "    ret[0,1] = (1-p)\n",
    "    ret[-3,-4] = p      # right side of chain\n",
    "    ret[-3,-1] = (1-p)\n",
    "    # handle rest of transient states\n",
    "    for i in range(1, n-3):\n",
    "        ret[i][i-1] = p \n",
    "        ret[i][i+1] = (1-p)\n",
    "    return ret"
   ]
  },
  {
   "cell_type": "code",
   "execution_count": 4,
   "metadata": {
    "collapsed": false
   },
   "outputs": [],
   "source": [
    "# Common parts of problem specification\n",
    "num_states = 7\n",
    "pleft = 0.5\n",
    "pmat = random_walk_matrix(num_states, p=pleft)\n",
    "s0 = int2basis(2, 7)\n",
    "states = state_vectors(pmat)\n",
    "indices = state_indices(pmat)\n",
    "terminals = [as_tuple(s) for s in find_terminals(pmat)]\n",
    "gmfunc = Constant(1.0, terminals=terminals)\n",
    "lmfunc = Constant(0.0, terminals=terminals)\n",
    "ifunc = Constant(1.0, terminals=terminals)"
   ]
  },
  {
   "cell_type": "code",
   "execution_count": 5,
   "metadata": {
    "collapsed": false
   },
   "outputs": [
    {
     "data": {
      "text/plain": [
       "array([[ 0. ,  0.5,  0. ,  0. ,  0. ,  0.5,  0. ],\n",
       "       [ 0.5,  0. ,  0.5,  0. ,  0. ,  0. ,  0. ],\n",
       "       [ 0. ,  0.5,  0. ,  0.5,  0. ,  0. ,  0. ],\n",
       "       [ 0. ,  0. ,  0.5,  0. ,  0.5,  0. ,  0. ],\n",
       "       [ 0. ,  0. ,  0. ,  0.5,  0. ,  0. ,  0.5],\n",
       "       [ 0. ,  0. ,  0. ,  0. ,  0. ,  1. ,  0. ],\n",
       "       [ 0. ,  0. ,  0. ,  0. ,  0. ,  0. ,  1. ]])"
      ]
     },
     "metadata": {},
     "output_type": "display_data"
    }
   ],
   "source": [
    "display(pmat)"
   ]
  },
  {
   "cell_type": "markdown",
   "metadata": {},
   "source": [
    "## Constant Feature, Unit Reward on Right-Termination\n",
    "\n",
    "* reward for terminating in the rightmost state, `N-1`\n",
    "    * r(s) = 1 for $(s, a, s') = (N-3, right, N-1)$\n",
    "    * r(s) = 0 for all other transitions.\n",
    "* x(s) = 1 for x non-terminal"
   ]
  },
  {
   "cell_type": "code",
   "execution_count": 6,
   "metadata": {
    "collapsed": false
   },
   "outputs": [
    {
     "name": "stdout",
     "output_type": "stream",
     "text": [
      "Expected Reward:\n",
      "[ 0.   0.   0.   0.   0.5  0.   0. ]\n",
      "Feature Matrix:\n",
      "[[ 1.]\n",
      " [ 1.]\n",
      " [ 1.]\n",
      " [ 1.]\n",
      " [ 1.]\n",
      " [ 0.]\n",
      " [ 0.]]\n",
      "True Values:\n",
      "[ 0.1667  0.3333  0.5     0.6667  0.8333  0.      0.    ]\n",
      "Emphasis As Good or Better?: True\n"
     ]
    },
    {
     "data": {
      "text/html": [
       "<div style=\"max-height:1000px;max-width:1500px;overflow:auto;\">\n",
       "<table border=\"1\" class=\"dataframe\">\n",
       "  <thead>\n",
       "    <tr style=\"text-align: right;\">\n",
       "      <th></th>\n",
       "      <th>weights</th>\n",
       "      <th>MSE</th>\n",
       "      <th>values</th>\n",
       "    </tr>\n",
       "  </thead>\n",
       "  <tbody>\n",
       "    <tr>\n",
       "      <th>Least-Squares</th>\n",
       "      <td> [0.5]</td>\n",
       "      <td> 0.056</td>\n",
       "      <td> [0.5, 0.5, 0.5, 0.5, 0.5, 0.0, 0.0]</td>\n",
       "    </tr>\n",
       "    <tr>\n",
       "      <th>TD</th>\n",
       "      <td> [0.5]</td>\n",
       "      <td> 0.056</td>\n",
       "      <td> [0.5, 0.5, 0.5, 0.5, 0.5, 0.0, 0.0]</td>\n",
       "    </tr>\n",
       "    <tr>\n",
       "      <th>ETD</th>\n",
       "      <td> [0.5]</td>\n",
       "      <td> 0.056</td>\n",
       "      <td> [0.5, 0.5, 0.5, 0.5, 0.5, 0.0, 0.0]</td>\n",
       "    </tr>\n",
       "  </tbody>\n",
       "</table>\n",
       "</div>"
      ],
      "text/plain": [
       "              weights    MSE                               values\n",
       "Least-Squares   [0.5]  0.056  [0.5, 0.5, 0.5, 0.5, 0.5, 0.0, 0.0]\n",
       "TD              [0.5]  0.056  [0.5, 0.5, 0.5, 0.5, 0.5, 0.0, 0.0]\n",
       "ETD             [0.5]  0.056  [0.5, 0.5, 0.5, 0.5, 0.5, 0.0, 0.0]"
      ]
     },
     "metadata": {},
     "output_type": "display_data"
    }
   ],
   "source": [
    "rvec = np.zeros(num_states)\n",
    "rvec[-3] = (1-pleft)\n",
    "phi = Wrap(Bias(), terminals=terminals)\n",
    "\n",
    "full_df = report(pmat, rvec, s0, phi, gmfunc, lmfunc, ifunc)\n",
    "df = full_df[[\"weights\", \"MSE\"]]\n",
    "display(full_df)"
   ]
  },
  {
   "cell_type": "markdown",
   "metadata": {},
   "source": [
    "## Decreasing Feature, Unit Reward on Left-Termination\n",
    "\n",
    "* reward for terminating in the rightmost state, `N-1`\n",
    "    * r(s) = 1 for $(s, a, s') = (1, right, 0)$\n",
    "    * r(s) = 0 for all other transitions.\n",
    "* x(s) = N - s - 1 for s non-terminal"
   ]
  },
  {
   "cell_type": "code",
   "execution_count": 7,
   "metadata": {
    "collapsed": false
   },
   "outputs": [
    {
     "name": "stdout",
     "output_type": "stream",
     "text": [
      "Expected Reward:\n",
      "[ 0.5  0.   0.   0.   0.   0.   0. ]\n",
      "Feature Matrix:\n",
      "[[ 1.]\n",
      " [ 2.]\n",
      " [ 3.]\n",
      " [ 4.]\n",
      " [ 5.]\n",
      " [ 0.]\n",
      " [ 0.]]\n",
      "True Values:\n",
      "[ 0.8333  0.6667  0.5     0.3333  0.1667  0.      0.    ]\n",
      "Emphasis As Good or Better?: True\n"
     ]
    },
    {
     "data": {
      "text/html": [
       "<div style=\"max-height:1000px;max-width:1500px;overflow:auto;\">\n",
       "<table border=\"1\" class=\"dataframe\">\n",
       "  <thead>\n",
       "    <tr style=\"text-align: right;\">\n",
       "      <th></th>\n",
       "      <th>weights</th>\n",
       "      <th>MSE</th>\n",
       "      <th>values</th>\n",
       "    </tr>\n",
       "  </thead>\n",
       "  <tbody>\n",
       "    <tr>\n",
       "      <th>Least-Squares</th>\n",
       "      <td>  [0.106060606061]</td>\n",
       "      <td> 0.182</td>\n",
       "      <td> [0.106, 0.212, 0.318, 0.424, 0.53, 0.0, 0.0]</td>\n",
       "    </tr>\n",
       "    <tr>\n",
       "      <th>TD</th>\n",
       "      <td> [0.0333333333333]</td>\n",
       "      <td> 0.240</td>\n",
       "      <td>  [0.033, 0.067, 0.1, 0.133, 0.167, 0.0, 0.0]</td>\n",
       "    </tr>\n",
       "    <tr>\n",
       "      <th>ETD</th>\n",
       "      <td> [0.0333333333333]</td>\n",
       "      <td> 0.240</td>\n",
       "      <td>  [0.033, 0.067, 0.1, 0.133, 0.167, 0.0, 0.0]</td>\n",
       "    </tr>\n",
       "  </tbody>\n",
       "</table>\n",
       "</div>"
      ],
      "text/plain": [
       "                         weights    MSE  \\\n",
       "Least-Squares   [0.106060606061]  0.182   \n",
       "TD             [0.0333333333333]  0.240   \n",
       "ETD            [0.0333333333333]  0.240   \n",
       "\n",
       "                                                     values  \n",
       "Least-Squares  [0.106, 0.212, 0.318, 0.424, 0.53, 0.0, 0.0]  \n",
       "TD              [0.033, 0.067, 0.1, 0.133, 0.167, 0.0, 0.0]  \n",
       "ETD             [0.033, 0.067, 0.1, 0.133, 0.167, 0.0, 0.0]  "
      ]
     },
     "metadata": {},
     "output_type": "display_data"
    }
   ],
   "source": [
    "rvec = np.zeros(num_states)\n",
    "rvec[0] = pleft\n",
    "phi = Wrap(Unary2Int(num_states), terminals=terminals)\n",
    "\n",
    "full_df = report(pmat, rvec, s0, phi, gmfunc, lmfunc, ifunc)\n",
    "df = full_df[[\"weights\", \"MSE\"]]\n",
    "\n",
    "# Reduce precision of `values`\n",
    "full_df['values'] = full_df['values'].apply(lambda a: np.around(a, decimals=3))\n",
    "display(full_df)"
   ]
  },
  {
   "cell_type": "markdown",
   "metadata": {},
   "source": [
    "## Constant Reward, Constant Feature"
   ]
  },
  {
   "cell_type": "markdown",
   "metadata": {},
   "source": [
    "* r(s) = 1 for s non-terminal\n",
    "* x(s) = 1 for x non-terminal\n",
    "\n",
    "This effectively calculates the expected number of steps to termination."
   ]
  },
  {
   "cell_type": "code",
   "execution_count": 8,
   "metadata": {
    "collapsed": false
   },
   "outputs": [
    {
     "name": "stdout",
     "output_type": "stream",
     "text": [
      "Expected Reward:\n",
      "[ 1.  1.  1.  1.  1.  0.  0.]\n",
      "Feature Matrix:\n",
      "[[ 1.]\n",
      " [ 1.]\n",
      " [ 1.]\n",
      " [ 1.]\n",
      " [ 1.]\n",
      " [ 0.]\n",
      " [ 0.]]\n",
      "True Values:\n",
      "[ 5.  8.  9.  8.  5.  0.  0.]\n",
      "Emphasis As Good or Better?: True\n"
     ]
    },
    {
     "data": {
      "text/html": [
       "<div style=\"max-height:1000px;max-width:1500px;overflow:auto;\">\n",
       "<table border=\"1\" class=\"dataframe\">\n",
       "  <thead>\n",
       "    <tr style=\"text-align: right;\">\n",
       "      <th></th>\n",
       "      <th>weights</th>\n",
       "      <th>MSE</th>\n",
       "      <th>values</th>\n",
       "    </tr>\n",
       "  </thead>\n",
       "  <tbody>\n",
       "    <tr>\n",
       "      <th>Least-Squares</th>\n",
       "      <td>           [7.0]</td>\n",
       "      <td> 2.800</td>\n",
       "      <td>               [7.0, 7.0, 7.0, 7.0, 7.0, 0.0, 0.0]</td>\n",
       "    </tr>\n",
       "    <tr>\n",
       "      <th>TD</th>\n",
       "      <td>           [9.0]</td>\n",
       "      <td> 6.800</td>\n",
       "      <td>               [9.0, 9.0, 9.0, 9.0, 9.0, 0.0, 0.0]</td>\n",
       "    </tr>\n",
       "    <tr>\n",
       "      <th>ETD</th>\n",
       "      <td> [7.66666666667]</td>\n",
       "      <td> 3.244</td>\n",
       "      <td> [7.66666666667, 7.66666666667, 7.66666666667, ...</td>\n",
       "    </tr>\n",
       "  </tbody>\n",
       "</table>\n",
       "</div>"
      ],
      "text/plain": [
       "                       weights    MSE  \\\n",
       "Least-Squares            [7.0]  2.800   \n",
       "TD                       [9.0]  6.800   \n",
       "ETD            [7.66666666667]  3.244   \n",
       "\n",
       "                                                          values  \n",
       "Least-Squares                [7.0, 7.0, 7.0, 7.0, 7.0, 0.0, 0.0]  \n",
       "TD                           [9.0, 9.0, 9.0, 9.0, 9.0, 0.0, 0.0]  \n",
       "ETD            [7.66666666667, 7.66666666667, 7.66666666667, ...  "
      ]
     },
     "metadata": {},
     "output_type": "display_data"
    }
   ],
   "source": [
    "rfunc =  Constant(1.0, terminals=terminals)\n",
    "rvec = np.array([rfunc(s) for s in states])\n",
    "phi = Wrap(Bias(), terminals=terminals)\n",
    "\n",
    "full_df = report(pmat, rvec, s0, phi, gmfunc, lmfunc, ifunc)\n",
    "df = full_df[[\"weights\", \"MSE\"]]\n",
    "\n",
    "display(full_df)"
   ]
  },
  {
   "cell_type": "code",
   "execution_count": 9,
   "metadata": {
    "collapsed": false
   },
   "outputs": [
    {
     "name": "stdout",
     "output_type": "stream",
     "text": [
      "\\begin{tabular}{llr}\n",
      "\\toprule\n",
      "{} &          weights &    MSE \\\\\n",
      "\\midrule\n",
      "Least-Squares &            [7.0] &  2.800 \\\\\n",
      "TD            &            [9.0] &  6.800 \\\\\n",
      "ETD           &  [7.66666666667] &  3.244 \\\\\n",
      "\\bottomrule\n",
      "\\end{tabular}\n",
      "\n"
     ]
    }
   ],
   "source": [
    "print(df.to_latex())"
   ]
  },
  {
   "cell_type": "markdown",
   "metadata": {},
   "source": [
    "## Increasing Reward, Constant Feature"
   ]
  },
  {
   "cell_type": "markdown",
   "metadata": {},
   "source": [
    "* r(s) = s+1 for s non-terminal\n",
    "* x(s) = 1 for x non-terminal"
   ]
  },
  {
   "cell_type": "code",
   "execution_count": 10,
   "metadata": {
    "collapsed": false
   },
   "outputs": [
    {
     "name": "stdout",
     "output_type": "stream",
     "text": [
      "Expected Reward:\n",
      "[ 1.  2.  3.  4.  5.  0.  0.]\n",
      "Feature Matrix:\n",
      "[[ 1.]\n",
      " [ 1.]\n",
      " [ 1.]\n",
      " [ 1.]\n",
      " [ 1.]\n",
      " [ 0.]\n",
      " [ 0.]]\n",
      "True Values:\n",
      "[ 11.6667  21.3333  27.      26.6667  18.3333   0.       0.    ]\n",
      "Emphasis As Good or Better?: True\n"
     ]
    },
    {
     "data": {
      "text/html": [
       "<div style=\"max-height:1000px;max-width:1500px;overflow:auto;\">\n",
       "<table border=\"1\" class=\"dataframe\">\n",
       "  <thead>\n",
       "    <tr style=\"text-align: right;\">\n",
       "      <th></th>\n",
       "      <th>weights</th>\n",
       "      <th>MSE</th>\n",
       "      <th>values</th>\n",
       "    </tr>\n",
       "  </thead>\n",
       "  <tbody>\n",
       "    <tr>\n",
       "      <th>Least-Squares</th>\n",
       "      <td> [21.0]</td>\n",
       "      <td> 32.489</td>\n",
       "      <td> [21.0, 21.0, 21.0, 21.0, 21.0, 0.0, 0.0]</td>\n",
       "    </tr>\n",
       "    <tr>\n",
       "      <th>TD</th>\n",
       "      <td> [27.0]</td>\n",
       "      <td> 68.489</td>\n",
       "      <td> [27.0, 27.0, 27.0, 27.0, 27.0, 0.0, 0.0]</td>\n",
       "    </tr>\n",
       "    <tr>\n",
       "      <th>ETD</th>\n",
       "      <td> [23.0]</td>\n",
       "      <td> 36.489</td>\n",
       "      <td> [23.0, 23.0, 23.0, 23.0, 23.0, 0.0, 0.0]</td>\n",
       "    </tr>\n",
       "  </tbody>\n",
       "</table>\n",
       "</div>"
      ],
      "text/plain": [
       "              weights     MSE                                    values\n",
       "Least-Squares  [21.0]  32.489  [21.0, 21.0, 21.0, 21.0, 21.0, 0.0, 0.0]\n",
       "TD             [27.0]  68.489  [27.0, 27.0, 27.0, 27.0, 27.0, 0.0, 0.0]\n",
       "ETD            [23.0]  36.489  [23.0, 23.0, 23.0, 23.0, 23.0, 0.0, 0.0]"
      ]
     },
     "metadata": {},
     "output_type": "display_data"
    }
   ],
   "source": [
    "_rfunc = lambda x: basis2int(x) + 1\n",
    "rfunc =  Parameter(_rfunc, terminals=terminals)\n",
    "rvec = np.array([rfunc(s) for s in states])\n",
    "phi = Wrap(Bias(), terminals=terminals)\n",
    "\n",
    "full_df = report(pmat, rvec, s0, phi, gmfunc, lmfunc, ifunc)\n",
    "df = full_df[[\"weights\", \"MSE\"]]\n",
    "\n",
    "display(full_df)"
   ]
  },
  {
   "cell_type": "code",
   "execution_count": 11,
   "metadata": {
    "collapsed": false
   },
   "outputs": [
    {
     "name": "stdout",
     "output_type": "stream",
     "text": [
      "\\begin{tabular}{llr}\n",
      "\\toprule\n",
      "{} & weights &     MSE \\\\\n",
      "\\midrule\n",
      "Least-Squares &  [21.0] &  32.489 \\\\\n",
      "TD            &  [27.0] &  68.489 \\\\\n",
      "ETD           &  [23.0] &  36.489 \\\\\n",
      "\\bottomrule\n",
      "\\end{tabular}\n",
      "\n"
     ]
    }
   ],
   "source": [
    "print(df.to_latex())"
   ]
  },
  {
   "cell_type": "markdown",
   "metadata": {},
   "source": [
    "## Decreasing Reward, Constant Feature"
   ]
  },
  {
   "cell_type": "markdown",
   "metadata": {},
   "source": [
    "* r(s) = N-1-s for s non-terminal\n",
    "* x(s) = 1 for x non-terminal"
   ]
  },
  {
   "cell_type": "code",
   "execution_count": 12,
   "metadata": {
    "collapsed": false
   },
   "outputs": [
    {
     "name": "stdout",
     "output_type": "stream",
     "text": [
      "Expected Reward:\n",
      "[ 6.  5.  4.  3.  2.  0.  0.]\n",
      "Feature Matrix:\n",
      "[[ 1.]\n",
      " [ 1.]\n",
      " [ 1.]\n",
      " [ 1.]\n",
      " [ 1.]\n",
      " [ 0.]\n",
      " [ 0.]]\n",
      "True Values:\n",
      "[ 23.3333  34.6667  36.      29.3333  16.6667   0.       0.    ]\n",
      "Emphasis As Good or Better?: True\n"
     ]
    },
    {
     "data": {
      "text/html": [
       "<div style=\"max-height:1000px;max-width:1500px;overflow:auto;\">\n",
       "<table border=\"1\" class=\"dataframe\">\n",
       "  <thead>\n",
       "    <tr style=\"text-align: right;\">\n",
       "      <th></th>\n",
       "      <th>weights</th>\n",
       "      <th>MSE</th>\n",
       "      <th>values</th>\n",
       "    </tr>\n",
       "  </thead>\n",
       "  <tbody>\n",
       "    <tr>\n",
       "      <th>Least-Squares</th>\n",
       "      <td>          [28.0]</td>\n",
       "      <td>  52.089</td>\n",
       "      <td>          [28.0, 28.0, 28.0, 28.0, 28.0, 0.0, 0.0]</td>\n",
       "    </tr>\n",
       "    <tr>\n",
       "      <th>TD</th>\n",
       "      <td>          [36.0]</td>\n",
       "      <td> 116.089</td>\n",
       "      <td>          [36.0, 36.0, 36.0, 36.0, 36.0, 0.0, 0.0]</td>\n",
       "    </tr>\n",
       "    <tr>\n",
       "      <th>ETD</th>\n",
       "      <td> [30.6666666667]</td>\n",
       "      <td>  59.200</td>\n",
       "      <td> [30.6666666667, 30.6666666667, 30.6666666667, ...</td>\n",
       "    </tr>\n",
       "  </tbody>\n",
       "</table>\n",
       "</div>"
      ],
      "text/plain": [
       "                       weights      MSE  \\\n",
       "Least-Squares           [28.0]   52.089   \n",
       "TD                      [36.0]  116.089   \n",
       "ETD            [30.6666666667]   59.200   \n",
       "\n",
       "                                                          values  \n",
       "Least-Squares           [28.0, 28.0, 28.0, 28.0, 28.0, 0.0, 0.0]  \n",
       "TD                      [36.0, 36.0, 36.0, 36.0, 36.0, 0.0, 0.0]  \n",
       "ETD            [30.6666666667, 30.6666666667, 30.6666666667, ...  "
      ]
     },
     "metadata": {},
     "output_type": "display_data"
    }
   ],
   "source": [
    "_rfunc = lambda x: (num_states - basis2int(x) - 1)\n",
    "rfunc =  Parameter(_rfunc, terminals=terminals)\n",
    "rvec = np.array([rfunc(s) for s in states])\n",
    "phi = Wrap(Bias(), terminals=terminals)\n",
    "\n",
    "full_df = report(pmat, rvec, s0, phi, gmfunc, lmfunc, ifunc)\n",
    "df = full_df[[\"weights\", \"MSE\"]]\n",
    "\n",
    "display(full_df)"
   ]
  },
  {
   "cell_type": "code",
   "execution_count": 13,
   "metadata": {
    "collapsed": false
   },
   "outputs": [
    {
     "name": "stdout",
     "output_type": "stream",
     "text": [
      "\\begin{tabular}{llr}\n",
      "\\toprule\n",
      "{} &          weights &      MSE \\\\\n",
      "\\midrule\n",
      "Least-Squares &           [28.0] &   52.089 \\\\\n",
      "TD            &           [36.0] &  116.089 \\\\\n",
      "ETD           &  [30.6666666667] &   59.200 \\\\\n",
      "\\bottomrule\n",
      "\\end{tabular}\n",
      "\n"
     ]
    }
   ],
   "source": [
    "print(df.to_latex())"
   ]
  },
  {
   "cell_type": "markdown",
   "metadata": {},
   "source": [
    "## Constant Reward, Increasing Feature"
   ]
  },
  {
   "cell_type": "markdown",
   "metadata": {},
   "source": [
    "* r(s) = 1 for s non-terminal\n",
    "* x(s) = s+1 for s non-terminal"
   ]
  },
  {
   "cell_type": "code",
   "execution_count": 14,
   "metadata": {
    "collapsed": false
   },
   "outputs": [
    {
     "name": "stdout",
     "output_type": "stream",
     "text": [
      "Expected Reward:\n",
      "[ 1.  1.  1.  1.  1.  0.  0.]\n",
      "Feature Matrix:\n",
      "[[ 1.]\n",
      " [ 2.]\n",
      " [ 3.]\n",
      " [ 4.]\n",
      " [ 5.]\n",
      " [ 0.]\n",
      " [ 0.]]\n",
      "True Values:\n",
      "[ 5.  8.  9.  8.  5.  0.  0.]\n",
      "Emphasis As Good or Better?: False\n"
     ]
    },
    {
     "data": {
      "text/html": [
       "<div style=\"max-height:1000px;max-width:1500px;overflow:auto;\">\n",
       "<table border=\"1\" class=\"dataframe\">\n",
       "  <thead>\n",
       "    <tr style=\"text-align: right;\">\n",
       "      <th></th>\n",
       "      <th>weights</th>\n",
       "      <th>MSE</th>\n",
       "      <th>values</th>\n",
       "    </tr>\n",
       "  </thead>\n",
       "  <tbody>\n",
       "    <tr>\n",
       "      <th>Least-Squares</th>\n",
       "      <td> [1.90909090909]</td>\n",
       "      <td> 11.709</td>\n",
       "      <td> [1.90909090909, 3.81818181818, 5.72727272727, ...</td>\n",
       "    </tr>\n",
       "    <tr>\n",
       "      <th>TD</th>\n",
       "      <td>           [1.8]</td>\n",
       "      <td> 11.840</td>\n",
       "      <td>               [1.8, 3.6, 5.4, 7.2, 9.0, 0.0, 0.0]</td>\n",
       "    </tr>\n",
       "    <tr>\n",
       "      <th>ETD</th>\n",
       "      <td> [1.53333333333]</td>\n",
       "      <td> 13.262</td>\n",
       "      <td> [1.53333333333, 3.06666666667, 4.6, 6.13333333...</td>\n",
       "    </tr>\n",
       "  </tbody>\n",
       "</table>\n",
       "</div>"
      ],
      "text/plain": [
       "                       weights     MSE  \\\n",
       "Least-Squares  [1.90909090909]  11.709   \n",
       "TD                       [1.8]  11.840   \n",
       "ETD            [1.53333333333]  13.262   \n",
       "\n",
       "                                                          values  \n",
       "Least-Squares  [1.90909090909, 3.81818181818, 5.72727272727, ...  \n",
       "TD                           [1.8, 3.6, 5.4, 7.2, 9.0, 0.0, 0.0]  \n",
       "ETD            [1.53333333333, 3.06666666667, 4.6, 6.13333333...  "
      ]
     },
     "metadata": {},
     "output_type": "display_data"
    }
   ],
   "source": [
    "rfunc =  Constant(1.0, terminals=terminals)\n",
    "rvec = np.array([rfunc(s) for s in states])\n",
    "phi = Wrap(Unary2Int(num_states), terminals=terminals)\n",
    "\n",
    "full_df = report(pmat, rvec, s0, phi, gmfunc, lmfunc, ifunc)\n",
    "df = full_df[[\"weights\", \"MSE\"]]\n",
    "\n",
    "display(full_df)"
   ]
  },
  {
   "cell_type": "markdown",
   "metadata": {},
   "source": [
    "## Decreasing Reward, Increasing Feature"
   ]
  },
  {
   "cell_type": "markdown",
   "metadata": {},
   "source": [
    "* r(s) = N-1-s for s non-terminal\n",
    "* x(s) = s+1 for s non-terminal"
   ]
  },
  {
   "cell_type": "code",
   "execution_count": 15,
   "metadata": {
    "collapsed": false
   },
   "outputs": [
    {
     "name": "stdout",
     "output_type": "stream",
     "text": [
      "Expected Reward:\n",
      "[ 6.  5.  4.  3.  2.  0.  0.]\n",
      "Feature Matrix:\n",
      "[[ 1.]\n",
      " [ 2.]\n",
      " [ 3.]\n",
      " [ 4.]\n",
      " [ 5.]\n",
      " [ 0.]\n",
      " [ 0.]]\n",
      "True Values:\n",
      "[ 23.3333  34.6667  36.      29.3333  16.6667   0.       0.    ]\n",
      "Emphasis As Good or Better?: False\n"
     ]
    },
    {
     "data": {
      "text/html": [
       "<div style=\"max-height:1000px;max-width:1500px;overflow:auto;\">\n",
       "<table border=\"1\" class=\"dataframe\">\n",
       "  <thead>\n",
       "    <tr style=\"text-align: right;\">\n",
       "      <th></th>\n",
       "      <th>weights</th>\n",
       "      <th>MSE</th>\n",
       "      <th>values</th>\n",
       "    </tr>\n",
       "  </thead>\n",
       "  <tbody>\n",
       "    <tr>\n",
       "      <th>Least-Squares</th>\n",
       "      <td> [7.29696969697]</td>\n",
       "      <td> 250.385</td>\n",
       "      <td> [7.29696969697, 14.5939393939, 21.8909090909, ...</td>\n",
       "    </tr>\n",
       "    <tr>\n",
       "      <th>TD</th>\n",
       "      <td>           [6.4]</td>\n",
       "      <td> 259.236</td>\n",
       "      <td>           [6.4, 12.8, 19.2, 25.6, 32.0, 0.0, 0.0]</td>\n",
       "    </tr>\n",
       "    <tr>\n",
       "      <th>ETD</th>\n",
       "      <td> [5.36296296296]</td>\n",
       "      <td> 291.530</td>\n",
       "      <td> [5.36296296296, 10.7259259259, 16.0888888889, ...</td>\n",
       "    </tr>\n",
       "  </tbody>\n",
       "</table>\n",
       "</div>"
      ],
      "text/plain": [
       "                       weights      MSE  \\\n",
       "Least-Squares  [7.29696969697]  250.385   \n",
       "TD                       [6.4]  259.236   \n",
       "ETD            [5.36296296296]  291.530   \n",
       "\n",
       "                                                          values  \n",
       "Least-Squares  [7.29696969697, 14.5939393939, 21.8909090909, ...  \n",
       "TD                       [6.4, 12.8, 19.2, 25.6, 32.0, 0.0, 0.0]  \n",
       "ETD            [5.36296296296, 10.7259259259, 16.0888888889, ...  "
      ]
     },
     "metadata": {},
     "output_type": "display_data"
    }
   ],
   "source": [
    "_rfunc = lambda x: (num_states - basis2int(x) - 1)\n",
    "rfunc =  Parameter(_rfunc, terminals=terminals)\n",
    "rvec = np.array([rfunc(s) for s in states])\n",
    "phi = Wrap(Unary2Int(num_states), terminals=terminals)\n",
    "\n",
    "full_df = report(pmat, rvec, s0, phi, gmfunc, lmfunc, ifunc)\n",
    "df = full_df[[\"weights\", \"MSE\"]]\n",
    "\n",
    "display(full_df)"
   ]
  },
  {
   "cell_type": "code",
   "execution_count": 16,
   "metadata": {
    "collapsed": false
   },
   "outputs": [
    {
     "name": "stdout",
     "output_type": "stream",
     "text": [
      "\\begin{tabular}{llr}\n",
      "\\toprule\n",
      "{} &          weights &      MSE \\\\\n",
      "\\midrule\n",
      "Least-Squares &  [7.29696969697] &  250.385 \\\\\n",
      "TD            &            [6.4] &  259.236 \\\\\n",
      "ETD           &  [5.36296296296] &  291.530 \\\\\n",
      "\\bottomrule\n",
      "\\end{tabular}\n",
      "\n"
     ]
    }
   ],
   "source": [
    "print(df.to_latex())"
   ]
  }
 ],
 "metadata": {
  "kernelspec": {
   "display_name": "Python 3",
   "language": "python",
   "name": "python3"
  },
  "language_info": {
   "codemirror_mode": {
    "name": "ipython",
    "version": 3
   },
   "file_extension": ".py",
   "mimetype": "text/x-python",
   "name": "python",
   "nbconvert_exporter": "python",
   "pygments_lexer": "ipython3",
   "version": "3.4.3"
  }
 },
 "nbformat": 4,
 "nbformat_minor": 0
}
